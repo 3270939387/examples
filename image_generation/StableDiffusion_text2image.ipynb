{
 "cells": [
  {
   "cell_type": "markdown",
   "source": [
    "StableDiffusion:Generate images from any sentences that you can imagine"
   ],
   "metadata": {
    "collapsed": false
   },
   "id": "ef79dc4bd46859ab"
  },
  {
   "cell_type": "raw",
   "source": [
    " Stablediffusion is an incredible platform from which you can put a whatever-you-like sentence into the prompt line and then get a highly-related image."
   ],
   "metadata": {
    "collapsed": false
   },
   "id": "dfd524dfb609c45b"
  },
  {
   "cell_type": "raw",
   "source": [
    " Thanks to towhee operator,a magic neural network.There is no need for you to learn any complex  skills about transforming the unstructured data to structured data for computer's convenience.\n",
    " \n",
    " You can see a sample op as follows,with the towhee operator,all you need to do is to come up with a sentence and type it!"
   ],
   "metadata": {
    "collapsed": false
   },
   "id": "204b94314e20d76c"
  },
  {
   "cell_type": "code",
   "execution_count": null,
   "outputs": [],
   "source": [
    "import logging\n",
    "import torch\n",
    "from diffusers import StableDiffusionPipeline, DPMSolverMultistepSchedule\n",
    "from towhee.operator import PyOperator\n",
    "\n",
    "log = logging.getLogger(PyOperator)\n",
    "\n",
    "class StableDiffusion(PyOperator):\n",
    "    def __init__(self,model_id='stabilityai/stable-diffusion-2-1',pipe='StableDiffusionPipeline.from_pretrained(model_id, torch_dtype=torch.float32'):\n",
    "        self._model_id=model_id\n",
    "        self._pipe = pipe\n",
    "\n",
    "    def __call__(self, prompt:str):\n",
    "        # pipe.scheduler = DPMSolverMultistepScheduler.from_config(pipe.scheduler.config)\n",
    "        image = pipe(prompt).images[0]\n",
    "        return image"
   ],
   "metadata": {
    "collapsed": false
   },
   "id": "61e1b5c493d9e96c"
  },
  {
   "cell_type": "markdown",
   "source": [
    "If you type 'an orange cat',you will obtain a cute cat picture:"
   ],
   "metadata": {
    "collapsed": false
   },
   "id": "5409b976e2ab5a4a"
  },
  {
   "cell_type": "markdown",
   "source": [
    "![cat.png](\"C:/Users/常潇尹/Desktopan orange cat.png\")"
   ],
   "metadata": {
    "collapsed": false
   },
   "id": "136c952d6ae0fbe4"
  },
  {
   "cell_type": "markdown",
   "source": [],
   "metadata": {
    "collapsed": false
   },
   "id": "f1014dab484af0f7"
  }
 ],
 "metadata": {
  "kernelspec": {
   "display_name": "Python 3",
   "language": "python",
   "name": "python3"
  },
  "language_info": {
   "codemirror_mode": {
    "name": "ipython",
    "version": 2
   },
   "file_extension": ".py",
   "mimetype": "text/x-python",
   "name": "python",
   "nbconvert_exporter": "python",
   "pygments_lexer": "ipython2",
   "version": "2.7.6"
  }
 },
 "nbformat": 4,
 "nbformat_minor": 5
}
