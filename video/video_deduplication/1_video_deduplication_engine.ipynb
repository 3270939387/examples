{
 "cells": [
  {
   "cell_type": "markdown",
   "id": "e06275b8",
   "metadata": {},
   "source": [
    "# How to Build a Video Deduplication System\n",
    "\n",
    "This notebook illustrates how to build a video deduplication engine from scratch using [Milvus](https://milvus.io/) and [Towhee](https://towhee.io/).\n",
    "\n",
    "\n",
    "**What is Video Deduplication?**\n",
    "\n",
    "Video Deduplication, also known as Video Copy Detection or Video Identification by Fingerprinting, means that given a query video, you need to find or retrieval the videos with the same content with query video.  \n",
    "Due to the popularity of Internet-based video sharing services, the volume of video content on the Web has reached unprecedented scales. Besides copyright protection, a video copy detection system is important in applications like video classification, tracking, filtering and recommendation.  \n",
    "The problem is particularly hard in the case of content-based video retrieval, where, given a query video, one needs to calculate its similarity with all videos in a database to retrieve and rank the videos based on relevance. However, using Milvus and Towhee can help you build a Video Deduplication System easily.\n",
    "\n",
    "**What are Milvus & Towhee?**\n",
    "\n",
    "- Milvus is the most advanced open-source vector database built for AI applications and supports nearest neighbor embedding search across tens of millions of entries.\n",
    "- Towhee is a framework that provides ETL for unstructured data using SoTA machine learning models.\n",
    "\n",
    "We'll go through video retrieval procedures and evaluate the performance. Moreover, we managed to make the core functionality as simple as few lines of code, with which you can start hacking your own video deduplication engine.\n",
    "\n"
   ]
  },
  {
   "cell_type": "markdown",
   "id": "9d953a08",
   "metadata": {},
   "source": [
    "## Preparation\n",
    "\n",
    "### Install packages\n",
    "\n",
    "Make sure you have installed required python packages:\n",
    "\n",
    "| package |\n",
    "| -- |\n",
    "| pymilvus |\n",
    "| towhee |\n",
    "| pillow |\n",
    "| ipython |\n",
    "| pandas |"
   ]
  },
  {
   "cell_type": "code",
   "execution_count": 1,
   "id": "469282e9",
   "metadata": {},
   "outputs": [],
   "source": [
    "! python -m pip install -q pymilvus towhee pillow ipython pandas"
   ]
  },
  {
   "cell_type": "markdown",
   "id": "e4f5a71c",
   "metadata": {},
   "source": [
    "### Prepare the data\n",
    "\n",
    "First, we need to prepare the dataset and Milvus environment.   \n",
    "\n",
    "[VCDB:A Large-Scale Database for Partial Copy Detection in Videos](https://fvl.fudan.edu.cn/dataset/vcdb/list.htm) is a popular dataset for video deduplication task. It contains over 100,000 Web videos, and more than 9,000 copied segment pairs found through careful manual annotation.   \n",
    "VCDB consists of two parts: the core dataset and the background dataset. The core dataset (528 videos, approximately 27 hours) was collected using 28 carefully selected queries from YouTube and MetaCafe. After extensive manual annotation, 9,236 pairs of partial copies were found. Major transformations between the copies include \"insertion of patterns\", \"camcording\", \"scale change\", \"picture in picture\", etc. \n",
    "\n",
    "In this tutorial, we prepare a subset of VCDB core dataset, which contains 20 events, and each of them contains about 5 videos with the same or similar content. This takes about 1.3G of space.\n",
    "\n",
    "Let's take a quick look"
   ]
  },
  {
   "cell_type": "code",
   "execution_count": 2,
   "id": "22543226",
   "metadata": {},
   "outputs": [],
   "source": [
    "! curl -L https://github.com/towhee-io/examples/releases/download/data/VCDB_core_sample.zip -O\n",
    "! unzip -q -o VCDB_core_sample.zip"
   ]
  },
  {
   "cell_type": "code",
   "execution_count": 3,
   "id": "091912bc",
   "metadata": {
    "scrolled": true
   },
   "outputs": [
    {
     "data": {
      "text/html": [
       "<div>\n",
       "<style scoped>\n",
       "    .dataframe tbody tr th:only-of-type {\n",
       "        vertical-align: middle;\n",
       "    }\n",
       "\n",
       "    .dataframe tbody tr th {\n",
       "        vertical-align: top;\n",
       "    }\n",
       "\n",
       "    .dataframe thead th {\n",
       "        text-align: right;\n",
       "    }\n",
       "</style>\n",
       "<table border=\"1\" class=\"dataframe\">\n",
       "  <thead>\n",
       "    <tr style=\"text-align: right;\">\n",
       "      <th></th>\n",
       "      <th>path</th>\n",
       "      <th>event</th>\n",
       "      <th>id</th>\n",
       "    </tr>\n",
       "  </thead>\n",
       "  <tbody>\n",
       "    <tr>\n",
       "      <th>0</th>\n",
       "      <td>VCDB_core_sample/obama_kicks_door/14c81d68b80d...</td>\n",
       "      <td>obama_kicks_door</td>\n",
       "      <td>1</td>\n",
       "    </tr>\n",
       "    <tr>\n",
       "      <th>1</th>\n",
       "      <td>VCDB_core_sample/obama_kicks_door/f26a39de8e8e...</td>\n",
       "      <td>obama_kicks_door</td>\n",
       "      <td>2</td>\n",
       "    </tr>\n",
       "    <tr>\n",
       "      <th>2</th>\n",
       "      <td>VCDB_core_sample/obama_kicks_door/1f73466d86f0...</td>\n",
       "      <td>obama_kicks_door</td>\n",
       "      <td>3</td>\n",
       "    </tr>\n",
       "    <tr>\n",
       "      <th>3</th>\n",
       "      <td>VCDB_core_sample/obama_kicks_door/df0c9e9664cf...</td>\n",
       "      <td>obama_kicks_door</td>\n",
       "      <td>4</td>\n",
       "    </tr>\n",
       "    <tr>\n",
       "      <th>4</th>\n",
       "      <td>VCDB_core_sample/obama_kicks_door/4df943d49033...</td>\n",
       "      <td>obama_kicks_door</td>\n",
       "      <td>5</td>\n",
       "    </tr>\n",
       "    <tr>\n",
       "      <th>...</th>\n",
       "      <td>...</td>\n",
       "      <td>...</td>\n",
       "      <td>...</td>\n",
       "    </tr>\n",
       "    <tr>\n",
       "      <th>90</th>\n",
       "      <td>VCDB_core_sample/the_last_samurai_last_battle/...</td>\n",
       "      <td>the_last_samurai_last_battle</td>\n",
       "      <td>91</td>\n",
       "    </tr>\n",
       "    <tr>\n",
       "      <th>91</th>\n",
       "      <td>VCDB_core_sample/the_last_samurai_last_battle/...</td>\n",
       "      <td>the_last_samurai_last_battle</td>\n",
       "      <td>92</td>\n",
       "    </tr>\n",
       "    <tr>\n",
       "      <th>92</th>\n",
       "      <td>VCDB_core_sample/the_last_samurai_last_battle/...</td>\n",
       "      <td>the_last_samurai_last_battle</td>\n",
       "      <td>93</td>\n",
       "    </tr>\n",
       "    <tr>\n",
       "      <th>93</th>\n",
       "      <td>VCDB_core_sample/the_last_samurai_last_battle/...</td>\n",
       "      <td>the_last_samurai_last_battle</td>\n",
       "      <td>94</td>\n",
       "    </tr>\n",
       "    <tr>\n",
       "      <th>94</th>\n",
       "      <td>VCDB_core_sample/the_last_samurai_last_battle/...</td>\n",
       "      <td>the_last_samurai_last_battle</td>\n",
       "      <td>95</td>\n",
       "    </tr>\n",
       "  </tbody>\n",
       "</table>\n",
       "<p>95 rows × 3 columns</p>\n",
       "</div>"
      ],
      "text/plain": [
       "                                                 path  \\\n",
       "0   VCDB_core_sample/obama_kicks_door/14c81d68b80d...   \n",
       "1   VCDB_core_sample/obama_kicks_door/f26a39de8e8e...   \n",
       "2   VCDB_core_sample/obama_kicks_door/1f73466d86f0...   \n",
       "3   VCDB_core_sample/obama_kicks_door/df0c9e9664cf...   \n",
       "4   VCDB_core_sample/obama_kicks_door/4df943d49033...   \n",
       "..                                                ...   \n",
       "90  VCDB_core_sample/the_last_samurai_last_battle/...   \n",
       "91  VCDB_core_sample/the_last_samurai_last_battle/...   \n",
       "92  VCDB_core_sample/the_last_samurai_last_battle/...   \n",
       "93  VCDB_core_sample/the_last_samurai_last_battle/...   \n",
       "94  VCDB_core_sample/the_last_samurai_last_battle/...   \n",
       "\n",
       "                           event  id  \n",
       "0               obama_kicks_door   1  \n",
       "1               obama_kicks_door   2  \n",
       "2               obama_kicks_door   3  \n",
       "3               obama_kicks_door   4  \n",
       "4               obama_kicks_door   5  \n",
       "..                           ...  ..  \n",
       "90  the_last_samurai_last_battle  91  \n",
       "91  the_last_samurai_last_battle  92  \n",
       "92  the_last_samurai_last_battle  93  \n",
       "93  the_last_samurai_last_battle  94  \n",
       "94  the_last_samurai_last_battle  95  \n",
       "\n",
       "[95 rows x 3 columns]"
      ]
     },
     "execution_count": 3,
     "metadata": {},
     "output_type": "execute_result"
    }
   ],
   "source": [
    "import random\n",
    "from pathlib import Path\n",
    "import torch\n",
    "import pandas as pd\n",
    "random.seed(6)\n",
    "\n",
    "root_dir = './VCDB_core_sample'\n",
    "\n",
    "\n",
    "min_sample_num = 5\n",
    "sample_folder_num = 20\n",
    "\n",
    "all_video_path_lists = []\n",
    "all_video_path_list = []\n",
    "\n",
    "df = pd.DataFrame(columns=('path','event','id'))\n",
    "query_df = pd.DataFrame(columns=('path','event','id'))\n",
    "\n",
    "video_idx = 0\n",
    "for i, mid_dir_path in enumerate(Path(root_dir).iterdir()):\n",
    "    if i >= sample_folder_num:\n",
    "        break\n",
    "    if mid_dir_path.is_dir():\n",
    "        path_videos = list(Path(mid_dir_path).iterdir())\n",
    "        if len(path_videos) < min_sample_num:\n",
    "            print('len(path_videos) < min_sample_num, continue.')\n",
    "            continue\n",
    "        sample_video_path_list = random.sample(path_videos, min_sample_num)\n",
    "        all_video_path_lists.append(sample_video_path_list)\n",
    "        all_video_path_list += [str(path) for path in sample_video_path_list]\n",
    "        for j, path in enumerate(sample_video_path_list):\n",
    "            video_idx += 1\n",
    "            if j == 0:\n",
    "                query_df = query_df.append(pd.DataFrame({'path': [str(path)],'event':[path.parent.stem],'id': [video_idx]}),ignore_index=True)\n",
    "            df = df.append(pd.DataFrame({'path': [str(path)],'event':[path.parent.stem],'id': [video_idx]}),ignore_index=True)\n",
    "\n",
    "all_sample_video_dicts = []\n",
    "for i, sample_video_path_list in enumerate(all_video_path_lists):\n",
    "    anchor_video = sample_video_path_list[0]\n",
    "    pos_video_path_list = sample_video_path_list[1:]\n",
    "    neg_video_path_lists = all_video_path_lists[:i] + all_video_path_lists[i + 1:]\n",
    "    neg_video_path_list = [neg_video_path_list[0] for neg_video_path_list in neg_video_path_lists]\n",
    "    all_sample_video_dicts.append({\n",
    "        'anchor_video': anchor_video,\n",
    "        'pos_video_path_list': pos_video_path_list,\n",
    "        'neg_video_path_list': neg_video_path_list\n",
    "    })\n",
    "\n",
    "id2event = df.set_index(['id'])['event'].to_dict()\n",
    "id2path = df.set_index(['id'])['path'].to_dict()\n",
    "\n",
    "df_csv_path = 'video_info.csv'\n",
    "query_df_csv_path = 'query_video_info.csv'\n",
    "df.to_csv(df_csv_path)\n",
    "query_df.to_csv(query_df_csv_path)\n",
    "df"
   ]
  },
  {
   "cell_type": "markdown",
   "id": "ef4670d6",
   "metadata": {},
   "source": [
    "Define some helper function to convert video to gif so that we can have a look at these videos.   "
   ]
  },
  {
   "cell_type": "code",
   "execution_count": 4,
   "id": "3ea961d6",
   "metadata": {},
   "outputs": [],
   "source": [
    "from IPython import display\n",
    "from pathlib import Path\n",
    "import towhee\n",
    "from PIL import Image\n",
    "\n",
    "def display_gif(video_path_list, text_list):\n",
    "    html = ''\n",
    "    for video_path, text in zip(video_path_list, text_list):\n",
    "        html_line = '<img src=\"{}\"> {} <br/><br/>'.format(video_path, text)\n",
    "        html += html_line\n",
    "    return display.HTML(html)\n",
    "\n",
    "    \n",
    "def convert_video2gif(video_path, output_gif_path, num_samples=16):\n",
    "    frames = (\n",
    "        towhee.glob(video_path)\n",
    "              .video_decode.ffmpeg(start_time=0.0, end_time=1000.0, sample_type='time_step_sample', args={'time_step': 5})\n",
    "              .to_list()[0]\n",
    "    )\n",
    "    imgs = [Image.fromarray(frame) for frame in frames]\n",
    "    imgs[0].save(fp=output_gif_path, format='GIF', append_images=imgs[1:], save_all=True, loop=0)\n",
    "\n",
    "\n",
    "def display_gifs_from_video(video_path_list, text_list, tmpdirname = './tmp_gifs'):\n",
    "    Path(tmpdirname).mkdir(exist_ok=True)\n",
    "    gif_path_list = []\n",
    "    for video_path in video_path_list:\n",
    "        video_name = str(Path(video_path).name).split('.')[0]\n",
    "        gif_path = Path(tmpdirname) / (video_name + '.gif')\n",
    "        convert_video2gif(video_path, gif_path)\n",
    "        gif_path_list.append(gif_path)\n",
    "    return display_gif(gif_path_list, text_list)"
   ]
  },
  {
   "cell_type": "markdown",
   "id": "97440442",
   "metadata": {},
   "source": [
    "Positive denotes a video that is contain same content event in anchor video, while negative denotes an inconsistent."
   ]
  },
  {
   "cell_type": "code",
   "execution_count": 5,
   "id": "88519061",
   "metadata": {
    "scrolled": true
   },
   "outputs": [
    {
     "name": "stdout",
     "output_type": "stream",
     "text": [
      "['anchor video: saving_private_ryan_omaha_beach', 'positive video 1', 'positive video 2', 'positive video 3', 'positive video 4', 'negative video 1: obama_kicks_door', 'negative video 2: the_legend_of_1900_magic_waltz', 'negative video 3: kennedy_assassination_slow_motion', 'negative video 4: scent_of_woman_tango', 'negative video 5: bolt_beijing_100m']\n"
     ]
    },
    {
     "data": {
      "text/html": [
       "<img src=\"tmp_gifs/200130e0c39f0239a22ad3f873feac30e88134df.gif\"> anchor video: saving_private_ryan_omaha_beach <br/><br/><img src=\"tmp_gifs/96642d7998cdd226b395153b7d8f3d36655c0176.gif\"> positive video 1 <br/><br/><img src=\"tmp_gifs/5aff6ecadb439bb9c16a215188258f9474052fae.gif\"> positive video 2 <br/><br/><img src=\"tmp_gifs/283043f1c1433d9205416d2922764421d3d7e34e.gif\"> positive video 3 <br/><br/><img src=\"tmp_gifs/743b4b30bf4fa11e3231dd0cc319016db1cb5b73.gif\"> positive video 4 <br/><br/><img src=\"tmp_gifs/14c81d68b80d04743a107d4de859cb4724ccc2c1.gif\"> negative video 1: obama_kicks_door <br/><br/><img src=\"tmp_gifs/50dfd1daee780fbf9722990387201e2b367a1f27.gif\"> negative video 2: the_legend_of_1900_magic_waltz <br/><br/><img src=\"tmp_gifs/71ba3405d1e896d04c89754ff618b4198d2e65d5.gif\"> negative video 3: kennedy_assassination_slow_motion <br/><br/><img src=\"tmp_gifs/d1a19730dcc2b5ea5bec61756c452772aae031dd.gif\"> negative video 4: scent_of_woman_tango <br/><br/><img src=\"tmp_gifs/359b3ef99acac4136096052c6d812a6248811e10.gif\"> negative video 5: bolt_beijing_100m <br/><br/>"
      ],
      "text/plain": [
       "<IPython.core.display.HTML object>"
      ]
     },
     "execution_count": 5,
     "metadata": {},
     "output_type": "execute_result"
    }
   ],
   "source": [
    "random_video_pair = random.sample(all_sample_video_dicts, 1)[0]\n",
    "neg_sample_num = min(5, sample_folder_num)\n",
    "anchor_video = random_video_pair['anchor_video']\n",
    "anchor_video_event = anchor_video.parent.stem\n",
    "pos_video_list = random_video_pair['pos_video_path_list']\n",
    "pos_video_list_events = [path.parent.stem for path in pos_video_list]\n",
    "neg_video_list = random_video_pair['neg_video_path_list'][:neg_sample_num]\n",
    "neg_video_list_events = [path.parent.stem for path in neg_video_list]\n",
    "\n",
    "show_video_list = [str(anchor_video)] + [str(path) for path in pos_video_list] + [str(path) for path in neg_video_list]\n",
    "# print(show_video_list)\n",
    "caption_list = ['anchor video: ' + anchor_video_event] + ['positive video ' + str(i + 1) for i in range(len(pos_video_list))] + ['negative video ' + str(i + 1) + ': ' + neg_video_list_events[i] for i in range(len(neg_video_list))]\n",
    "print(caption_list)\n",
    "tmpdirname = './tmp_gifs'\n",
    "display_gifs_from_video(show_video_list, caption_list, tmpdirname=tmpdirname)"
   ]
  },
  {
   "cell_type": "markdown",
   "id": "5c707302",
   "metadata": {},
   "source": [
    "### Create a Milvus Collection\n",
    "\n",
    "Before getting started, please make sure you have [installed milvus](https://milvus.io/docs/v2.0.x/install_standalone-docker.md). Let's first create a `video deduplication` collection that uses the [L2 distance metric](https://milvus.io/docs/v2.0.x/metric.md#Euclidean-distance-L2) and an [IVF_FLAT index](https://milvus.io/docs/v2.0.x/index.md#IVF_FLAT)."
   ]
  },
  {
   "cell_type": "code",
   "execution_count": 6,
   "id": "df83801e",
   "metadata": {},
   "outputs": [],
   "source": [
    "from pymilvus import connections, FieldSchema, CollectionSchema, DataType, Collection, utility\n",
    "\n",
    "connections.connect(host='127.0.0.1', port='19530')\n",
    "\n",
    "def create_milvus_collection(collection_name, dim):\n",
    "    if utility.has_collection(collection_name):\n",
    "        utility.drop_collection(collection_name)\n",
    "    \n",
    "    fields = [\n",
    "    FieldSchema(name='id', dtype=DataType.INT64, descrition='ids', is_primary=True, auto_id=False),\n",
    "    FieldSchema(name='embedding', dtype=DataType.FLOAT_VECTOR, descrition='embedding vectors', dim=dim)\n",
    "    ]\n",
    "    schema = CollectionSchema(fields=fields, description='video deduplication')\n",
    "    collection = Collection(name=collection_name, schema=schema)\n",
    "\n",
    "    # create IVF_FLAT index for collection.\n",
    "    index_params = {\n",
    "        'metric_type':'L2', #IP\n",
    "        'index_type':\"IVF_FLAT\",\n",
    "        'params':{\"nlist\":2048}\n",
    "    }\n",
    "    collection.create_index(field_name=\"embedding\", index_params=index_params)\n",
    "    return collection"
   ]
  },
  {
   "cell_type": "code",
   "execution_count": 7,
   "id": "ecd908ad",
   "metadata": {},
   "outputs": [],
   "source": [
    "collection = create_milvus_collection('video_deduplication', 1024)"
   ]
  },
  {
   "cell_type": "markdown",
   "id": "7acaf86b",
   "metadata": {},
   "source": [
    "## Video Copy Detection\n",
    "\n",
    "In this section, we'll show how to build our Video Copy Detection engine using Milvus. The basic idea behind Video Copy Detection is the extract embeddings from videos using Deep Neural Network and store them in Milvus, then get query videos embeddings and compare with those stored in Milvus.\n",
    "\n",
    "We use [Towhee](https://towhee.io/), a machine learning framework that allows for creating data processing pipelines. [Towhee](https://towhee.io/) also provides predefined operators which implement insert and query operation in Milvus.\n"
   ]
  },
  {
   "cell_type": "markdown",
   "id": "5fdcd9b8",
   "metadata": {},
   "source": [
    "### Load Video Embeddings into Milvus\n",
    "\n",
    "We first extract embeddings from images with Coarse Grained Student model in [DnS: Distill-and-Select for Efficient and Accurate Video Indexing and Retrieval](https://arxiv.org/abs/2106.13266) and insert the embeddings into Milvus for indexing. Towhee provides a [method-chaining style API](https://towhee.readthedocs.io/en/main/index.html) so that users can assemble a data processing pipeline with operators.   \n"
   ]
  },
  {
   "cell_type": "code",
   "execution_count": 8,
   "id": "1dc07d2d",
   "metadata": {},
   "outputs": [
    {
     "name": "stdout",
     "output_type": "stream",
     "text": [
      "CPU times: user 26min 10s, sys: 14.1 s, total: 26min 24s\n",
      "Wall time: 1min 55s\n"
     ]
    }
   ],
   "source": [
    "%%time\n",
    "import os\n",
    "import towhee\n",
    "from towhee import dc\n",
    "device = 'cuda:2'\n",
    "# device = 'cpu'\n",
    "\n",
    "dc = (\n",
    "    towhee.read_csv(df_csv_path).unstream() \\\n",
    "        .runas_op['id', 'id'](func=lambda x: int(x)) \\\n",
    "        .video_decode.ffmpeg['path', 'frames'](start_time=0.0, end_time=60.0, sample_type='time_step_sample', args={'time_step': 1}) \\\n",
    "        .runas_op['frames', 'frames'](func=lambda x: [y for y in x]) \\\n",
    "        .distill_and_select['frames', 'vec'](model_name='cg_student', device=device) \\\n",
    "        .to_milvus['id', 'vec'](collection=collection, batch=30)\n",
    ")"
   ]
  },
  {
   "cell_type": "markdown",
   "id": "f96e5c4b",
   "metadata": {},
   "source": [
    "Here is detailed explanation for each line of the code:\n",
    "\n",
    "- `towhee.read_csv(df_csv_path)`: read tabular data from csv file;\n",
    "\n",
    "- `.runas_op['id', 'id'](func=lambda x: int(x))`: for each row from the data, convert the data type of the column `id` from str to int;\n",
    "\n",
    "- `.video_decode.ffmpeg` and `runas_op`: subsample the video uniformly every one second, and then get a list of images in the video, which are the input of the operator model;\n",
    "\n",
    "- `.distill_and_select['frames', 'vec'](model_name='cg_student')`: extract embedding feature from the video using Coarse Grained Student model in DnS.\n",
    "\n",
    "- `.to_milvus['id', 'vec'](collection=collection, batch=30)`: insert video embedding features in to Milvus;\n"
   ]
  },
  {
   "cell_type": "code",
   "execution_count": 9,
   "id": "2738a2b3",
   "metadata": {
    "scrolled": true
   },
   "outputs": [
    {
     "data": {
      "text/html": [
       "<table style=\"border-collapse: collapse;\"><tr><th style=\"text-align: center; font-size: 130%; border: none;\"></th> <th style=\"text-align: center; font-size: 130%; border: none;\">path</th> <th style=\"text-align: center; font-size: 130%; border: none;\">event</th> <th style=\"text-align: center; font-size: 130%; border: none;\">id</th> <th style=\"text-align: center; font-size: 130%; border: none;\">frames</th> <th style=\"text-align: center; font-size: 130%; border: none;\">vec</th></tr> <tr><td style=\"text-align: center; vertical-align: center; border-right: solid 1px #D3D3D3; border-left: solid 1px #D3D3D3; \">0</td> <td style=\"text-align: center; vertical-align: center; border-right: solid 1px #D3D3D3; border-left: solid 1px #D3D3D3; \">VCDB_core_sample/obama_kicks_doo...</td> <td style=\"text-align: center; vertical-align: center; border-right: solid 1px #D3D3D3; border-left: solid 1px #D3D3D3; \">obama_kicks_door</td> <td style=\"text-align: center; vertical-align: center; border-right: solid 1px #D3D3D3; border-left: solid 1px #D3D3D3; \">1</td> <td style=\"text-align: left; vertical-align: center; border-right: solid 1px #D3D3D3; border-left: solid 1px #D3D3D3; \">[[0, 0, 0, ...] shape=(270, 480, 3),[0, 0, 0, ...] shape=(270, 480, 3),[0, 0, 0, ...] shape=(270, 480, 3),[0, 0, 0, ...] shape=(270, 480, 3),...] len=60</td> <td style=\"text-align: left; vertical-align: center; border-right: solid 1px #D3D3D3; border-left: solid 1px #D3D3D3; \">[0.009174303, 0.0009705887, -0.007265164, ...] shape=(1024,)</td></tr> <tr><td style=\"text-align: center; vertical-align: center; border-right: solid 1px #D3D3D3; border-left: solid 1px #D3D3D3; \">1</td> <td style=\"text-align: center; vertical-align: center; border-right: solid 1px #D3D3D3; border-left: solid 1px #D3D3D3; \">VCDB_core_sample/obama_kicks_doo...</td> <td style=\"text-align: center; vertical-align: center; border-right: solid 1px #D3D3D3; border-left: solid 1px #D3D3D3; \">obama_kicks_door</td> <td style=\"text-align: center; vertical-align: center; border-right: solid 1px #D3D3D3; border-left: solid 1px #D3D3D3; \">2</td> <td style=\"text-align: left; vertical-align: center; border-right: solid 1px #D3D3D3; border-left: solid 1px #D3D3D3; \">[[0, 0, 0, ...] shape=(480, 640, 3),[1, 1, 1, ...] shape=(480, 640, 3),[1, 1, 1, ...] shape=(480, 640, 3),[1, 1, 1, ...] shape=(480, 640, 3),...] len=20</td> <td style=\"text-align: left; vertical-align: center; border-right: solid 1px #D3D3D3; border-left: solid 1px #D3D3D3; \">[-0.0049728933, -0.017937368, 0.016198786, ...] shape=(1024,)</td></tr> <tr><td style=\"text-align: center; vertical-align: center; border-right: solid 1px #D3D3D3; border-left: solid 1px #D3D3D3; \">2</td> <td style=\"text-align: center; vertical-align: center; border-right: solid 1px #D3D3D3; border-left: solid 1px #D3D3D3; \">VCDB_core_sample/obama_kicks_doo...</td> <td style=\"text-align: center; vertical-align: center; border-right: solid 1px #D3D3D3; border-left: solid 1px #D3D3D3; \">obama_kicks_door</td> <td style=\"text-align: center; vertical-align: center; border-right: solid 1px #D3D3D3; border-left: solid 1px #D3D3D3; \">3</td> <td style=\"text-align: left; vertical-align: center; border-right: solid 1px #D3D3D3; border-left: solid 1px #D3D3D3; \">[[32, 40, 60, ...] shape=(480, 640, 3),[30, 39, 64, ...] shape=(480, 640, 3),[34, 42, 70, ...] shape=(480, 640, 3),[34, 43, 66, ...] shape=(480, 640, 3),...] len=60</td> <td style=\"text-align: left; vertical-align: center; border-right: solid 1px #D3D3D3; border-left: solid 1px #D3D3D3; \">[0.0013966287, 0.022458233, 0.0027558554, ...] shape=(1024,)</td></tr> <tr><td style=\"text-align: center; vertical-align: center; border-right: solid 1px #D3D3D3; border-left: solid 1px #D3D3D3; \">3</td> <td style=\"text-align: center; vertical-align: center; border-right: solid 1px #D3D3D3; border-left: solid 1px #D3D3D3; \">VCDB_core_sample/obama_kicks_doo...</td> <td style=\"text-align: center; vertical-align: center; border-right: solid 1px #D3D3D3; border-left: solid 1px #D3D3D3; \">obama_kicks_door</td> <td style=\"text-align: center; vertical-align: center; border-right: solid 1px #D3D3D3; border-left: solid 1px #D3D3D3; \">4</td> <td style=\"text-align: left; vertical-align: center; border-right: solid 1px #D3D3D3; border-left: solid 1px #D3D3D3; \">[[0, 0, 2, ...] shape=(360, 640, 3),[0, 0, 2, ...] shape=(360, 640, 3),[0, 0, 0, ...] shape=(360, 640, 3),[0, 0, 0, ...] shape=(360, 640, 3),...] len=46</td> <td style=\"text-align: left; vertical-align: center; border-right: solid 1px #D3D3D3; border-left: solid 1px #D3D3D3; \">[0.010604611, 0.0021730594, 0.00046078453, ...] shape=(1024,)</td></tr> <tr><td style=\"text-align: center; vertical-align: center; border-right: solid 1px #D3D3D3; border-left: solid 1px #D3D3D3; \">4</td> <td style=\"text-align: center; vertical-align: center; border-right: solid 1px #D3D3D3; border-left: solid 1px #D3D3D3; \">VCDB_core_sample/obama_kicks_doo...</td> <td style=\"text-align: center; vertical-align: center; border-right: solid 1px #D3D3D3; border-left: solid 1px #D3D3D3; \">obama_kicks_door</td> <td style=\"text-align: center; vertical-align: center; border-right: solid 1px #D3D3D3; border-left: solid 1px #D3D3D3; \">5</td> <td style=\"text-align: left; vertical-align: center; border-right: solid 1px #D3D3D3; border-left: solid 1px #D3D3D3; \">[[0, 2, 0, ...] shape=(480, 640, 3),[0, 0, 0, ...] shape=(480, 640, 3),[0, 0, 0, ...] shape=(480, 640, 3),[0, 0, 1, ...] shape=(480, 640, 3),...] len=20</td> <td style=\"text-align: left; vertical-align: center; border-right: solid 1px #D3D3D3; border-left: solid 1px #D3D3D3; \">[-0.0022860356, 0.013693579, 0.009067149, ...] shape=(1024,)</td></tr></table>"
      ],
      "text/plain": [
       "<IPython.core.display.HTML object>"
      ]
     },
     "metadata": {},
     "output_type": "display_data"
    }
   ],
   "source": [
    "dc.show()"
   ]
  },
  {
   "cell_type": "code",
   "execution_count": 10,
   "id": "97e3f3f7",
   "metadata": {},
   "outputs": [
    {
     "name": "stdout",
     "output_type": "stream",
     "text": [
      "Total number of inserted data is 95.\n"
     ]
    }
   ],
   "source": [
    "print('Total number of inserted data is {}.'.format(collection.num_entities))"
   ]
  },
  {
   "cell_type": "markdown",
   "id": "4af2a4e3",
   "metadata": {},
   "source": [
    "## Evaluation\n",
    "\n",
    "We have finished the core functionality of the Video Copy Detection engine. However, we don't know whether it achieves a reasonable performance. We need to evaluate the retrieval engine against the ground truth.\n",
    "\n",
    "In this section, we'll evaluate the strength of our text-video retrieval using mAP@topk:   \n",
    "`mAP@topk` is the proportion of relevant items found in the top-k recommendations. Suppose that we computed precision at 10 examples and found it is 40% in our top-10 recommendation system. This means that 40% of the recall examples are real positive ones."
   ]
  },
  {
   "cell_type": "code",
   "execution_count": 11,
   "id": "81b8b5ed",
   "metadata": {},
   "outputs": [
    {
     "name": "stdout",
     "output_type": "stream",
     "text": [
      "CPU times: user 4min 16s, sys: 3.15 s, total: 4min 19s\n",
      "Wall time: 20.9 s\n"
     ]
    }
   ],
   "source": [
    "%%time\n",
    "dc = (\n",
    "    towhee.read_csv(query_df_csv_path).unstream() \\\n",
    "      .runas_op['event', 'ground_truth_event'](func=lambda x:[x]) \\\n",
    "      .video_decode.ffmpeg['path', 'frames'](start_time=0.0, end_time=60.0, sample_type='time_step_sample', args={'time_step': 1}) \\\n",
    "      .runas_op['frames', 'frames'](func=lambda x: [y for y in x]) \\\n",
    "      .distill_and_select['frames', 'vec'](model_name='cg_student', device=device) \\\n",
    "      .milvus_search['vec', 'topk_raw_res'](collection=collection, limit=min_sample_num) \\\n",
    "      .runas_op['topk_raw_res', 'topk_events'](func=lambda res: [id2event[x.id] for i, x in enumerate(res)]) \\\n",
    "      .runas_op['topk_raw_res', 'topk_path'](func=lambda res: [id2path[x.id] for i, x in enumerate(res)])\n",
    ")"
   ]
  },
  {
   "cell_type": "code",
   "execution_count": 12,
   "id": "249ab799",
   "metadata": {},
   "outputs": [
    {
     "data": {
      "text/html": [
       "<table style=\"border-collapse: collapse;\"><tr><th style=\"text-align: center; font-size: 130%; border: none;\">id</th> <th style=\"text-align: center; font-size: 130%; border: none;\">ground_truth_event</th> <th style=\"text-align: center; font-size: 130%; border: none;\">topk_raw_res</th> <th style=\"text-align: center; font-size: 130%; border: none;\">topk_events</th> <th style=\"text-align: center; font-size: 130%; border: none;\">topk_path</th></tr> <tr><td style=\"text-align: center; vertical-align: center; border-right: solid 1px #D3D3D3; border-left: solid 1px #D3D3D3; \">1</td> <td style=\"text-align: center; vertical-align: center; border-right: solid 1px #D3D3D3; border-left: solid 1px #D3D3D3; \">[obama_kicks_door] len=1</td> <td style=\"text-align: left; vertical-align: center; border-right: solid 1px #D3D3D3; border-left: solid 1px #D3D3D3; \">[{\"id\": 1, \"score\": 0.0},{\"id\": 2, \"score\": 0.48000627756118774},{\"id\": 5, \"score\": 0.5547954440116882},{\"id\": 4, \"score\": 0.7438859343528748},...] len=5</td> <td style=\"text-align: center; vertical-align: center; border-right: solid 1px #D3D3D3; border-left: solid 1px #D3D3D3; \">[obama_kicks_door,obama_kicks_door,obama_kicks_door,obama_kicks_door,...] len=5</td> <td style=\"text-align: center; vertical-align: center; border-right: solid 1px #D3D3D3; border-left: solid 1px #D3D3D3; \">[VCDB_core_sample/obama_kicks_doo...,VCDB_core_sample/obama_kicks_doo...,VCDB_core_sample/obama_kicks_doo...,VCDB_core_sample/obama_kicks_doo...,...] len=5</td></tr> <tr><td style=\"text-align: center; vertical-align: center; border-right: solid 1px #D3D3D3; border-left: solid 1px #D3D3D3; \">6</td> <td style=\"text-align: center; vertical-align: center; border-right: solid 1px #D3D3D3; border-left: solid 1px #D3D3D3; \">[the_legend_of_1900_magic_waltz] len=1</td> <td style=\"text-align: left; vertical-align: center; border-right: solid 1px #D3D3D3; border-left: solid 1px #D3D3D3; \">[{\"id\": 6, \"score\": 0.0},{\"id\": 8, \"score\": 0.7755095958709717},{\"id\": 10, \"score\": 0.7755095958709717},{\"id\": 9, \"score\": 0.8679494857788086},...] len=5</td> <td style=\"text-align: center; vertical-align: center; border-right: solid 1px #D3D3D3; border-left: solid 1px #D3D3D3; \">[the_legend_of_1900_magic_waltz,the_legend_of_1900_magic_waltz,the_legend_of_1900_magic_waltz,the_legend_of_1900_magic_waltz,...] len=5</td> <td style=\"text-align: center; vertical-align: center; border-right: solid 1px #D3D3D3; border-left: solid 1px #D3D3D3; \">[VCDB_core_sample/the_legend_of_1...,VCDB_core_sample/the_legend_of_1...,VCDB_core_sample/the_legend_of_1...,VCDB_core_sample/the_legend_of_1...,...] len=5</td></tr> <tr><td style=\"text-align: center; vertical-align: center; border-right: solid 1px #D3D3D3; border-left: solid 1px #D3D3D3; \">11</td> <td style=\"text-align: center; vertical-align: center; border-right: solid 1px #D3D3D3; border-left: solid 1px #D3D3D3; \">[kennedy_assassination_slow_motio...] len=1</td> <td style=\"text-align: left; vertical-align: center; border-right: solid 1px #D3D3D3; border-left: solid 1px #D3D3D3; \">[{\"id\": 11, \"score\": 0.0},{\"id\": 13, \"score\": 1.0068117380142212},{\"id\": 15, \"score\": 1.1083202362060547},{\"id\": 14, \"score\": 1.136603832244873},...] len=5</td> <td style=\"text-align: center; vertical-align: center; border-right: solid 1px #D3D3D3; border-left: solid 1px #D3D3D3; \">[kennedy_assassination_slow_motio...,kennedy_assassination_slow_motio...,kennedy_assassination_slow_motio...,kennedy_assassination_slow_motio...,...] len=5</td> <td style=\"text-align: center; vertical-align: center; border-right: solid 1px #D3D3D3; border-left: solid 1px #D3D3D3; \">[VCDB_core_sample/kennedy_assassi...,VCDB_core_sample/kennedy_assassi...,VCDB_core_sample/kennedy_assassi...,VCDB_core_sample/kennedy_assassi...,...] len=5</td></tr> <tr><td style=\"text-align: center; vertical-align: center; border-right: solid 1px #D3D3D3; border-left: solid 1px #D3D3D3; \">16</td> <td style=\"text-align: center; vertical-align: center; border-right: solid 1px #D3D3D3; border-left: solid 1px #D3D3D3; \">[scent_of_woman_tango] len=1</td> <td style=\"text-align: left; vertical-align: center; border-right: solid 1px #D3D3D3; border-left: solid 1px #D3D3D3; \">[{\"id\": 16, \"score\": 0.0},{\"id\": 63, \"score\": 0.9324159026145935},{\"id\": 18, \"score\": 1.005260944366455},{\"id\": 19, \"score\": 1.010080099105835},...] len=5</td> <td style=\"text-align: center; vertical-align: center; border-right: solid 1px #D3D3D3; border-left: solid 1px #D3D3D3; \">[scent_of_woman_tango,mr_and_mrs_smith_tango,scent_of_woman_tango,scent_of_woman_tango,...] len=5</td> <td style=\"text-align: center; vertical-align: center; border-right: solid 1px #D3D3D3; border-left: solid 1px #D3D3D3; \">[VCDB_core_sample/scent_of_woman_...,VCDB_core_sample/mr_and_mrs_smit...,VCDB_core_sample/scent_of_woman_...,VCDB_core_sample/scent_of_woman_...,...] len=5</td></tr> <tr><td style=\"text-align: center; vertical-align: center; border-right: solid 1px #D3D3D3; border-left: solid 1px #D3D3D3; \">21</td> <td style=\"text-align: center; vertical-align: center; border-right: solid 1px #D3D3D3; border-left: solid 1px #D3D3D3; \">[bolt_beijing_100m] len=1</td> <td style=\"text-align: left; vertical-align: center; border-right: solid 1px #D3D3D3; border-left: solid 1px #D3D3D3; \">[{\"id\": 21, \"score\": 0.0},{\"id\": 25, \"score\": 0.05202530696988106},{\"id\": 24, \"score\": 0.5932506918907166},{\"id\": 22, \"score\": 0.6336506605148315},...] len=5</td> <td style=\"text-align: center; vertical-align: center; border-right: solid 1px #D3D3D3; border-left: solid 1px #D3D3D3; \">[bolt_beijing_100m,bolt_beijing_100m,bolt_beijing_100m,bolt_beijing_100m,...] len=5</td> <td style=\"text-align: center; vertical-align: center; border-right: solid 1px #D3D3D3; border-left: solid 1px #D3D3D3; \">[VCDB_core_sample/bolt_beijing_10...,VCDB_core_sample/bolt_beijing_10...,VCDB_core_sample/bolt_beijing_10...,VCDB_core_sample/bolt_beijing_10...,...] len=5</td></tr></table>"
      ],
      "text/plain": [
       "<IPython.core.display.HTML object>"
      ]
     },
     "metadata": {},
     "output_type": "display_data"
    }
   ],
   "source": [
    "dc.select['id', 'ground_truth_event', 'topk_raw_res', 'topk_events', 'topk_path']().show()"
   ]
  },
  {
   "cell_type": "code",
   "execution_count": 13,
   "id": "a026d731",
   "metadata": {},
   "outputs": [
    {
     "data": {
      "text/html": [
       "<div>\n",
       "<style scoped>\n",
       "    .dataframe tbody tr th:only-of-type {\n",
       "        vertical-align: middle;\n",
       "    }\n",
       "\n",
       "    .dataframe tbody tr th {\n",
       "        vertical-align: top;\n",
       "    }\n",
       "\n",
       "    .dataframe thead th {\n",
       "        text-align: right;\n",
       "    }\n",
       "</style>\n",
       "<table border=\"1\" class=\"dataframe\">\n",
       "  <thead>\n",
       "    <tr style=\"text-align: right;\">\n",
       "      <th></th>\n",
       "      <th>mean_average_precision</th>\n",
       "    </tr>\n",
       "  </thead>\n",
       "  <tbody>\n",
       "    <tr>\n",
       "      <th>map_at_k</th>\n",
       "      <td>0.973977</td>\n",
       "    </tr>\n",
       "  </tbody>\n",
       "</table>\n",
       "</div>"
      ],
      "text/plain": [
       "          mean_average_precision\n",
       "map_at_k                0.973977"
      ]
     },
     "metadata": {},
     "output_type": "display_data"
    }
   ],
   "source": [
    "benchmark = (\n",
    "    dc.with_metrics(['mean_average_precision',]) \\\n",
    "        .evaluate['ground_truth_event', 'topk_events'](name='map_at_k') \\\n",
    "        .report()\n",
    ")"
   ]
  },
  {
   "cell_type": "markdown",
   "id": "a2003b8d",
   "metadata": {},
   "source": [
    "We found that we achieved an excellent topk metric on this easy small dataset, which means that if we limit each event to have k duplicate videos, then they can all be almost recalled and they are almost true positive ."
   ]
  },
  {
   "cell_type": "markdown",
   "id": "c1b44a40",
   "metadata": {},
   "source": [
    "## Show query results\n",
    "\n",
    "With all the milvus search result, we can take a look at the query and the results video for example."
   ]
  },
  {
   "cell_type": "code",
   "execution_count": 14,
   "id": "6d461033",
   "metadata": {},
   "outputs": [
    {
     "name": "stdout",
     "output_type": "stream",
     "text": [
      "query_video = VCDB_core_sample/t-mac_13_points_in_35_seconds/5df28e18b3d8fbdc0f4cd07ef5aefcdc1b4f8d42.flv\n",
      "predict_topk_video_list = ['VCDB_core_sample/t-mac_13_points_in_35_seconds/e4b443e64c27a3364d16db8e11e6e85f2d3fd7ed.flv', 'VCDB_core_sample/t-mac_13_points_in_35_seconds/b61905d41276ccf2af59d4985158f8b1ce1d4990.flv', 'VCDB_core_sample/t-mac_13_points_in_35_seconds/3d0a3002441f682c7124806eb9b92c677af2ee9e.flv', 'VCDB_core_sample/t-mac_13_points_in_35_seconds/2bdf8029b38735a992a56e32cfc81466eea81286.flv']\n",
      "query_video = VCDB_core_sample/obama_kicks_door/14c81d68b80d04743a107d4de859cb4724ccc2c1.flv\n",
      "predict_topk_video_list = ['VCDB_core_sample/obama_kicks_door/f26a39de8e8ec290703f4937977fc17322974748.flv', 'VCDB_core_sample/obama_kicks_door/4df943d4903333df61bb3854d47365edf3076b5b.flv', 'VCDB_core_sample/obama_kicks_door/df0c9e9664cfa6720c94e13eae35ddb7a9b5b927.flv', 'VCDB_core_sample/president_obama_takes_oath/e29e65d0e362b8e7d450d833227ea3c0f5f65f12.flv']\n",
      "query_video = VCDB_core_sample/troy_achilles_and_hector/ee417a6b882853ffcd3f78b380b0205a9411f4d6.flv\n",
      "predict_topk_video_list = ['VCDB_core_sample/troy_achilles_and_hector/0b3f9e88e5ab73e19dc4d1a32115ea3457867128.flv', 'VCDB_core_sample/troy_achilles_and_hector/6fe097a963673b26c62f6ff6d6151d383c194b9d.flv', 'VCDB_core_sample/troy_achilles_and_hector/a89a3193db3354c059dfe4effac05c4667f9c239.flv', 'VCDB_core_sample/troy_achilles_and_hector/ccc879ecfb35a1a77667dd8357b71a930c19092c.flv']\n"
     ]
    }
   ],
   "source": [
    "dc_list = dc.to_list()\n",
    "# random_idx = random.randint(0, len(dc_list) - 1)\n",
    "sample_num = 3\n",
    "sample_idxs = random.sample(range(len(dc_list)), sample_num)\n",
    "def get_query_and_predict_videos(idx):\n",
    "    query_video = id2path[int(dc_list[idx].id)]\n",
    "    print('query_video =', query_video)\n",
    "    predict_topk_video_list = dc_list[idx].topk_path[1:]\n",
    "    print('predict_topk_video_list =', predict_topk_video_list)\n",
    "    return query_video, predict_topk_video_list\n",
    "dsp_res_list = []\n",
    "for idx in sample_idxs:\n",
    "    query_video, predict_topk_video_list = get_query_and_predict_videos(idx)\n",
    "    show_video_list = [query_video] + predict_topk_video_list\n",
    "    caption_list = ['query video: ' + Path(query_video).parent.stem] + ['result{0} video'.format(i) for i in range(len(predict_topk_video_list))]\n",
    "    dsp_res_list.append(display_gifs_from_video(show_video_list, caption_list, tmpdirname=tmpdirname))"
   ]
  },
  {
   "cell_type": "code",
   "execution_count": 15,
   "id": "486b42fd",
   "metadata": {},
   "outputs": [
    {
     "data": {
      "text/html": [
       "<img src=\"tmp_gifs/5df28e18b3d8fbdc0f4cd07ef5aefcdc1b4f8d42.gif\"> query video: t-mac_13_points_in_35_seconds <br/><br/><img src=\"tmp_gifs/e4b443e64c27a3364d16db8e11e6e85f2d3fd7ed.gif\"> result0 video <br/><br/><img src=\"tmp_gifs/b61905d41276ccf2af59d4985158f8b1ce1d4990.gif\"> result1 video <br/><br/><img src=\"tmp_gifs/3d0a3002441f682c7124806eb9b92c677af2ee9e.gif\"> result2 video <br/><br/><img src=\"tmp_gifs/2bdf8029b38735a992a56e32cfc81466eea81286.gif\"> result3 video <br/><br/>"
      ],
      "text/plain": [
       "<IPython.core.display.HTML object>"
      ]
     },
     "execution_count": 15,
     "metadata": {},
     "output_type": "execute_result"
    }
   ],
   "source": [
    "dsp_res_list[0]"
   ]
  },
  {
   "cell_type": "code",
   "execution_count": 16,
   "id": "b971fb56",
   "metadata": {
    "scrolled": true
   },
   "outputs": [
    {
     "data": {
      "text/html": [
       "<img src=\"tmp_gifs/14c81d68b80d04743a107d4de859cb4724ccc2c1.gif\"> query video: obama_kicks_door <br/><br/><img src=\"tmp_gifs/f26a39de8e8ec290703f4937977fc17322974748.gif\"> result0 video <br/><br/><img src=\"tmp_gifs/4df943d4903333df61bb3854d47365edf3076b5b.gif\"> result1 video <br/><br/><img src=\"tmp_gifs/df0c9e9664cfa6720c94e13eae35ddb7a9b5b927.gif\"> result2 video <br/><br/><img src=\"tmp_gifs/e29e65d0e362b8e7d450d833227ea3c0f5f65f12.gif\"> result3 video <br/><br/>"
      ],
      "text/plain": [
       "<IPython.core.display.HTML object>"
      ]
     },
     "execution_count": 16,
     "metadata": {},
     "output_type": "execute_result"
    }
   ],
   "source": [
    "dsp_res_list[1]"
   ]
  },
  {
   "cell_type": "code",
   "execution_count": 17,
   "id": "56e0526b",
   "metadata": {},
   "outputs": [
    {
     "data": {
      "text/html": [
       "<img src=\"tmp_gifs/ee417a6b882853ffcd3f78b380b0205a9411f4d6.gif\"> query video: troy_achilles_and_hector <br/><br/><img src=\"tmp_gifs/0b3f9e88e5ab73e19dc4d1a32115ea3457867128.gif\"> result0 video <br/><br/><img src=\"tmp_gifs/6fe097a963673b26c62f6ff6d6151d383c194b9d.gif\"> result1 video <br/><br/><img src=\"tmp_gifs/a89a3193db3354c059dfe4effac05c4667f9c239.gif\"> result2 video <br/><br/><img src=\"tmp_gifs/ccc879ecfb35a1a77667dd8357b71a930c19092c.gif\"> result3 video <br/><br/>"
      ],
      "text/plain": [
       "<IPython.core.display.HTML object>"
      ]
     },
     "execution_count": 17,
     "metadata": {},
     "output_type": "execute_result"
    }
   ],
   "source": [
    "dsp_res_list[2]"
   ]
  },
  {
   "cell_type": "code",
   "execution_count": 18,
   "id": "549fb90f",
   "metadata": {},
   "outputs": [],
   "source": [
    "# import shutil\n",
    "# shutil.rmtree(tmpdirname)"
   ]
  },
  {
   "cell_type": "code",
   "execution_count": null,
   "id": "d406323c",
   "metadata": {},
   "outputs": [],
   "source": []
  }
 ],
 "metadata": {
  "kernelspec": {
   "display_name": "Python 3",
   "language": "python",
   "name": "python3"
  },
  "language_info": {
   "codemirror_mode": {
    "name": "ipython",
    "version": 3
   },
   "file_extension": ".py",
   "mimetype": "text/x-python",
   "name": "python",
   "nbconvert_exporter": "python",
   "pygments_lexer": "ipython3",
   "version": "3.8.8"
  }
 },
 "nbformat": 4,
 "nbformat_minor": 5
}