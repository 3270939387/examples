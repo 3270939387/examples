{
 "cells": [
  {
   "cell_type": "markdown",
   "metadata": {},
   "source": [
    "# Build a Question Answering System Engine\n",
    "In this example we will be going over the code used to build a question answering system. This example uses a modified BERT model to extract features from questions and Milvus to search for similar questions and answers. "
   ]
  },
  {
   "cell_type": "markdown",
   "metadata": {},
   "source": [
    "## Prepare"
   ]
  },
  {
   "cell_type": "markdown",
   "metadata": {},
   "source": [
    "### Start Milvus Server"
   ]
  },
  {
   "cell_type": "code",
   "execution_count": null,
   "metadata": {},
   "outputs": [],
   "source": [
    "! wget https://raw.githubusercontent.com/milvus-io/milvus/master/deployments/docker/standalone/docker-compose.yml -O docker-compose.yml\n",
    "! docker-compose up -d"
   ]
  },
  {
   "cell_type": "markdown",
   "metadata": {},
   "source": [
    "### Start MySql Server \n",
    "For now, Milvus doesn't support storing string data. Thus, we need a relational database to store questions and answers, which in this case is MySql"
   ]
  },
  {
   "cell_type": "code",
   "execution_count": null,
   "metadata": {},
   "outputs": [],
   "source": [
    "! docker run -p 3306:3306 -e MYSQL_ROOT_PASSWORD=123456 -d --name qa_mysql mysql:5.7"
   ]
  },
  {
   "cell_type": "markdown",
   "metadata": {},
   "source": [
    "### Check running servers"
   ]
  },
  {
   "cell_type": "code",
   "execution_count": null,
   "metadata": {},
   "outputs": [],
   "source": [
    "! docker-compose ps\n",
    "! docker logs qa_mysql --tail 6"
   ]
  },
  {
   "cell_type": "markdown",
   "metadata": {},
   "source": [
    "## Core Code"
   ]
  },
  {
   "cell_type": "markdown",
   "metadata": {},
   "source": [
    "### Connect to Serves"
   ]
  },
  {
   "cell_type": "code",
   "execution_count": 1,
   "metadata": {},
   "outputs": [],
   "source": [
    "#Connectings to Milvus, BERT and Postgresql\n",
    "from pymilvus import connections, FieldSchema, CollectionSchema, DataType, Collection, utility\n",
    "import pymysql\n",
    "\n",
    "connections.connect(host='localhost', port='19530')\n",
    "conn = pymysql.connect(host='localhost', user='root', port=3306, password='123456', database='mysql',local_infile=True)\n",
    "cursor = conn.cursor()"
   ]
  },
  {
   "cell_type": "markdown",
   "metadata": {},
   "source": [
    "### Create Milvus Collection with index"
   ]
  },
  {
   "cell_type": "code",
   "execution_count": 2,
   "metadata": {},
   "outputs": [],
   "source": [
    "def create_collection(collection_name, dim):\n",
    "    if utility.has_collection(collection_name):\n",
    "        collection = Collection(name=collection_name)\n",
    "        collection.drop()\n",
    "\n",
    "    field1 = FieldSchema(name=\"id\", dtype=DataType.INT64, descrition=\"ids\", is_primary=True, auto_id=False)\n",
    "    field2 = FieldSchema(name=\"embedding\", dtype=DataType.FLOAT_VECTOR, descrition=\"float vector\",dim=dim, is_primary=False)\n",
    "    schema = CollectionSchema(fields=[field1, field2], description=\"collection description\")\n",
    "    collection = Collection(name=collection_name, schema=schema)\n",
    "\n",
    "    index_params = {\n",
    "        \"index_type\": \"IVF_FLAT\",\n",
    "        \"metric_type\": 'IP',\n",
    "        \"params\": {\"nlist\": 200}\n",
    "    }\n",
    "    collection.create_index(field_name=\"embedding\", index_params=index_params)\n",
    "\n",
    "    return collection"
   ]
  },
  {
   "cell_type": "code",
   "execution_count": 3,
   "metadata": {},
   "outputs": [],
   "source": [
    "collection = create_collection('question_answering', 768)"
   ]
  },
  {
   "cell_type": "markdown",
   "metadata": {},
   "source": [
    "### Create MySql Table"
   ]
  },
  {
   "cell_type": "code",
   "execution_count": 4,
   "metadata": {},
   "outputs": [],
   "source": [
    "# def create_table(table_name):\n",
    "# \tdrop = ''.join(['DROP TABLE IF EXISTS ', table_name, ';'])\n",
    "# \tcursor.execute(drop)\n",
    "\n",
    "# \ttry:\n",
    "# \t\tcreate = ''.join(['CREATE TABLE if not exists ', table_name, ' (id TEXT, question TEXT, answer TEXT);'])\n",
    "# \t\tcursor.execute(create)\n",
    "# \t\tprint(\"create MySQL table successfully!\")\n",
    "# \texcept Exception as e:\n",
    "# \t\tprint(\"can't create a MySQL table: \", e)"
   ]
  },
  {
   "cell_type": "code",
   "execution_count": 5,
   "metadata": {},
   "outputs": [],
   "source": [
    "# create_table('question_answering')"
   ]
  },
  {
   "cell_type": "markdown",
   "metadata": {},
   "source": [
    "### Generate embedding and insert into collection"
   ]
  },
  {
   "cell_type": "code",
   "execution_count": 6,
   "metadata": {},
   "outputs": [],
   "source": [
    "import towhee\n",
    "from sentence_transformers import SentenceTransformer\n",
    "from sklearn.preprocessing import normalize\n",
    "\n",
    "model = SentenceTransformer('paraphrase-mpnet-base-v2')"
   ]
  },
  {
   "cell_type": "code",
   "execution_count": 7,
   "metadata": {},
   "outputs": [],
   "source": [
    "dc = (\n",
    "\ttowhee.read_csv('qa.csv')\n",
    "\t\t.runas_op['id', 'id'](func=lambda x: int(x))\n",
    "\t\t.runas_op['question', 'qvec'](func = model.encode)\n",
    "\t\t.tensor_normalize['qvec', 'qvec']()\n",
    "\t\t.to_milvus['id', 'qvec'](collection=collection)\n",
    ")"
   ]
  },
  {
   "cell_type": "code",
   "execution_count": 8,
   "metadata": {},
   "outputs": [
    {
     "data": {
      "text/html": [
       "<table style=\"border-collapse: collapse;\"><tr><th style=\"text-align: center; font-size: 130%; border: none;\">id</th> <th style=\"text-align: center; font-size: 130%; border: none;\">question</th> <th style=\"text-align: center; font-size: 130%; border: none;\">answer</th> <th style=\"text-align: center; font-size: 130%; border: none;\">qvec</th></tr> <tr><td style=\"text-align: center; vertical-align: center; border-right: solid 1px #D3D3D3; border-left: solid 1px #D3D3D3; \">0</td> <td style=\"text-align: center; vertical-align: center; border-right: solid 1px #D3D3D3; border-left: solid 1px #D3D3D3; \">Is  Disability  Insurance  Requi...</td> <td style=\"text-align: center; vertical-align: center; border-right: solid 1px #D3D3D3; border-left: solid 1px #D3D3D3; \"> Not generally. There are five s...</td> <td style=\"text-align: left; vertical-align: center; border-right: solid 1px #D3D3D3; border-left: solid 1px #D3D3D3; \">[-0.007821438, 0.100024074, -0.0010973853, ...] shape=(768,)</td></tr> <tr><td style=\"text-align: center; vertical-align: center; border-right: solid 1px #D3D3D3; border-left: solid 1px #D3D3D3; \">1</td> <td style=\"text-align: center; vertical-align: center; border-right: solid 1px #D3D3D3; border-left: solid 1px #D3D3D3; \">Can  Creditors  Take  Life  Insu...</td> <td style=\"text-align: center; vertical-align: center; border-right: solid 1px #D3D3D3; border-left: solid 1px #D3D3D3; \"> If the person who passed away w...</td> <td style=\"text-align: left; vertical-align: center; border-right: solid 1px #D3D3D3; border-left: solid 1px #D3D3D3; \">[0.02621962, 0.10332995, 0.0071792766, ...] shape=(768,)</td></tr> <tr><td style=\"text-align: center; vertical-align: center; border-right: solid 1px #D3D3D3; border-left: solid 1px #D3D3D3; \">2</td> <td style=\"text-align: center; vertical-align: center; border-right: solid 1px #D3D3D3; border-left: solid 1px #D3D3D3; \">Does  Travelers  Insurance  Have...</td> <td style=\"text-align: center; vertical-align: center; border-right: solid 1px #D3D3D3; border-left: solid 1px #D3D3D3; \"> One of the insurance carriers I...</td> <td style=\"text-align: left; vertical-align: center; border-right: solid 1px #D3D3D3; border-left: solid 1px #D3D3D3; \">[-0.044059016, 0.04683365, -0.0072263787, ...] shape=(768,)</td></tr> <tr><td style=\"text-align: center; vertical-align: center; border-right: solid 1px #D3D3D3; border-left: solid 1px #D3D3D3; \">3</td> <td style=\"text-align: center; vertical-align: center; border-right: solid 1px #D3D3D3; border-left: solid 1px #D3D3D3; \">Can  I  Drive  A  New  Car  Home...</td> <td style=\"text-align: center; vertical-align: center; border-right: solid 1px #D3D3D3; border-left: solid 1px #D3D3D3; \"> Most auto dealers will not let ...</td> <td style=\"text-align: left; vertical-align: center; border-right: solid 1px #D3D3D3; border-left: solid 1px #D3D3D3; \">[-0.05536839, 0.07519536, -0.016274251, ...] shape=(768,)</td></tr> <tr><td style=\"text-align: center; vertical-align: center; border-right: solid 1px #D3D3D3; border-left: solid 1px #D3D3D3; \">4</td> <td style=\"text-align: center; vertical-align: center; border-right: solid 1px #D3D3D3; border-left: solid 1px #D3D3D3; \">Is  The  Cash  Surrender  Value ...</td> <td style=\"text-align: center; vertical-align: center; border-right: solid 1px #D3D3D3; border-left: solid 1px #D3D3D3; \"> Cash surrender value comes only...</td> <td style=\"text-align: left; vertical-align: center; border-right: solid 1px #D3D3D3; border-left: solid 1px #D3D3D3; \">[0.0059586815, 0.033545397, 0.018074661, ...] shape=(768,)</td></tr></table>"
      ],
      "text/plain": [
       "<IPython.core.display.HTML object>"
      ]
     },
     "metadata": {},
     "output_type": "display_data"
    },
    {
     "data": {
      "text/plain": [
       "99"
      ]
     },
     "execution_count": 8,
     "metadata": {},
     "output_type": "execute_result"
    }
   ],
   "source": [
    "dc.show()\n",
    "collection.num_entities"
   ]
  },
  {
   "cell_type": "markdown",
   "metadata": {},
   "source": [
    "### Insert IDs and QA combos into PostgreSQL"
   ]
  },
  {
   "cell_type": "code",
   "execution_count": 9,
   "metadata": {},
   "outputs": [],
   "source": [
    "# def load_data_to_mysql(data):\n",
    "#     sql = ''.join(['insert into ', 'question_answering',' (id,question,answer) values (%s,%s,%s);'])\n",
    "#     try:\n",
    "#         cursor.executemany(sql, data)\n",
    "#         conn.commit()\n",
    "#         print('Load data to table: \\'question_answering\\' successfully')\n",
    "#     except Exception as e:\n",
    "#         print('MYSQL ERROR: {} with sql: {}'.format(e, sql))\n",
    "\n",
    "# load_data_to_mysql(data)\n",
    "data = {}\n",
    "for i in dc:\n",
    "    data[i.id] = i.answer"
   ]
  },
  {
   "cell_type": "markdown",
   "metadata": {},
   "source": [
    "### Search"
   ]
  },
  {
   "cell_type": "code",
   "execution_count": 10,
   "metadata": {},
   "outputs": [],
   "source": [
    "from towhee import Entity\n",
    "queries = ['What is AAA?']\n",
    "search_params = {\"metric_type\": 'IP', \"params\": {\"nprobe\": 16}}\n",
    "\n",
    "dc = (\n",
    "\ttowhee.DataFrame([Entity(query=query) for query in queries])\n",
    "\t\t.runas_op['query', 'qvec'](func = model.encode)\n",
    "\t\t.tensor_normalize['qvec', 'qvec']()\n",
    "\t\t.milvus_search['qvec', 'results'](collection=collection, anns_field=\"embedding\", param=search_params, limit=5)\n",
    "\t\t.runas_op['results', 'answers'](func = lambda x: [{'answer': data[i.id], 'scores': i.score} for i in x])\n",
    "\t\t.select['query', 'answers']()\n",
    ")"
   ]
  },
  {
   "cell_type": "code",
   "execution_count": 11,
   "metadata": {},
   "outputs": [
    {
     "data": {
      "text/html": [
       "<table style=\"border-collapse: collapse;\"><tr><th style=\"text-align: center; font-size: 130%; border: none;\">query</th> <th style=\"text-align: center; font-size: 130%; border: none;\">answers</th></tr> <tr><td style=\"text-align: center; vertical-align: center; border-right: solid 1px #D3D3D3; border-left: solid 1px #D3D3D3; \">What is AAA?</td> <td style=\"text-align: left; vertical-align: center; border-right: solid 1px #D3D3D3; border-left: solid 1px #D3D3D3; \">[{'answer': ' AAA Home insurance, like all other major carriers, covers a wide variety of claims, including fire, theft, vandalis...,{'answer': ' Many insurers utilize credit scores when determining the auto insurance rate a customer will pay. The reason is tha...,{'answer': ' Yes, automobile insurance is typically paid in advance. Normally no less than thirty days at a time. Each carrier s...,{'answer': ' No, AARP does not carry Long Term Care insurance at this time. The American Association of Retired Persons does giv...,...] len=5</td></tr></table>"
      ],
      "text/plain": [
       "<IPython.core.display.HTML object>"
      ]
     },
     "metadata": {},
     "output_type": "display_data"
    }
   ],
   "source": [
    "dc.show()"
   ]
  },
  {
   "cell_type": "code",
   "execution_count": 12,
   "metadata": {},
   "outputs": [
    {
     "data": {
      "text/plain": [
       "[{'answer': ' AAA Home insurance, like all other major carriers, covers a wide variety of claims, including fire, theft, vandalism, and many other items. However, there are numerous types of policies offered, so it is best to determine the type of policy you have to accurately understand all of the benefits. An experienced broker can help.',\n",
       "  'scores': 0.572884202003479},\n",
       " {'answer': ' Many insurers utilize credit scores when determining the auto insurance rate a customer will pay. The reason is that often, there is a direct correlation and relationship with bad credit and higher incidence of accidents. Although the discount or surcharge may not be large, it is till worthwhile to be aware of your current credit rating and take steps to monitor and improve it.',\n",
       "  'scores': 0.4042107164859772},\n",
       " {'answer': ' Yes, automobile insurance is typically paid in advance. Normally no less than thirty days at a time. Each carrier sets their own requirements as to the initial payment amount for new coverage. Most carriers allow clients to pay monthly, quarterly, semi-annually, or annually. If you pay your premium in full for semi-annual or annual you may also receive a discount on your rate ( this is solely at the discretion of the carrier ).',\n",
       "  'scores': 0.3180544972419739},\n",
       " {'answer': ' No, AARP does not carry Long Term Care insurance at this time. The American Association of Retired Persons does give tips to members on what to look for in long term care coverage and is committed to watching out for its age 50+ members in this area. To obtain Long Term Care quotes there are many online agencies that can assist you.',\n",
       "  'scores': 0.30669426918029785},\n",
       " {'answer': \" When you are applying for auto insurance coverage most if not all insurance carriers will do what is called a soft pull of an insured's credit score. This soft pull normally will not adversely affect a persons credit rating. Credit score is only one part of the many factors that are taken into consideration when your rate is calculated.\",\n",
       "  'scores': 0.30459803342819214}]"
      ]
     },
     "execution_count": 12,
     "metadata": {},
     "output_type": "execute_result"
    }
   ],
   "source": [
    "dc[0].answers"
   ]
  }
 ],
 "metadata": {
  "interpreter": {
   "hash": "f7dd10cdbe9a9c71f7e71741efd428241b5f9fa0fecdd29ae07a5706cd5ff8a2"
  },
  "kernelspec": {
   "display_name": "Python 3.8.5 ('base')",
   "language": "python",
   "name": "python3"
  },
  "language_info": {
   "codemirror_mode": {
    "name": "ipython",
    "version": 3
   },
   "file_extension": ".py",
   "mimetype": "text/x-python",
   "name": "python",
   "nbconvert_exporter": "python",
   "pygments_lexer": "ipython3",
   "version": "3.8.5"
  },
  "orig_nbformat": 4
 },
 "nbformat": 4,
 "nbformat_minor": 2
}
