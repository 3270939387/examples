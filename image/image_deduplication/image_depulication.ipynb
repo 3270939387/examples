{
 "cells": [
  {
   "cell_type": "markdown",
   "id": "dc31d407",
   "metadata": {},
   "source": [
    "# Image Deduplication\n",
    "\n",
    "Image deduplication is the process of finding exact or near-exact duplicates within a collection of images. For example:\n",
    "\n",
    "![Example](image_dedup.png)"
   ]
  },
  {
   "cell_type": "markdown",
   "id": "2d274f36",
   "metadata": {},
   "source": [
    "## Key components\n",
    "\n",
    "In this section, we go over some key technologies (models, modules, scripts, etc...) used to successfully implement an image deduplication algorithm.\n",
    "\n",
    "### Encoder-based embedding model\n",
    "\n",
    "A generic embedding model turns images into dense vectors; an encoder-based embedding model outputs dense vectors which encode scale-invariant edges and corners within the input image as opposed to pure semantic information. For example, while two images of different dogs may result in two very similar encodings when using traditional object recognition embedding models, the output embeddings would be very different when using encoding-based embedding models. This [blog post](https://towardsdatascience.com/contrastive-loss-explaned-159f2d4a87ec) is a great resource for understanding contrastive loss.\n",
    "\n",
    "To accomplish this, these encoder models shouldn't be trained on traditional image recognition/localization datasets such as CIFAR or ImageNet; instead, a siamese network trained with contrastive or triplet loss must be used. Towhee provides such a model, pre-built and ready to use in just a single line of code:"
   ]
  },
  {
   "cell_type": "code",
   "execution_count": null,
   "id": "b406fd8b",
   "metadata": {},
   "outputs": [],
   "source": [
    "from towhee import pipeline\n",
    "embedding_pipeline = pipeline('image-encoding')  # instantiate the pipeline\n",
    "\n",
    "img0_embedding = embedding_pipeline('/path/to/img0')  # compute embedding for image 0\n",
    "img1_embedding = embedding_pipeline('/path/to/img1')  # compute embedding for image 1"
   ]
  },
  {
   "cell_type": "markdown",
   "id": "52f49de5",
   "metadata": {},
   "source": [
    "Unlike the pre-built `image-embedding` pipeline which is trained with categorical cross-entropy on ImageNet labels, the `image-encoding` model is trained to output extremely close embeddings for two \"similar\" input images, i.e. zero, one, or many of the following transformations:\n",
    "\n",
    "1. Color conversion, e.g. changes in lighting/contrast\n",
    "2. Up to 150% zoom plus a random crop\n",
    "3. Additive salt-and-pepper (Gaussian) noise\n",
    "\n",
    "These transformations render the model invariant to changes in zoom, lighting, and noise.\n",
    "\n",
    "### Similarity metric\n",
    "\n",
    "The embeddings themselves are useless without a similarity metric. Here, we check if the L2 norm of the difference vector between the query and target images is within a certain threshold. If so, then the images are considered duplicates.\n"
   ]
  },
  {
   "cell_type": "code",
   "execution_count": null,
   "id": "66bfeb30",
   "metadata": {},
   "outputs": [],
   "source": [
    "import numpy as np\n",
    "thresh = 0.01\n",
    "is_sim = np.linalg.norm(img0_embedding - img1_embedding) < thresh"
   ]
  },
  {
   "cell_type": "markdown",
   "id": "1df29cce",
   "metadata": {},
   "source": [
    "This is an empirically determined threshold based on experiments run on a fully trained model."
   ]
  },
  {
   "cell_type": "markdown",
   "id": "17e123a9",
   "metadata": {},
   "source": [
    "## Putting it all together\n",
    "\n",
    "Putting it all together, we can check if two images are duplicate with the following code snippet:"
   ]
  },
  {
   "cell_type": "code",
   "execution_count": null,
   "id": "5ef8982c",
   "metadata": {},
   "outputs": [],
   "source": [
    "from towhee import pipeline\n",
    "import numpy as np\n",
    "embedding_pipeline = pipeline('image-encoding')\n",
    "img0_embedding = embedding_pipeline('/path/to/img0')\n",
    "img1_embedding = embedding_pipeline('/path/to/img1')\n",
    "\n",
    "is_sim = np.linalg.norm(img0_embedding - img1_embedding) < 0.01"
   ]
  },
  {
   "cell_type": "markdown",
   "id": "afc80c87",
   "metadata": {},
   "source": [
    "And that's it! Have fun and happy embedding :)"
   ]
  },
  {
   "cell_type": "code",
   "execution_count": null,
   "id": "83899bd8",
   "metadata": {},
   "outputs": [],
   "source": []
  }
 ],
 "metadata": {
  "kernelspec": {
   "display_name": "Python 3 (ipykernel)",
   "language": "python",
   "name": "python3"
  },
  "language_info": {
   "codemirror_mode": {
    "name": "ipython",
    "version": 3
   },
   "file_extension": ".py",
   "mimetype": "text/x-python",
   "name": "python",
   "nbconvert_exporter": "python",
   "pygments_lexer": "ipython3",
   "version": "3.8.12"
  }
 },
 "nbformat": 4,
 "nbformat_minor": 5
}
