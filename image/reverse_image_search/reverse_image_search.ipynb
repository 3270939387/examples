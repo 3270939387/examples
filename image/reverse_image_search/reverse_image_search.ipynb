{
 "cells": [
  {
   "cell_type": "markdown",
   "id": "58e0cdd9",
   "metadata": {},
   "source": [
    "# Towhee image search"
   ]
  },
  {
   "cell_type": "markdown",
   "id": "4a817466",
   "metadata": {},
   "source": [
    "## Preparetion"
   ]
  },
  {
   "cell_type": "code",
   "execution_count": 2,
   "id": "5885d623",
   "metadata": {},
   "outputs": [],
   "source": [
    "from pymilvus import connections, FieldSchema, CollectionSchema, DataType, Collection, utility"
   ]
  },
  {
   "cell_type": "code",
   "execution_count": 3,
   "id": "2eb35acd",
   "metadata": {},
   "outputs": [],
   "source": [
    "# create reverse_image_search collection and build index\n",
    "def create_milvus_collection(collection_name, dim):\n",
    "    connections.connect(host='127.0.0.1', port='19530')\n",
    "    fields = [\n",
    "    FieldSchema(name='id', dtype=DataType.INT64, descrition='ids', is_primary=True, auto_id=True),\n",
    "    FieldSchema(name='embedding', dtype=DataType.FLOAT_VECTOR, descrition='embedding vectors', dim=dim)\n",
    "    ]\n",
    "    schema = CollectionSchema(fields=fields, description='reverse image search')\n",
    "    collection = Collection(name=collection_name, schema=schema)\n",
    "\n",
    "    # create IVF_FLAT index for collection.\n",
    "    index_params = {\n",
    "        'metric_type':'L2',\n",
    "        'index_type':\"IVF_FLAT\",\n",
    "        'params':{\"nlist\":2048}\n",
    "    }\n",
    "    collection.create_index(field_name=\"embedding\", index_params=index_params)\n",
    "    return collection\n",
    "\n",
    "# connect to milvus\n",
    "collection = create_milvus_collection('reverse_image_search', 2048)"
   ]
  },
  {
   "cell_type": "code",
   "execution_count": 4,
   "id": "e0db38a2",
   "metadata": {},
   "outputs": [
    {
     "data": {
      "text/plain": [
       "1000"
      ]
     },
     "execution_count": 4,
     "metadata": {},
     "output_type": "execute_result"
    }
   ],
   "source": [
    "connections.connect(host='127.0.0.1', port='19530')\n",
    "collection.num_entities\n",
    "# Collection('reverse_image_search').drop()"
   ]
  },
  {
   "cell_type": "code",
   "execution_count": 11,
   "id": "823078d9",
   "metadata": {},
   "outputs": [
    {
     "data": {
      "text/plain": [
       "2000"
      ]
     },
     "execution_count": 11,
     "metadata": {},
     "output_type": "execute_result"
    }
   ],
   "source": [
    "connections.connect(host='127.0.0.1', port='19530')\n",
    "# Collection('resnet50').num_entities\n",
    "# Collection('resnet101').num_entities\n",
    "Collection('reverse_image_search_bak').num_entities\n",
    "# Collection('resnet50').drop()\n",
    "# Collection('resnet101').drop()"
   ]
  },
  {
   "cell_type": "markdown",
   "id": "8fe1829d",
   "metadata": {},
   "source": [
    "## Reverse image search with Towhee"
   ]
  },
  {
   "cell_type": "code",
   "execution_count": 6,
   "id": "eecfd98d",
   "metadata": {},
   "outputs": [],
   "source": [
    "import towhee\n",
    "from diskcache import Cache\n",
    "\n",
    "milvus_collection = towhee.connectors.milvus(uri='tcp://127.0.0.1:19530/reverse_image_search')\n",
    "cache = Cache('./tmp')\n",
    "\n",
    "@towhee.register(name='save_path_id')\n",
    "def save_path_id(path, mr):\n",
    "    for i in range(len(mr.primary_keys)):\n",
    "        cache[mr.primary_keys[i]] = path[i]\n",
    "    return len(cache)"
   ]
  },
  {
   "cell_type": "code",
   "execution_count": null,
   "id": "a6a0392b",
   "metadata": {},
   "outputs": [],
   "source": [
    "import time\n",
    "time1 = time.time()\n",
    "\n",
    "with milvus_collection:\n",
    "    dc = (\n",
    "        towhee.glob['path']('./extracted_train/*/*.JPEG')\n",
    "#         towhee.glob['path']('/Users/chenshiyu/workspace/data/pic/tets/*.jpg')\n",
    "          .image_decode['path', 'img']()\n",
    "          .runas_op['path', 'label'](func = lambda path: path.split('/')[-2])\n",
    "          .image_embedding.timm['img', 'vec'](model_name='resnet50')\n",
    "          .batch(100)\n",
    "          .ann_insert['vec', 'res'](ann_index=milvus_collection)\n",
    "          .save_path_id[('path', 'res'), 'num']()\n",
    "          .unstream()\n",
    "    )\n",
    "print(time.time()-time1)"
   ]
  },
  {
   "cell_type": "code",
   "execution_count": null,
   "id": "9a92cd98",
   "metadata": {},
   "outputs": [],
   "source": [
    "import cv2\n",
    "from towhee._types.image import Image\n",
    "\n",
    "with milvus_collection:\n",
    "    (\n",
    "  towhee.glob['path']('./extracted_test/n043*/*.JPEG')\n",
    "#   towhee.glob['path']('/Users/chenshiyu/workspace/data/pic/test/*.jpg')\n",
    "        .image_decode['path', 'img']()\n",
    "        .image_embedding.timm['img', 'vec'](model_name='resnet50')\n",
    "        .ann_search['vec', 'result'](ann_index=milvus_collection, limit=5)\n",
    "        .runas_op['result', 'result_img'](func=lambda res: [Image(cv2.imread(cache[x.id]), 'BGR') for x in res])\n",
    "        .select['img', 'result_img']()\n",
    "        .show()\n",
    "    )"
   ]
  },
  {
   "cell_type": "markdown",
   "id": "388cffff",
   "metadata": {},
   "source": [
    "## Play with gradio"
   ]
  },
  {
   "cell_type": "code",
   "execution_count": null,
   "id": "5d29f200",
   "metadata": {},
   "outputs": [],
   "source": [
    "from towhee.types.image_utils import from_pil\n",
    "import gradio\n",
    "\n",
    "with towhee.api() as api:\n",
    "    search_in_milvus = (\n",
    "        api.runas_op(func=lambda img: from_pil(img))\n",
    "        .image_embedding.timm(model_name='resnet50')\n",
    "        .ann_search(ann_index='tcp://127.0.0.1:19530/reverse_image_search', limit=5)\n",
    "        .runas_op(func=lambda res: [cache[x.id] for x in res])\n",
    "        .as_function()\n",
    "        )\n",
    "\n",
    "interface = gradio.Interface(search_in_milvus, \n",
    "                             gradio.inputs.Image(type=\"pil\", source='upload'),\n",
    "                             [gradio.outputs.Image(type=\"file\", label=None) for _ in range(5)]\n",
    "                            )\n",
    "\n",
    "interface.launch(inline=True)"
   ]
  },
  {
   "cell_type": "markdown",
   "id": "9bf5cbeb",
   "metadata": {},
   "source": [
    "## Advanced Test"
   ]
  },
  {
   "cell_type": "code",
   "execution_count": 7,
   "id": "9a99cdbf",
   "metadata": {},
   "outputs": [],
   "source": [
    "# parallel execute\n",
    "collection_res50_parallel = create_milvus_collection('reverse_image_search_bak', 2048)\n",
    "milvus_collection = towhee.connectors.milvus(uri='tcp://127.0.0.1:19530/reverse_image_search_bak')"
   ]
  },
  {
   "cell_type": "code",
   "execution_count": 10,
   "id": "058c6768",
   "metadata": {},
   "outputs": [
    {
     "name": "stdout",
     "output_type": "stream",
     "text": [
      "70.05783486366272\n"
     ]
    }
   ],
   "source": [
    "time1 = time.time()\n",
    "\n",
    "with milvus_collection:\n",
    "    dc = (\n",
    "        towhee.glob['path']('./extracted_train/*/*.JPEG')\n",
    "          .set_parallel(3)\n",
    "          .image_decode['path', 'img']()\n",
    "          .runas_op['path', 'label'](func = lambda path: path.split('/')[-2])\n",
    "          .image_embedding.timm['img', 'vec'](model_name='resnet50')\n",
    "          .batch(100)\n",
    "          .ann_insert['vec', 'res'](ann_index=milvus_collection)\n",
    "          .save_path_id[('path', 'res'), 'num']()\n",
    "          .unstream()\n",
    "    )\n",
    "print(time.time()-time1)"
   ]
  },
  {
   "cell_type": "code",
   "execution_count": null,
   "id": "b1e7dbf1",
   "metadata": {},
   "outputs": [],
   "source": [
    "# expetion safe and drop empty\n",
    "with milvus_collection:\n",
    "    (\n",
    "  towhee.glob['path']('./exception/*.JPEG')\n",
    "        .exception_safe()\n",
    "        .image_decode['path', 'img']()\n",
    "        .image_embedding.timm['img', 'vec'](model_name='resnet50')\n",
    "        .ann_search['vec', 'result'](ann_index=milvus_collection, limit=5)\n",
    "        .runas_op['result', 'result_img'](func=lambda res: [Image(cv2.imread(cache[x.id]), 'BGR') for x in res])\n",
    "        .drop_empty()\n",
    "        .select['img', 'result_img']()\n",
    "        .show()\n",
    "    )"
   ]
  },
  {
   "cell_type": "code",
   "execution_count": null,
   "id": "329c98a9",
   "metadata": {},
   "outputs": [],
   "source": [
    "# metric report\n",
    "# collect label info\n",
    "labels = {}\n",
    "def collect(entity):\n",
    "    for label, path in zip(entity.label, entity.path):\n",
    "        if label not in labels:\n",
    "            labels[label] = [path]\n",
    "        else:\n",
    "            labels[label].append(path)\n",
    "any(map(collect, dc))\n",
    "\n",
    "model_dim = {\n",
    "    'resnet50': 2048,\n",
    "    'resnet101': 2048\n",
    "}\n",
    "\n",
    "for model in model_dim:\n",
    "    collection = create_milvus_collection(model, model_dim[model])\n",
    "    milvus_collection = towhee.connectors.milvus(uri=f'tcp://127.0.0.1:19530/{model}')\n",
    "    \n",
    "    with milvus_collection:\n",
    "        ( towhee.glob['path']('./extracted_train/*/*.JPEG')\n",
    "                .set_parallel(3)\n",
    "                .image_decode['path', 'img']()\n",
    "                .image_embedding.timm['img', 'vec'](model_name=model)\n",
    "                .batch(100)\n",
    "                .ann_insert['vec', 'res'](ann_index=milvus_collection)\n",
    "                .save_path_id[('path', 'res'), 'num']()\n",
    "                .run()\n",
    "        )\n",
    "\n",
    "        ( towhee.glob['path']('./extracted_test/*/*.JPEG')\n",
    "                .set_parallel(3)\n",
    "                .image_decode['path', 'img']()\n",
    "                .image_embedding.timm['img', 'vec'](model_name=model)\n",
    "                .runas_op['path', 'ground_truth'](func=lambda path: labels[path.split('/')[-2]])\n",
    "                .ann_search['vec', 'result'](ann_index=milvus_collection, limit=5)\n",
    "                .runas_op['result', 'result'](func=lambda res: [cache[x.id] for x in res])\n",
    "                .with_metrics(['mean_hit_ratio', 'mean_average_precision'])\n",
    "                .evaluate['ground_truth', 'result'](model)\n",
    "                .report()\n",
    "        )"
   ]
  },
  {
   "cell_type": "code",
   "execution_count": null,
   "id": "2b613c00",
   "metadata": {},
   "outputs": [],
   "source": [
    "# Define a Huggingface ViT Model\n",
    "from transformers import ViTFeatureExtractor, ViTModel\n",
    "\n",
    "def vit_embedding_model(img):\n",
    "    img = img.cv2_to_rgb()\n",
    "    feature_extractor = ViTFeatureExtractor.from_pretrained('google/vit-base-patch16-224-in21k')\n",
    "    model = ViTModel.from_pretrained('google/vit-base-patch16-224-in21k')\n",
    "\n",
    "    inputs = feature_extractor(img, return_tensors=\"pt\")\n",
    "    outputs = model(**inputs)\n",
    "\n",
    "    return outputs.pooler_output.detach().numpy().flatten()\n",
    "\n",
    "# Image classification with huggingface vit model\n",
    "(   \n",
    "    towhee.glob['path']('./extracted_train/*/*.JPEG')\n",
    "        .exception_safe()\n",
    "        .set_parallel(4)\n",
    "        .image_decode['path', 'img']()\n",
    "        .runas_op['img', 'vec'](func=vit_embedding_model)\n",
    "        .batch(100)\n",
    "        .ann_insert['vec', 'res'](ann_index=milvus_collection)\n",
    "        .save_path_id[('path', 'res'), 'num']()\n",
    "        .drop_empty()\n",
    "        .run()\n",
    ")\n",
    "\n",
    "(\n",
    "    towhee.glob['path']('./extracted_test/*/*.JPEG')\n",
    "        .exception_safe()\n",
    "        .set_parallel(4)\n",
    "        .image_decode['path', 'img']()\n",
    "        .runas_op['img', 'vec'](func=vit_embedding_model)\n",
    "        .runas_op['path', 'ground_truth'](func=lambda path: labels[path.split('/')[-2]])\n",
    "        .ann_search['vec', 'result'](ann_index=milvus_collection, limit=5)\n",
    "        .runas_op['result', 'result'](func=lambda res: [cache[x.id] for x in res])\n",
    "        .with_metrics(['mean_hit_ratio', 'mean_average_precision'])\n",
    "        .drop_empty()\n",
    "        .evaluate['ground_truth', 'result']('huggingface_vit')\n",
    "        .report()\n",
    ")"
   ]
  },
  {
   "cell_type": "markdown",
   "id": "bc76bf67",
   "metadata": {},
   "source": [
    "## Run with FastAPI"
   ]
  },
  {
   "cell_type": "code",
   "execution_count": null,
   "id": "759855bc",
   "metadata": {},
   "outputs": [],
   "source": [
    "from fastapi import FastAPI\n",
    "app = FastAPI()\n",
    "milvus_collection = towhee.connectors.milvus(uri='tcp://127.0.0.1:19530/resnet101')\n",
    "    \n",
    "with towhee.api['file']() as api:\n",
    "    with milvus_collection:\n",
    "        app_insert = (\n",
    "            api.image_load['file', 'img']()\n",
    "              .save_image['img', 'path'](dir='tmp/images')\n",
    "              .image_embedding.timm['img', 'vec'](model_name='resnet101')\n",
    "              .ann_insert['vec', 'res'](ann_index=milvus_collection)\n",
    "              .save_path_id[('path', 'res'), 'num']()\n",
    "              .select['res']()\n",
    "              .serve('/insert', app)\n",
    "        )"
   ]
  },
  {
   "cell_type": "code",
   "execution_count": null,
   "id": "4fbf7823",
   "metadata": {},
   "outputs": [],
   "source": [
    "with towhee.api['file']() as api:\n",
    "    with milvus_collection:\n",
    "        (\n",
    "         api.image_load['file', 'img']()\n",
    "            .image_embedding.timm['img', 'vec'](model_name='resnet101')\n",
    "            .ann_search['vec', 'result'](ann_index=milvus_collection)\n",
    "            .runas_op['result', 'file'](func=lambda res: [cache[x.id] for x in res])\n",
    "            .select['file']()\n",
    "            .serve('/search', app)\n",
    "        )"
   ]
  },
  {
   "cell_type": "code",
   "execution_count": null,
   "id": "ec7c8ef6",
   "metadata": {},
   "outputs": [],
   "source": [
    "@towhee.register(name='milvus-count')\n",
    "class MilvusCount:\n",
    "    def __init__(self, collection):\n",
    "        self.collection = collection\n",
    "        if isinstance(collection, str):\n",
    "            self.collection = Collection(collection)\n",
    "\n",
    "    def __call__(self, *args):\n",
    "        return self.collection.num_entities\n",
    "\n",
    "\n",
    "with towhee.api() as api:\n",
    "    app_count = (\n",
    "        api.milvus_count(collection='resnet101')\n",
    "        .serve('/count', app)\n",
    "        )"
   ]
  },
  {
   "cell_type": "code",
   "execution_count": null,
   "id": "fc6120a8",
   "metadata": {},
   "outputs": [],
   "source": [
    "import uvicorn\n",
    "import nest_asyncio\n",
    "\n",
    "nest_asyncio.apply()\n",
    "uvicorn.run(app=app, host='0.0.0.0', port=8000)"
   ]
  },
  {
   "cell_type": "markdown",
   "id": "98f03781",
   "metadata": {},
   "source": [
    "Then try to run these api with command:\n",
    "```shell\n",
    "# upload an image and search\n",
    "$ curl -X POST \"http://0.0.0.0:8000/search\"  --data-binary @extracted_test/n01443537/n01443537_3883.JPEG -H 'Content-Type: image/jpeg'\n",
    "# upload an image and insert\n",
    "$ curl -X POST \"http://0.0.0.0:8000/insert\"  --data-binary @extracted_test/n01443537/n01443537_3883.JPEG -H 'Content-Type: image/jpeg'\n",
    "# count the collection\n",
    "$ curl -X POST \"http://0.0.0.0:8000/count\"\n",
    "```"
   ]
  },
  {
   "cell_type": "code",
   "execution_count": null,
   "id": "95313914",
   "metadata": {},
   "outputs": [],
   "source": []
  }
 ],
 "metadata": {
  "kernelspec": {
   "display_name": "Python 3 (ipykernel)",
   "language": "python",
   "name": "python3"
  },
  "language_info": {
   "codemirror_mode": {
    "name": "ipython",
    "version": 3
   },
   "file_extension": ".py",
   "mimetype": "text/x-python",
   "name": "python",
   "nbconvert_exporter": "python",
   "pygments_lexer": "ipython3",
   "version": "3.8.12"
  }
 },
 "nbformat": 4,
 "nbformat_minor": 5
}
