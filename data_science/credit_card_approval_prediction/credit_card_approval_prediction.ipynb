{
 "cells": [
  {
   "cell_type": "markdown",
   "id": "61105609",
   "metadata": {
    "papermill": {
     "duration": 0.030989,
     "end_time": "2022-04-14T02:32:17.321674",
     "exception": false,
     "start_time": "2022-04-14T02:32:17.290685",
     "status": "completed"
    },
    "tags": []
   },
   "source": [
    "\n",
    "# Credit Card Approval Prediction With Towhee"
   ]
  },
  {
   "cell_type": "markdown",
   "id": "55cab93c",
   "metadata": {
    "papermill": {
     "duration": 0.03019,
     "end_time": "2022-04-14T02:32:17.381828",
     "exception": false,
     "start_time": "2022-04-14T02:32:17.351638",
     "status": "completed"
    },
    "tags": []
   },
   "source": [
    "- [Before You Get Started](#1)\n",
    "- [Data Processing With Pandas](#2)\n",
    "- [Building Models with Towhee](#3)\n",
    "    - [Prepare Training And Testing Data](#4)\n",
    "    - [Feature Extract](#5)\n",
    "    - [Model](#6)\n",
    "        - [Train](#7)\n",
    "        - [Evaluate](#8)\n",
    "        - [Ensemble](#9)\n",
    "- [Improve](#10)\n",
    "        "
   ]
  },
  {
   "cell_type": "code",
   "execution_count": 1,
   "id": "4bfb51b0",
   "metadata": {
    "execution": {
     "iopub.execute_input": "2022-04-14T02:32:17.450546Z",
     "iopub.status.busy": "2022-04-14T02:32:17.449834Z",
     "iopub.status.idle": "2022-04-14T02:32:17.453676Z",
     "shell.execute_reply": "2022-04-14T02:32:17.453183Z"
    },
    "papermill": {
     "duration": 0.04127,
     "end_time": "2022-04-14T02:32:17.453895",
     "exception": false,
     "start_time": "2022-04-14T02:32:17.412625",
     "status": "completed"
    },
    "tags": []
   },
   "outputs": [],
   "source": [
    "import warnings\n",
    "warnings.filterwarnings(\"ignore\")"
   ]
  },
  {
   "cell_type": "markdown",
   "id": "c952b50e",
   "metadata": {
    "papermill": {
     "duration": 0.029358,
     "end_time": "2022-04-14T02:32:17.513699",
     "exception": false,
     "start_time": "2022-04-14T02:32:17.484341",
     "status": "completed"
    },
    "tags": []
   },
   "source": [
    "<a id=\"1\"></a> <br>\n",
    "## Before you get started\n",
    "In this notebook we are about to finish the credit card approval prediction task with pandas and [Towhee](https://towhee.io/). Towhee is an open-source machine learning pipeline that helps you with various machine learning tasks. Make sure you have installed towhee over 0.6.0 before you get started via `pip install towhee`.\n",
    "\n",
    "You are more than welcome to join our community, together we can make a differnece.\n",
    "\n",
    "**Github**: [https://github.com/towhee-io/towhee](https://github.com/towhee-io/towhee)\n",
    "\n",
    "**Slack**: [https://slack.towhee.io](https://slack.towhee.io)\n",
    "\n",
    "**Twitter**: [https://twitter.com/towheeio](https://twitter.com/towheeio)"
   ]
  },
  {
   "cell_type": "code",
   "execution_count": 2,
   "id": "4c81d2ae",
   "metadata": {
    "execution": {
     "iopub.execute_input": "2022-04-14T02:32:17.578483Z",
     "iopub.status.busy": "2022-04-14T02:32:17.577811Z",
     "iopub.status.idle": "2022-04-14T02:32:32.304208Z",
     "shell.execute_reply": "2022-04-14T02:32:32.303670Z",
     "shell.execute_reply.started": "2022-04-11T03:40:10.457798Z"
    },
    "papermill": {
     "duration": 14.760908,
     "end_time": "2022-04-14T02:32:32.304319",
     "exception": false,
     "start_time": "2022-04-14T02:32:17.543411",
     "status": "completed"
    },
    "tags": []
   },
   "outputs": [
    {
     "name": "stdout",
     "output_type": "stream",
     "text": [
      "Collecting towhee\r\n",
      "  Downloading towhee-0.6.0-py3-none-any.whl (322 kB)\r\n",
      "     |████████████████████████████████| 322 kB 515 kB/s            \r\n",
      "\u001b[?25hCollecting ruamel.yaml<=0.16.6\r\n",
      "  Downloading ruamel.yaml-0.16.6-py2.py3-none-any.whl (123 kB)\r\n",
      "     |████████████████████████████████| 123 kB 7.8 MB/s            \r\n",
      "\u001b[?25hRequirement already satisfied: tqdm>=4.59.0 in /opt/conda/lib/python3.7/site-packages (from towhee) (4.62.3)\r\n",
      "Requirement already satisfied: numpy in /opt/conda/lib/python3.7/site-packages (from towhee) (1.20.3)\r\n",
      "Requirement already satisfied: requests>=2.12.5 in /opt/conda/lib/python3.7/site-packages (from towhee) (2.26.0)\r\n",
      "Requirement already satisfied: tabulate in /opt/conda/lib/python3.7/site-packages (from towhee) (0.8.9)\r\n",
      "Requirement already satisfied: charset-normalizer~=2.0.0 in /opt/conda/lib/python3.7/site-packages (from requests>=2.12.5->towhee) (2.0.9)\r\n",
      "Requirement already satisfied: idna<4,>=2.5 in /opt/conda/lib/python3.7/site-packages (from requests>=2.12.5->towhee) (3.1)\r\n",
      "Requirement already satisfied: urllib3<1.27,>=1.21.1 in /opt/conda/lib/python3.7/site-packages (from requests>=2.12.5->towhee) (1.26.7)\r\n",
      "Requirement already satisfied: certifi>=2017.4.17 in /opt/conda/lib/python3.7/site-packages (from requests>=2.12.5->towhee) (2021.10.8)\r\n",
      "Collecting ruamel.yaml.clib>=0.1.2\r\n",
      "  Downloading ruamel.yaml.clib-0.2.6-cp37-cp37m-manylinux1_x86_64.whl (546 kB)\r\n",
      "     |████████████████████████████████| 546 kB 7.8 MB/s            \r\n",
      "\u001b[?25hInstalling collected packages: ruamel.yaml.clib, ruamel.yaml, towhee\r\n",
      "Successfully installed ruamel.yaml-0.16.6 ruamel.yaml.clib-0.2.6 towhee-0.6.0\r\n",
      "\u001b[33mWARNING: Running pip as the 'root' user can result in broken permissions and conflicting behaviour with the system package manager. It is recommended to use a virtual environment instead: https://pip.pypa.io/warnings/venv\u001b[0m\r\n",
      "Note: you may need to restart the kernel to use updated packages.\n"
     ]
    }
   ],
   "source": [
    "pip install towhee"
   ]
  },
  {
   "cell_type": "markdown",
   "id": "1cbb7a07",
   "metadata": {
    "papermill": {
     "duration": 0.036677,
     "end_time": "2022-04-14T02:32:32.378853",
     "exception": false,
     "start_time": "2022-04-14T02:32:32.342176",
     "status": "completed"
    },
    "tags": []
   },
   "source": [
    "<a id=\"2\"></a> <br>\n",
    "## Data Processing With Pandas"
   ]
  },
  {
   "cell_type": "markdown",
   "id": "d199529d",
   "metadata": {
    "papermill": {
     "duration": 0.036071,
     "end_time": "2022-04-14T02:32:32.451324",
     "exception": false,
     "start_time": "2022-04-14T02:32:32.415253",
     "status": "completed"
    },
    "tags": []
   },
   "source": [
    "First load the data as Dataframe for further processing.\n",
    "\n",
    "> Data is from [Kaggle](https://www.kaggle.com/code/chizzzy/credit-card-approval-prediction/data?scriptVersionId=92959791), you can download it."
   ]
  },
  {
   "cell_type": "code",
   "execution_count": 3,
   "id": "ffd00114",
   "metadata": {
    "execution": {
     "iopub.execute_input": "2022-04-14T02:32:32.530021Z",
     "iopub.status.busy": "2022-04-14T02:32:32.529503Z",
     "iopub.status.idle": "2022-04-14T02:32:34.330276Z",
     "shell.execute_reply": "2022-04-14T02:32:34.329717Z",
     "shell.execute_reply.started": "2022-04-11T03:40:19.109076Z"
    },
    "papermill": {
     "duration": 1.842774,
     "end_time": "2022-04-14T02:32:34.330389",
     "exception": false,
     "start_time": "2022-04-14T02:32:32.487615",
     "status": "completed"
    },
    "tags": []
   },
   "outputs": [],
   "source": [
    "import pandas as pd\n",
    "\n",
    "record = pd.read_csv(\"./credit_record.csv\", encoding = 'utf-8')\n",
    "data = pd.read_csv(\"./application_record.csv\", encoding = 'utf-8')"
   ]
  },
  {
   "cell_type": "markdown",
   "id": "ffb36a91",
   "metadata": {
    "papermill": {
     "duration": 0.035288,
     "end_time": "2022-04-14T02:32:34.402223",
     "exception": false,
     "start_time": "2022-04-14T02:32:34.366935",
     "status": "completed"
    },
    "tags": []
   },
   "source": [
    "Find the first month that users' data were recorded and rename the column with a more understandable name."
   ]
  },
  {
   "cell_type": "code",
   "execution_count": 4,
   "id": "9992d7a3",
   "metadata": {
    "execution": {
     "iopub.execute_input": "2022-04-14T02:32:34.487367Z",
     "iopub.status.busy": "2022-04-14T02:32:34.486708Z",
     "iopub.status.idle": "2022-04-14T02:32:34.528286Z",
     "shell.execute_reply": "2022-04-14T02:32:34.528666Z",
     "shell.execute_reply.started": "2022-04-11T03:40:20.988663Z"
    },
    "papermill": {
     "duration": 0.089854,
     "end_time": "2022-04-14T02:32:34.528851",
     "exception": false,
     "start_time": "2022-04-14T02:32:34.438997",
     "status": "completed"
    },
    "tags": []
   },
   "outputs": [],
   "source": [
    "begin_month=pd.DataFrame(record.groupby([\"ID\"])[\"MONTHS_BALANCE\"].agg(min))\n",
    "begin_month=begin_month.rename(columns={'MONTHS_BALANCE':'begin_month'}) "
   ]
  },
  {
   "cell_type": "markdown",
   "id": "364f66eb",
   "metadata": {
    "papermill": {
     "duration": 0.0349,
     "end_time": "2022-04-14T02:32:34.599460",
     "exception": false,
     "start_time": "2022-04-14T02:32:34.564560",
     "status": "completed"
    },
    "tags": []
   },
   "source": [
    "Process the `STATUS` column to find out if candidates have the record of overdue. Here is a table describe what each label stands for:\n",
    "- X: No loan for the month;\n",
    "- C: paid off that month;\n",
    "- 0: 1-29 days past due;\n",
    "- 1: 30-59 days past due;\n",
    "- 2: 60-89 days overdue;\n",
    "- 3: 90-119 days overdue;\n",
    "- 4: 120-149 days overdue;\n",
    "- 5: Overdue or bad debts, write-offs for more than 150 days "
   ]
  },
  {
   "cell_type": "code",
   "execution_count": 5,
   "id": "bacb8f9d",
   "metadata": {
    "execution": {
     "iopub.execute_input": "2022-04-14T02:32:34.824355Z",
     "iopub.status.busy": "2022-04-14T02:32:34.823739Z",
     "iopub.status.idle": "2022-04-14T02:32:40.628346Z",
     "shell.execute_reply": "2022-04-14T02:32:40.627844Z",
     "shell.execute_reply.started": "2022-04-11T03:40:21.032615Z"
    },
    "papermill": {
     "duration": 5.993645,
     "end_time": "2022-04-14T02:32:40.628491",
     "exception": false,
     "start_time": "2022-04-14T02:32:34.634846",
     "status": "completed"
    },
    "tags": []
   },
   "outputs": [
    {
     "data": {
      "text/plain": [
       " 0    0.754202\n",
       "-1    0.129455\n",
       " 1    0.101838\n",
       " 2    0.007307\n",
       " 5    0.004241\n",
       " 3    0.001914\n",
       " 4    0.001044\n",
       "Name: STATUS, dtype: float64"
      ]
     },
     "execution_count": 5,
     "metadata": {},
     "output_type": "execute_result"
    }
   ],
   "source": [
    "record.loc[record['STATUS']=='X', 'STATUS']=-1 \n",
    "record.loc[record['STATUS']=='C', 'STATUS']=-1 \n",
    "record.loc[record['STATUS']=='0', 'STATUS']=0 \n",
    "record.loc[record['STATUS']=='1', 'STATUS']=1\n",
    "record.loc[record['STATUS']=='2', 'STATUS']=2\n",
    "record.loc[record['STATUS']=='3', 'STATUS']=3 \n",
    "record.loc[record['STATUS']=='4', 'STATUS']=4 \n",
    "record.loc[record['STATUS']=='5', 'STATUS']=5\n",
    "record.groupby('ID')['STATUS'].max().value_counts(normalize=True)"
   ]
  },
  {
   "cell_type": "markdown",
   "id": "4393927e",
   "metadata": {
    "papermill": {
     "duration": 0.055881,
     "end_time": "2022-04-14T02:32:40.740024",
     "exception": false,
     "start_time": "2022-04-14T02:32:40.684143",
     "status": "completed"
    },
    "tags": []
   },
   "source": [
    "Generally, users in risk should be less than 3%, thus those who overdue for more than 60 days should be marked as risk users."
   ]
  },
  {
   "cell_type": "code",
   "execution_count": 6,
   "id": "8be3b34c",
   "metadata": {
    "execution": {
     "iopub.execute_input": "2022-04-14T02:32:40.975272Z",
     "iopub.status.busy": "2022-04-14T02:32:40.974625Z",
     "iopub.status.idle": "2022-04-14T02:32:41.174523Z",
     "shell.execute_reply": "2022-04-14T02:32:41.175056Z",
     "shell.execute_reply.started": "2022-04-11T03:40:26.558472Z"
    },
    "papermill": {
     "duration": 0.378935,
     "end_time": "2022-04-14T02:32:41.175218",
     "exception": false,
     "start_time": "2022-04-14T02:32:40.796283",
     "status": "completed"
    },
    "tags": []
   },
   "outputs": [
    {
     "data": {
      "text/plain": [
       "dep_value\n",
       "No           0.985495\n",
       "Yes          0.014505\n",
       "dtype: float64"
      ]
     },
     "execution_count": 6,
     "metadata": {},
     "output_type": "execute_result"
    }
   ],
   "source": [
    "record.loc[record['STATUS']>=2, 'dep_value']=1\n",
    "record.loc[record['STATUS']<2, 'dep_value']=0 \n",
    "temp = record[['ID', 'dep_value']].groupby('ID').sum()\n",
    "temp.loc[temp['dep_value']!=0, 'dep_value']='Yes'\n",
    "temp.loc[temp['dep_value']==0, 'dep_value']= 'No'\n",
    "temp.value_counts(normalize=True)"
   ]
  },
  {
   "cell_type": "markdown",
   "id": "12cf0054",
   "metadata": {
    "papermill": {
     "duration": 0.055425,
     "end_time": "2022-04-14T02:32:41.287065",
     "exception": false,
     "start_time": "2022-04-14T02:32:41.231640",
     "status": "completed"
    },
    "tags": []
   },
   "source": [
    "Merge the information into one dataframe, and mark those risk users with target `1` while other users `0`. We will regard the `target` column as result. Meanwhile, we should drop those rows with missing values to avoid disturb."
   ]
  },
  {
   "cell_type": "code",
   "execution_count": 7,
   "id": "e5b94714",
   "metadata": {
    "execution": {
     "iopub.execute_input": "2022-04-14T02:32:41.402226Z",
     "iopub.status.busy": "2022-04-14T02:32:41.401627Z",
     "iopub.status.idle": "2022-04-14T02:32:41.815494Z",
     "shell.execute_reply": "2022-04-14T02:32:41.814933Z",
     "shell.execute_reply.started": "2022-04-11T03:40:26.88881Z"
    },
    "papermill": {
     "duration": 0.472325,
     "end_time": "2022-04-14T02:32:41.815639",
     "exception": false,
     "start_time": "2022-04-14T02:32:41.343314",
     "status": "completed"
    },
    "tags": []
   },
   "outputs": [],
   "source": [
    "new_data=pd.merge(data,begin_month,how=\"left\",on=\"ID\")\n",
    "new_data=pd.merge(new_data, temp,how='inner',on='ID')\n",
    "new_data['target']=new_data['dep_value']\n",
    "new_data.loc[new_data['target']=='Yes','target']=1\n",
    "new_data.loc[new_data['target']=='No','target']=0"
   ]
  },
  {
   "cell_type": "code",
   "execution_count": 8,
   "id": "221121d0",
   "metadata": {
    "execution": {
     "iopub.execute_input": "2022-04-14T02:32:41.935283Z",
     "iopub.status.busy": "2022-04-14T02:32:41.934583Z",
     "iopub.status.idle": "2022-04-14T02:32:41.958007Z",
     "shell.execute_reply": "2022-04-14T02:32:41.957601Z",
     "shell.execute_reply.started": "2022-04-11T03:40:27.26873Z"
    },
    "papermill": {
     "duration": 0.085904,
     "end_time": "2022-04-14T02:32:41.958115",
     "exception": false,
     "start_time": "2022-04-14T02:32:41.872211",
     "status": "completed"
    },
    "tags": []
   },
   "outputs": [
    {
     "data": {
      "text/html": [
       "<div>\n",
       "<style scoped>\n",
       "    .dataframe tbody tr th:only-of-type {\n",
       "        vertical-align: middle;\n",
       "    }\n",
       "\n",
       "    .dataframe tbody tr th {\n",
       "        vertical-align: top;\n",
       "    }\n",
       "\n",
       "    .dataframe thead th {\n",
       "        text-align: right;\n",
       "    }\n",
       "</style>\n",
       "<table border=\"1\" class=\"dataframe\">\n",
       "  <thead>\n",
       "    <tr style=\"text-align: right;\">\n",
       "      <th></th>\n",
       "      <th>ID</th>\n",
       "      <th>CODE_GENDER</th>\n",
       "      <th>FLAG_OWN_CAR</th>\n",
       "      <th>FLAG_OWN_REALTY</th>\n",
       "      <th>CNT_CHILDREN</th>\n",
       "      <th>AMT_INCOME_TOTAL</th>\n",
       "      <th>NAME_INCOME_TYPE</th>\n",
       "      <th>NAME_EDUCATION_TYPE</th>\n",
       "      <th>NAME_FAMILY_STATUS</th>\n",
       "      <th>NAME_HOUSING_TYPE</th>\n",
       "      <th>DAYS_BIRTH</th>\n",
       "      <th>DAYS_EMPLOYED</th>\n",
       "      <th>FLAG_MOBIL</th>\n",
       "      <th>FLAG_WORK_PHONE</th>\n",
       "      <th>FLAG_PHONE</th>\n",
       "      <th>FLAG_EMAIL</th>\n",
       "      <th>OCCUPATION_TYPE</th>\n",
       "      <th>CNT_FAM_MEMBERS</th>\n",
       "      <th>begin_month</th>\n",
       "      <th>dep_value</th>\n",
       "      <th>target</th>\n",
       "    </tr>\n",
       "  </thead>\n",
       "  <tbody>\n",
       "    <tr>\n",
       "      <th>0</th>\n",
       "      <td>5008804</td>\n",
       "      <td>M</td>\n",
       "      <td>Y</td>\n",
       "      <td>Y</td>\n",
       "      <td>0</td>\n",
       "      <td>427500.0</td>\n",
       "      <td>Working</td>\n",
       "      <td>Higher education</td>\n",
       "      <td>Civil marriage</td>\n",
       "      <td>Rented apartment</td>\n",
       "      <td>-12005</td>\n",
       "      <td>-4542</td>\n",
       "      <td>1</td>\n",
       "      <td>1</td>\n",
       "      <td>0</td>\n",
       "      <td>0</td>\n",
       "      <td>NaN</td>\n",
       "      <td>2.0</td>\n",
       "      <td>-15.0</td>\n",
       "      <td>No</td>\n",
       "      <td>0</td>\n",
       "    </tr>\n",
       "    <tr>\n",
       "      <th>1</th>\n",
       "      <td>5008805</td>\n",
       "      <td>M</td>\n",
       "      <td>Y</td>\n",
       "      <td>Y</td>\n",
       "      <td>0</td>\n",
       "      <td>427500.0</td>\n",
       "      <td>Working</td>\n",
       "      <td>Higher education</td>\n",
       "      <td>Civil marriage</td>\n",
       "      <td>Rented apartment</td>\n",
       "      <td>-12005</td>\n",
       "      <td>-4542</td>\n",
       "      <td>1</td>\n",
       "      <td>1</td>\n",
       "      <td>0</td>\n",
       "      <td>0</td>\n",
       "      <td>NaN</td>\n",
       "      <td>2.0</td>\n",
       "      <td>-14.0</td>\n",
       "      <td>No</td>\n",
       "      <td>0</td>\n",
       "    </tr>\n",
       "    <tr>\n",
       "      <th>2</th>\n",
       "      <td>5008806</td>\n",
       "      <td>M</td>\n",
       "      <td>Y</td>\n",
       "      <td>Y</td>\n",
       "      <td>0</td>\n",
       "      <td>112500.0</td>\n",
       "      <td>Working</td>\n",
       "      <td>Secondary / secondary special</td>\n",
       "      <td>Married</td>\n",
       "      <td>House / apartment</td>\n",
       "      <td>-21474</td>\n",
       "      <td>-1134</td>\n",
       "      <td>1</td>\n",
       "      <td>0</td>\n",
       "      <td>0</td>\n",
       "      <td>0</td>\n",
       "      <td>Security staff</td>\n",
       "      <td>2.0</td>\n",
       "      <td>-29.0</td>\n",
       "      <td>No</td>\n",
       "      <td>0</td>\n",
       "    </tr>\n",
       "    <tr>\n",
       "      <th>3</th>\n",
       "      <td>5008808</td>\n",
       "      <td>F</td>\n",
       "      <td>N</td>\n",
       "      <td>Y</td>\n",
       "      <td>0</td>\n",
       "      <td>270000.0</td>\n",
       "      <td>Commercial associate</td>\n",
       "      <td>Secondary / secondary special</td>\n",
       "      <td>Single / not married</td>\n",
       "      <td>House / apartment</td>\n",
       "      <td>-19110</td>\n",
       "      <td>-3051</td>\n",
       "      <td>1</td>\n",
       "      <td>0</td>\n",
       "      <td>1</td>\n",
       "      <td>1</td>\n",
       "      <td>Sales staff</td>\n",
       "      <td>1.0</td>\n",
       "      <td>-4.0</td>\n",
       "      <td>No</td>\n",
       "      <td>0</td>\n",
       "    </tr>\n",
       "    <tr>\n",
       "      <th>4</th>\n",
       "      <td>5008809</td>\n",
       "      <td>F</td>\n",
       "      <td>N</td>\n",
       "      <td>Y</td>\n",
       "      <td>0</td>\n",
       "      <td>270000.0</td>\n",
       "      <td>Commercial associate</td>\n",
       "      <td>Secondary / secondary special</td>\n",
       "      <td>Single / not married</td>\n",
       "      <td>House / apartment</td>\n",
       "      <td>-19110</td>\n",
       "      <td>-3051</td>\n",
       "      <td>1</td>\n",
       "      <td>0</td>\n",
       "      <td>1</td>\n",
       "      <td>1</td>\n",
       "      <td>Sales staff</td>\n",
       "      <td>1.0</td>\n",
       "      <td>-26.0</td>\n",
       "      <td>No</td>\n",
       "      <td>0</td>\n",
       "    </tr>\n",
       "  </tbody>\n",
       "</table>\n",
       "</div>"
      ],
      "text/plain": [
       "        ID CODE_GENDER FLAG_OWN_CAR FLAG_OWN_REALTY  CNT_CHILDREN  \\\n",
       "0  5008804           M            Y               Y             0   \n",
       "1  5008805           M            Y               Y             0   \n",
       "2  5008806           M            Y               Y             0   \n",
       "3  5008808           F            N               Y             0   \n",
       "4  5008809           F            N               Y             0   \n",
       "\n",
       "   AMT_INCOME_TOTAL      NAME_INCOME_TYPE            NAME_EDUCATION_TYPE  \\\n",
       "0          427500.0               Working               Higher education   \n",
       "1          427500.0               Working               Higher education   \n",
       "2          112500.0               Working  Secondary / secondary special   \n",
       "3          270000.0  Commercial associate  Secondary / secondary special   \n",
       "4          270000.0  Commercial associate  Secondary / secondary special   \n",
       "\n",
       "     NAME_FAMILY_STATUS  NAME_HOUSING_TYPE  DAYS_BIRTH  DAYS_EMPLOYED  \\\n",
       "0        Civil marriage   Rented apartment      -12005          -4542   \n",
       "1        Civil marriage   Rented apartment      -12005          -4542   \n",
       "2               Married  House / apartment      -21474          -1134   \n",
       "3  Single / not married  House / apartment      -19110          -3051   \n",
       "4  Single / not married  House / apartment      -19110          -3051   \n",
       "\n",
       "   FLAG_MOBIL  FLAG_WORK_PHONE  FLAG_PHONE  FLAG_EMAIL OCCUPATION_TYPE  \\\n",
       "0           1                1           0           0             NaN   \n",
       "1           1                1           0           0             NaN   \n",
       "2           1                0           0           0  Security staff   \n",
       "3           1                0           1           1     Sales staff   \n",
       "4           1                0           1           1     Sales staff   \n",
       "\n",
       "   CNT_FAM_MEMBERS  begin_month dep_value target  \n",
       "0              2.0        -15.0        No      0  \n",
       "1              2.0        -14.0        No      0  \n",
       "2              2.0        -29.0        No      0  \n",
       "3              1.0         -4.0        No      0  \n",
       "4              1.0        -26.0        No      0  "
      ]
     },
     "execution_count": 8,
     "metadata": {},
     "output_type": "execute_result"
    }
   ],
   "source": [
    "pd.set_option('display.max_columns', None)\n",
    "pd.set_option('display.max_rows', 100)\n",
    "new_data.head()"
   ]
  },
  {
   "cell_type": "markdown",
   "id": "a96587c1",
   "metadata": {
    "papermill": {
     "duration": 0.037306,
     "end_time": "2022-04-14T02:32:42.032661",
     "exception": false,
     "start_time": "2022-04-14T02:32:41.995355",
     "status": "completed"
    },
    "tags": []
   },
   "source": [
    "Before we get started, we should take a rough look at our samples, in case inbalanced data leading to a weird result."
   ]
  },
  {
   "cell_type": "code",
   "execution_count": 9,
   "id": "dedf8ae8",
   "metadata": {
    "execution": {
     "iopub.execute_input": "2022-04-14T02:32:42.108892Z",
     "iopub.status.busy": "2022-04-14T02:32:42.108421Z",
     "iopub.status.idle": "2022-04-14T02:32:42.166927Z",
     "shell.execute_reply": "2022-04-14T02:32:42.166524Z",
     "shell.execute_reply.started": "2022-04-11T03:40:27.296954Z"
    },
    "papermill": {
     "duration": 0.097338,
     "end_time": "2022-04-14T02:32:42.167032",
     "exception": false,
     "start_time": "2022-04-14T02:32:42.069694",
     "status": "completed"
    },
    "tags": []
   },
   "outputs": [
    {
     "data": {
      "text/plain": [
       "0    24712\n",
       "1      422\n",
       "Name: target, dtype: int64"
      ]
     },
     "execution_count": 9,
     "metadata": {},
     "output_type": "execute_result"
    }
   ],
   "source": [
    "new_data = new_data.dropna()\n",
    "new_data['target'].value_counts()"
   ]
  },
  {
   "cell_type": "markdown",
   "id": "5c9ff7bb",
   "metadata": {
    "papermill": {
     "duration": 0.037275,
     "end_time": "2022-04-14T02:32:42.241837",
     "exception": false,
     "start_time": "2022-04-14T02:32:42.204562",
     "status": "completed"
    },
    "tags": []
   },
   "source": [
    "Obviously the data are extremely in balance, so we'll need to resample the data."
   ]
  },
  {
   "cell_type": "code",
   "execution_count": 10,
   "id": "0d74f89a",
   "metadata": {
    "execution": {
     "iopub.execute_input": "2022-04-14T02:32:42.318065Z",
     "iopub.status.busy": "2022-04-14T02:32:42.317568Z",
     "iopub.status.idle": "2022-04-14T02:32:57.881822Z",
     "shell.execute_reply": "2022-04-14T02:32:57.882384Z",
     "shell.execute_reply.started": "2022-04-11T03:40:27.358877Z"
    },
    "papermill": {
     "duration": 15.603823,
     "end_time": "2022-04-14T02:32:57.882558",
     "exception": false,
     "start_time": "2022-04-14T02:32:42.278735",
     "status": "completed"
    },
    "tags": []
   },
   "outputs": [],
   "source": [
    "from imblearn.over_sampling import SMOTEN\n",
    "X = new_data[['ID', 'CODE_GENDER', 'FLAG_OWN_CAR', 'FLAG_OWN_REALTY', 'CNT_CHILDREN', 'AMT_INCOME_TOTAL', 'NAME_INCOME_TYPE', \n",
    "       'NAME_EDUCATION_TYPE', 'NAME_FAMILY_STATUS', 'NAME_HOUSING_TYPE', 'DAYS_BIRTH', 'DAYS_EMPLOYED', 'FLAG_MOBIL',\n",
    "       'FLAG_WORK_PHONE', 'FLAG_PHONE', 'FLAG_EMAIL', 'OCCUPATION_TYPE', 'CNT_FAM_MEMBERS', 'begin_month','dep_value']]\n",
    "y = new_data['target'].astype('int')\n",
    "X_balance,y_balance = SMOTEN().fit_resample(X, y)\n",
    "X_balance = pd.DataFrame(X_balance, columns = X.columns)\n",
    "X_balance.insert(0, 'target', y_balance)\n",
    "new_data = X_balance"
   ]
  },
  {
   "cell_type": "markdown",
   "id": "9fd236a1",
   "metadata": {
    "papermill": {
     "duration": 0.056877,
     "end_time": "2022-04-14T02:32:57.997379",
     "exception": false,
     "start_time": "2022-04-14T02:32:57.940502",
     "status": "completed"
    },
    "tags": []
   },
   "source": [
    "<a id=\"3\"></a> <br>\n",
    "## Building Models with [Towhee](https://towhee.io/) "
   ]
  },
  {
   "cell_type": "markdown",
   "id": "f109bdd2",
   "metadata": {
    "papermill": {
     "duration": 0.057367,
     "end_time": "2022-04-14T02:32:58.112046",
     "exception": false,
     "start_time": "2022-04-14T02:32:58.054679",
     "status": "completed"
    },
    "tags": []
   },
   "source": [
    "In the following part, we will use Towhee's DataCollection API to deal with the processed data. DataCollection provides a series API to support training, prediction, and evaluating with machine learning models.\n",
    "\n",
    "Also, Towhee has encapsulated several models as built-in operators, which we will introduce in the following training part."
   ]
  },
  {
   "cell_type": "markdown",
   "id": "f4dc821d",
   "metadata": {
    "papermill": {
     "duration": 0.057355,
     "end_time": "2022-04-14T02:32:58.227213",
     "exception": false,
     "start_time": "2022-04-14T02:32:58.169858",
     "status": "completed"
    },
    "tags": []
   },
   "source": [
    "<a id=\"4\"></a> <br>\n",
    "### Prepare Training And Testing Data"
   ]
  },
  {
   "cell_type": "markdown",
   "id": "424be47d",
   "metadata": {
    "papermill": {
     "duration": 0.059879,
     "end_time": "2022-04-14T02:32:58.346926",
     "exception": false,
     "start_time": "2022-04-14T02:32:58.287047",
     "status": "completed"
    },
    "tags": []
   },
   "source": [
    "Users can use `from_df` to load data from a dataframe then split the data into training set and test set with `split_train_test`, the ratio is 9:1 by default."
   ]
  },
  {
   "cell_type": "code",
   "execution_count": 11,
   "id": "e97788dc",
   "metadata": {
    "execution": {
     "iopub.execute_input": "2022-04-14T02:32:58.465705Z",
     "iopub.status.busy": "2022-04-14T02:32:58.465108Z",
     "iopub.status.idle": "2022-04-14T02:33:06.877163Z",
     "shell.execute_reply": "2022-04-14T02:33:06.876600Z",
     "shell.execute_reply.started": "2022-04-11T03:40:46.151557Z"
    },
    "papermill": {
     "duration": 8.472013,
     "end_time": "2022-04-14T02:33:06.877303",
     "exception": false,
     "start_time": "2022-04-14T02:32:58.405290",
     "status": "completed"
    },
    "tags": []
   },
   "outputs": [],
   "source": [
    "import towhee\n",
    "out = towhee.from_df(new_data).unstream()\n",
    "out = (\n",
    "    out.runas_op['DAYS_BIRTH', 'years_birth'](func=lambda x: -int(x)//365)\n",
    "        .runas_op['DAYS_EMPLOYED', 'years_employed'](func=lambda x: -int(x)//365)\n",
    ")\n",
    "train, test = out.split_train_test()"
   ]
  },
  {
   "cell_type": "markdown",
   "id": "c7cdf187",
   "metadata": {
    "papermill": {
     "duration": 0.056839,
     "end_time": "2022-04-14T02:33:06.991349",
     "exception": false,
     "start_time": "2022-04-14T02:33:06.934510",
     "status": "completed"
    },
    "tags": []
   },
   "source": [
    "Another important API is `runas_op`, which enables users running self-defined functions as operators effortless.\n",
    "\n",
    "In the example above, we defined a lambda function to calculate age and work experience (years) from given info (days), and feed it to `runas_op`. In this way, DataCollection will wrap and register it as an operator and execute.\n",
    "\n",
    "Note that the content inside the `[]` are the input and output columns, i.e. input column is `DAYS_BIRTH` and the output will be stored in `age`. This is a tricky part in DataCollection design. In many cases we might need to process some columns inside DataCollection, so we introduced `[]` to tell the DC which columns we are dealing with. \n",
    "\n",
    "Usage:\n",
    "- Single input Single output: `['input', 'output']`\n",
    "- Single input Multi outputs: `['input', ('output_1, output_2')]`\n",
    "- Multi inputs Single output: `[('input_1', 'input_2'), 'output']`\n",
    "- Multi inputs Multi outputs: `[('input_1', 'input_2'), ('output_1, output_2')]`"
   ]
  },
  {
   "cell_type": "markdown",
   "id": "3274f291",
   "metadata": {
    "papermill": {
     "duration": 0.057608,
     "end_time": "2022-04-14T02:33:07.105869",
     "exception": false,
     "start_time": "2022-04-14T02:33:07.048261",
     "status": "completed"
    },
    "tags": []
   },
   "source": [
    "<a id=\"5\"></a> <br>\n",
    "### Feature Extract"
   ]
  },
  {
   "cell_type": "markdown",
   "id": "0e261f9b",
   "metadata": {
    "papermill": {
     "duration": 0.057457,
     "end_time": "2022-04-14T02:33:07.221168",
     "exception": false,
     "start_time": "2022-04-14T02:33:07.163711",
     "status": "completed"
    },
    "tags": []
   },
   "source": [
    "Then we need to process some data, include:\n",
    "- Discretize the numerical data, both continuous data and binary data;\n",
    "- Encode categorical data with non-digital value;\n",
    "- Stack chosen features into a feature tensor;"
   ]
  },
  {
   "cell_type": "code",
   "execution_count": 12,
   "id": "c2f8fbbf",
   "metadata": {
    "execution": {
     "iopub.execute_input": "2022-04-14T02:33:07.338934Z",
     "iopub.status.busy": "2022-04-14T02:33:07.338272Z",
     "iopub.status.idle": "2022-04-14T02:33:07.346504Z",
     "shell.execute_reply": "2022-04-14T02:33:07.347070Z",
     "shell.execute_reply.started": "2022-04-11T03:40:53.38578Z"
    },
    "papermill": {
     "duration": 0.068638,
     "end_time": "2022-04-14T02:33:07.347244",
     "exception": false,
     "start_time": "2022-04-14T02:33:07.278606",
     "status": "completed"
    },
    "tags": []
   },
   "outputs": [],
   "source": [
    "def feature_extract(dc):\n",
    "    return (\n",
    "        dc.num_discretizer['CNT_CHILDREN', 'childnum'](n_bins=3)\n",
    "        .num_discretizer['AMT_INCOME_TOTAL', 'inc'](n_bins=5)\n",
    "        .num_discretizer['years_birth', 'age'](n_bins=5)\n",
    "        .num_discretizer['years_employed', 'worktm'](n_bins=5)\n",
    "        .num_discretizer['CNT_FAM_MEMBERS', 'fmsize'](n_bins=5)\n",
    "        .cate_one_hot_encoder['NAME_INCOME_TYPE', 'inctp']()\n",
    "        .cate_one_hot_encoder['OCCUPATION_TYPE', 'occyp']()\n",
    "        .cate_one_hot_encoder['NAME_HOUSING_TYPE', 'houtp']()\n",
    "        .cate_one_hot_encoder['NAME_EDUCATION_TYPE', 'edutp']()\n",
    "        .cate_one_hot_encoder['NAME_FAMILY_STATUS', 'famtp']()\n",
    "        .cate_one_hot_encoder['CODE_GENDER', 'gender']()\n",
    "        .cate_one_hot_encoder['FLAG_OWN_CAR', 'car']()\n",
    "        .cate_one_hot_encoder['FLAG_OWN_REALTY', 'realty']()\n",
    "        .tensor_hstack[('childnum', 'inc', 'age', 'worktm', 'fmsize',\n",
    "                        'inctp', 'occyp', 'houtp', 'edutp', 'famtp',\n",
    "                        'gender', 'car', 'realty'), 'fea']()\n",
    "    )"
   ]
  },
  {
   "cell_type": "markdown",
   "id": "e208c033",
   "metadata": {
    "papermill": {
     "duration": 0.056981,
     "end_time": "2022-04-14T02:33:07.461401",
     "exception": false,
     "start_time": "2022-04-14T02:33:07.404420",
     "status": "completed"
    },
    "tags": []
   },
   "source": [
    "<a id=\"6\"></a> <br>\n",
    "### Model"
   ]
  },
  {
   "cell_type": "markdown",
   "id": "622cafdc",
   "metadata": {
    "papermill": {
     "duration": 0.056407,
     "end_time": "2022-04-14T02:33:07.575011",
     "exception": false,
     "start_time": "2022-04-14T02:33:07.518604",
     "status": "completed"
    },
    "tags": []
   },
   "source": [
    "Towhee encapsulates several machine learning models as built-in operators so that users can easily access to. In this tutorial, we will user logistic regression, decision tree, and support vector machine."
   ]
  },
  {
   "cell_type": "markdown",
   "id": "f4df6700",
   "metadata": {
    "papermill": {
     "duration": 0.05615,
     "end_time": "2022-04-14T02:33:07.688093",
     "exception": false,
     "start_time": "2022-04-14T02:33:07.631943",
     "status": "completed"
    },
    "tags": []
   },
   "source": [
    "<a id=\"7\"></a> <br>\n",
    "#### Train"
   ]
  },
  {
   "cell_type": "markdown",
   "id": "ec64f3f4",
   "metadata": {
    "papermill": {
     "duration": 0.056503,
     "end_time": "2022-04-14T02:33:07.801161",
     "exception": false,
     "start_time": "2022-04-14T02:33:07.744658",
     "status": "completed"
    },
    "tags": []
   },
   "source": [
    "Before trainging the model, make sure the DataCollection is set to training mode with `dc.set_training()`.\n",
    "\n",
    "To train a model, Let's take logistic regression as an example:\n",
    "\n",
    "```logistic_regression[('feature', 'actual_result'), 'predict_result'](name = 'model_name', kwargs)```\n",
    "\n",
    "- logistic_regression is the operator name of the built-in algorithm;\n",
    "- The `[]` specifies the input and output columns;\n",
    "- Each model requires a unique name, so as to load its state and predict with it in the coming step;\n",
    "- kwargs are the arguements of the model, they are exactly same as sklearn models."
   ]
  },
  {
   "cell_type": "code",
   "execution_count": 13,
   "id": "52875878",
   "metadata": {
    "execution": {
     "iopub.execute_input": "2022-04-14T02:33:07.920076Z",
     "iopub.status.busy": "2022-04-14T02:33:07.919178Z",
     "iopub.status.idle": "2022-04-14T02:38:32.512399Z",
     "shell.execute_reply": "2022-04-14T02:38:32.513173Z",
     "shell.execute_reply.started": "2022-04-11T03:40:53.399312Z"
    },
    "papermill": {
     "duration": 324.654607,
     "end_time": "2022-04-14T02:38:32.513586",
     "exception": false,
     "start_time": "2022-04-14T02:33:07.858979",
     "status": "completed"
    },
    "tags": []
   },
   "outputs": [],
   "source": [
    "train = feature_extract(train.set_training())"
   ]
  },
  {
   "cell_type": "code",
   "execution_count": 14,
   "id": "f95083c2",
   "metadata": {
    "execution": {
     "iopub.execute_input": "2022-04-14T02:38:32.634816Z",
     "iopub.status.busy": "2022-04-14T02:38:32.633973Z",
     "iopub.status.idle": "2022-04-14T02:45:32.953703Z",
     "shell.execute_reply": "2022-04-14T02:45:32.954352Z",
     "shell.execute_reply.started": "2022-04-11T03:47:03.888431Z"
    },
    "papermill": {
     "duration": 420.380992,
     "end_time": "2022-04-14T02:45:32.954513",
     "exception": false,
     "start_time": "2022-04-14T02:38:32.573521",
     "status": "completed"
    },
    "tags": []
   },
   "outputs": [
    {
     "data": {
      "text/plain": [
       "<towhee.functional.data_collection.DataCollection at 0x7f42fe60ce50>"
      ]
     },
     "execution_count": 14,
     "metadata": {},
     "output_type": "execute_result"
    }
   ],
   "source": [
    "train.logistic_regression[('fea', 'target'), 'lr_predict'](name = 'logistic', max_iter=10) \\\n",
    "    .decision_tree[('fea', 'target'), 'dt_predict'](name = 'decision_tree', splitter = 'random', max_depth = 10) \\\n",
    "    .svc[('fea', 'target'), 'svm_predict'](name = 'svm_classifier', C = 0.8, kernel='rbf', probability=True)"
   ]
  },
  {
   "cell_type": "markdown",
   "id": "146317a6",
   "metadata": {
    "papermill": {
     "duration": 0.037362,
     "end_time": "2022-04-14T02:45:33.029879",
     "exception": false,
     "start_time": "2022-04-14T02:45:32.992517",
     "status": "completed"
    },
    "tags": []
   },
   "source": [
    "<a id=\"8\"></a> <br>\n",
    "#### Evaluate"
   ]
  },
  {
   "cell_type": "code",
   "execution_count": 15,
   "id": "68d09672",
   "metadata": {
    "execution": {
     "iopub.execute_input": "2022-04-14T02:45:33.108653Z",
     "iopub.status.busy": "2022-04-14T02:45:33.107999Z",
     "iopub.status.idle": "2022-04-14T02:46:10.531820Z",
     "shell.execute_reply": "2022-04-14T02:46:10.531334Z",
     "shell.execute_reply.started": "2022-04-11T03:53:00.954774Z"
    },
    "papermill": {
     "duration": 37.46483,
     "end_time": "2022-04-14T02:46:10.531938",
     "exception": false,
     "start_time": "2022-04-14T02:45:33.067108",
     "status": "completed"
    },
    "tags": []
   },
   "outputs": [],
   "source": [
    "test = feature_extract(test.set_evaluating(train.get_state()))"
   ]
  },
  {
   "cell_type": "markdown",
   "id": "bbb540d1",
   "metadata": {
    "papermill": {
     "duration": 0.03739,
     "end_time": "2022-04-14T02:46:10.606931",
     "exception": false,
     "start_time": "2022-04-14T02:46:10.569541",
     "status": "completed"
    },
    "tags": []
   },
   "source": [
    "The trained models are ready and the states are properly stored, we can predict with them and see how they works.\n",
    "\n",
    "First, make sure the DC is set to evaluating mode. Then we can run prediction with exact same API as training. There are serval points to pay attention to:\n",
    "- When `set_evaluating()`, we need to pass the `_state` of the DataCollection `train` we trained in previous step where all the model states are stored in;\n",
    "- Make sure your model name is same as the one you trained. As we said, a model's name is the unique identifier. A user might train several logistic regression models with different names, and evaluate with different lr model by specifying different names;\n",
    "- `with_metrics` function allow users to clarify the metrics they are interested in;\n"
   ]
  },
  {
   "cell_type": "code",
   "execution_count": 16,
   "id": "5cbc16b6",
   "metadata": {
    "execution": {
     "iopub.execute_input": "2022-04-14T02:46:10.689590Z",
     "iopub.status.busy": "2022-04-14T02:46:10.689074Z",
     "iopub.status.idle": "2022-04-14T02:46:21.681821Z",
     "shell.execute_reply": "2022-04-14T02:46:21.682339Z",
     "shell.execute_reply.started": "2022-04-11T03:53:39.758292Z"
    },
    "papermill": {
     "duration": 11.036929,
     "end_time": "2022-04-14T02:46:21.682520",
     "exception": false,
     "start_time": "2022-04-14T02:46:10.645591",
     "status": "completed"
    },
    "tags": []
   },
   "outputs": [
    {
     "data": {
      "text/html": [
       "<table border=\"1\" class=\"dataframe\">\n",
       "  <thead>\n",
       "    <tr style=\"text-align: right;\">\n",
       "      <th></th>\n",
       "      <th>accuracy</th>\n",
       "      <th>recall</th>\n",
       "      <th>confusion_matrix</th>\n",
       "    </tr>\n",
       "  </thead>\n",
       "  <tbody>\n",
       "    <tr>\n",
       "      <th>lr</th>\n",
       "      <td>0.743476</td>\n",
       "      <td>0.743476</td>\n",
       "      <td><img src=\"data:image/jpeg;base64,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\" width = \"300px\" height = \"300px\" ></td>\n",
       "    </tr>\n",
       "    <tr>\n",
       "      <th>dt</th>\n",
       "      <td>0.883472</td>\n",
       "      <td>0.883472</td>\n",
       "      <td><img src=\"data:image/jpeg;base64,/9j/4AAQSkZJRgABAQEASABIAAD/2wBDAAgGBgcGBQgHBwcJCQgKDBQNDAsLDBkSEw8UHRofHh0aHBwgJC4nICIsIxwcKDcpLDAxNDQ0Hyc5PTgyPC4zNDL/2wBDAQkJCQwLDBgNDRgyIRwhMjIyMjIyMjIyMjIyMjIyMjIyMjIyMjIyMjIyMjIyMjIyMjIyMjIyMjIyMjIyMjIyMjL/wAARCAEgAbADASIAAhEBAxEB/8QAHwAAAQUBAQEBAQEAAAAAAAAAAAECAwQFBgcICQoL/8QAtRAAAgEDAwIEAwUFBAQAAAF9AQIDAAQRBRIhMUEGE1FhByJxFDKBkaEII0KxwRVS0fAkM2JyggkKFhcYGRolJicoKSo0NTY3ODk6Q0RFRkdISUpTVFVWV1hZWmNkZWZnaGlqc3R1dnd4eXqDhIWGh4iJipKTlJWWl5iZmqKjpKWmp6ipqrKztLW2t7i5usLDxMXGx8jJytLT1NXW19jZ2uHi4+Tl5ufo6erx8vP09fb3+Pn6/8QAHwEAAwEBAQEBAQEBAQAAAAAAAAECAwQFBgcICQoL/8QAtREAAgECBAQDBAcFBAQAAQJ3AAECAxEEBSExBhJBUQdhcRMiMoEIFEKRobHBCSMzUvAVYnLRChYkNOEl8RcYGRomJygpKjU2Nzg5OkNERUZHSElKU1RVVldYWVpjZGVmZ2hpanN0dXZ3eHl6goOEhYaHiImKkpOUlZaXmJmaoqOkpaanqKmqsrO0tba3uLm6wsPExcbHyMnK0tPU1dbX2Nna4uPk5ebn6Onq8vP09fb3+Pn6/9oADAMBAAIRAxEAPwD3+iiigAooooAKKKKACiiigAooooAKKKKACiiigAooooAKKKKACiiigAooooAKKKKACiiigAooooAKKKKACiiigAooooAKKKKACiiigAooooAKKKKACiiigAooooAKKKKACiiigAooooAKKKKACiiigAooooAKKKKACiiigAooooAKKKKACiiigAooooAKKKKACiiigAooooAKKKKACiiigAooooAKKKKACiiigAooooAKKKKACiiigAooooAKKKKACiiigAooooAKKKKACiiigAooooAKKKKACiiigAooooAKKKKACiiigAooooAKKKKACvELX4seLLi0hn2aKvmRq+PscpxkZ/57V7fXy5pn/IKs/wDrgn/oIruwNKFSUlNXPPzCtUpRi4O1zuf+FpeLPTRf/AOX/wCPUf8AC0vFnpov/gHL/wDHq5CivR+p0P5fzPL+vYj+b8jr/wDhaXiz00X/AMA5f/j1H/C0vFnpov8A4By//Hq5Cij6nQ/l/MPr2I/m/I6//haXiz00X/wDl/8Aj1H/AAtLxZ6aL/4By/8Ax6uQoo+p0P5fzD69iP5vyOv/AOFpeLPTRf8AwDl/+PUf8LS8Wemi/wDgHL/8erkKKPqdD+X8w+vYj+b8jr/+FpeLPTRf/AOX/wCPUf8AC0vFnpov/gHL/wDHq5Cij6nQ/l/MPr2I/m/I6/8A4Wl4s9NF/wDAOX/49R/wtLxZ6aL/AOAcv/x6uQoo+p0P5fzD69iP5vyPSPDXjbxVr+oyWrTaNCEiMm4WErZwQMf68etdT5/if/oJaR/4LJf/AJIrz34c/wDIw3H/AF6t/wChpXp1eJjoqlW5YaKyPUwladSlzSepT8/xP/0EtI/8Fkv/AMkUef4n/wCglpH/AILJf/kirlFcfPI6edlPz/E//QS0j/wWS/8AyRR5/if/AKCWkf8Agsl/+SKuUUc8g52U/P8AE/8A0EtI/wDBZL/8kUef4n/6CWkf+CyX/wCSKuUUc8g52U/P8T/9BLSP/BZL/wDJFHn+J/8AoJaR/wCCyX/5Iq5RRzyDnZT8/wAT/wDQS0j/AMFkv/yRR5/if/oJaR/4LJf/AJIq5RRzyDnZT8/xP/0EtI/8Fkv/AMkUef4n/wCglpH/AILJf/kirlFHPIOdjvDuoX96NSi1F7aSW0uxCr28LRKymKOTlWducuR17Ctquf8ADH/H54g/7CK/+k0FdBW62NlseV/Ef4j674T8UQ6ZpkGnPC1klwzXMLu25nkXA2uoxhB27mqfgf4peIfEXi+x0nULfTFtrjzNzW8EiOCsbMMEyMOq+lYPxoXPj+D/ALBcP/o2asz4Xrj4kaP9Zv8A0TJXpRoU3hfaW1t+pwuvNYj2d9D6RooorzjvCiiigAooooAKKKKACiiigAooooAKKKKACiiigAooooAKKKKACiiigAr5c0z/AJBVn/1wT/0EV9R18uaZ/wAgqz/64J/6CK9LLfikeVmvwx9WWqKKK9Y8UKKKKACiiigAooooAKKKKACiiigDr/hz/wAjDcf9erf+hpXp1eY/Dn/kYbj/AK9W/wDQ0r06vnMz/wB4foj2sD/B+bCiiivPOwKKKKACiiigAooooAKKKKACiiigCPwx/wAfniD/ALCK/wDpNBXQVz/hj/j88Qf9hFf/AEmgroK6o7I6I7Hg3xjXPj+L/sFw/wDo2es34aLj4jaP/vTf+iZK1vi8ufH0f/YLg/8ARs9Z3w5XHxE0b/fm/wDREle1Ff7C/R/mePKX+3Jea/I+hqKKK8Y9kKKKKACiiigAooooAKKKKACiiigAooooAKKKKACiiigAooooAKKKKACvlzTP+QVZ/wDXBP8A0EV9R18uaZ/yCrP/AK4J/wCgivSy34pHlZr8MfVlqiiivWPFCiiigAooooAKKKKACiiigAooooA6/wCHP/Iw3H/Xq3/oaV6dXmPw5/5GG4/69W/9DSvTq+czP/eH6I9rA/wfmwooorzzsCiiigAooooAKKKKACiiigAooooAj8Mf8fniD/sIr/6TQV0Fc/4Y/wCPzxB/2EV/9JoK6CuqOyOiOx4f8WFz4+T/ALBcH/o2es/4fLj4g6N/vy/+iJK1fimu7x6v/YLg/wDRs9ZPg+K6bxro4spoYbgyS7XmiMij9zJnKhlJ49xXsxf+wv0f5niz/wB/XqvyPfLi4gtLeS4uZo4YI13PJIwVVHqSeAKjTULKSw+3peW7WWwv9oWVTHtHU7s4x71keIre8bQbVpl+1yW93bT3C20DDzESVWYrHlicAbtuSTt4yeKxJoJ7jwjrUUdjeD7XeNdQxfZ3V0iMq5cKR9/hpAh5ORkc4rxz2zs7O+tNRthc2N1BdQEkCWCQOpI68jirFc34Phmih1WSX7U6T3xkjuLyDyZrhfKjG502rtwQVHyrkIDjnJ6SgAooooAKKKKACiiigAooooAKKKKACiiigAooooAKKKKACs/VdWTS1tx9mnup7mXyobe3273baWP3mVQAqk5JHT1IFaFZGt2F7cT6dfaeIHurKZnEVxIY0kVkZCNwVip+YHOD0x3yAC7p1/BqmnW99bFjDOgddwww9iOxHQj1FfM2mf8AIKs/+uCf+givorTtBWDw5baXdzSs6DdLJbTyQEuSWbDIQwGSeM9K+ddM/wCQTZ/9cE/9BFellvxSPKzX4Y+rLVFFFeseKFFFFAFuxtI7kTyzzNFBAgd2VN7HLBQAMjJyfUcA06WzhtdSltbqaQIh4khjDlu4OCw6g5602xu47YTxTwtLBOgR1R9jDDBgQcHHI9DwTUx1NG1iPUXttxWQOYi/ynH3R06AADvnFZvmu+xouWy7lw+H4hezW/2yQhbhLVGEGSZWHIYbvlAIIyCenArEkRopGjcYZSQR6EVoabqzWNxLcN9oeZ2DfJPsVjkn5xj5hntkd6z3dpJGdzlmJJPqaIKafvBNwa90bRRRWhmFFFFAHX/Dn/kYbj/r1b/0NK9OrzH4c/8AIw3H/Xq3/oaV6dXzmZ/7w/RHtYH+D82FFFFeedgUUUUAZLa041Ew/Zh9lW4FqZ/M+bzCob7uPu8gZznPbHNS3moXFldwq9rGbWWVIRIJvn3N/sbcYB6/N0ycVBJosrXzypdqtu04uvJMWT5oXaPm3D5cgNjGc98U+TTL2TW4r9ryBoolCpC9uTs/vlTv4Y9MkHA49c7e5+BOpNZ381xqV7ZzWyRfZ9jIyy7t6tuwSMDB+Xpz1q/WbbWF5DrN1eyXcDwzqqiJbcqyhc7fm3nP3jnjn2rSqJ2voNX6hRRRUDCiiigCPwx/x+eIP+wiv/pNBXQVz/hj/j88Qf8AYRX/ANJoK6CuqOyOiOx4z8TV3ePf+4Zb/wDo2eqPglNvjzRD/wBNZf8A0RLWp8R13ePD/wBgy3/9Gz1R8Hpt8c6If+m0v/oiWvWi/wDY/l+p4s/9/XqvyPbqKKK8o9sKKKKACiiigAooooAKKKKACiiigAooooAKKKKACiiigAooooAKKKKACvlzTP8AkFWf/XBP/QRX1HXy5pn/ACCrP/rgn/oIr0st+KR5Wa/DH1Zaooor1jxQooooAKKKKACiiigAooooAKKKKAOv+HP/ACMNx/16t/6GlenV5j8Of+RhuP8Ar1b/ANDSvTq+czP/AHh+iPawP8H5sKKKK887AooooAKKKKACiiigAooooAKKKKAI/DH/AB+eIP8AsIr/AOk0FdBXP+GP+PzxB/2EV/8ASaCugrqjsjojseSfEBd3jx/+wZb/APo2eqfhRdvjfQz/ANN5f/SeWtLx0u7x3J/2DLb/ANG3FVPDSbfGmhn/AKeJf/SeWvUi/wDZPl+p4s/9/XqvyPYKKKK8w9sKKKKACiiigAooooAKKKKACiiigAooooAKKKKACiiigAoorB8VRhdNW68+8R43SJEt7owB2kdUXewBwoJGTg4GeDQBvUVyng29S6Vtsl5I0thaXjC4vDOIzKHOwZAwRt59QVPFdXQAV8uaZ/yCrP8A64J/6CK+o6+XNM/5BVn/ANcE/wDQRXpZb8Ujys1+GPqy1RRRXrHihRRRQAUUUUAFFFFABRRRQAUUUUAdf8Of+RhuP+vVv/Q0r06vMfhz/wAjDcf9erf+hpXp1fOZn/vD9Ee1gf4PzYUUUV552BRRRQAUUUUAFFFFABRRRQAUUUUAR+GP+PzxB/2EV/8ASaCugrn/AAx/x+eIP+wiv/pNBXQV1R2R0R2PL/Gi7vHc3/YMtv8A0bcVV0BceMdCP/TxJ/6TzVf8XjPjqf8A7Blt/wCjbis+wsbW+8TaJbXttDcwPcybopkDq2LeUjIPHUV6Cl/s1jxpL/b0/Nfkel6zqZ0qwE0cHnzySxwQxF9gd3YKMtg4HOScHgHg9KoDxMkXh691K8tvKmspXgmt0k3DzAwUBXIGQ2VwSB94ZxzVrUdDhudIisbLyrH7PJHNbGOIbImRww+QYyvGCARwTyOtUD4WafQ77Tby8jmN67Tyyrb7f3xbcGCliNowgCnPC8k5rgPaNPRNSfVdP+1ObE5chTY3f2mMgf7e1ec5GMdq0ay9G0qbTWvp7m5juLq9nE8rRQ+VGCEVAFUsxHCDOScnPsBqUAFFFFABRRRQAUUUUAFFFFABRRRQAUUUUAFFFFABXPeMNRkstFeCC2up5rnCYgsHugE3KJCQqlc7CxAbgkd+a6GsHxVfWVvpqWt3qsOnm4lTDSTmIvGsiGVVYcglMrkf3u1AGb4HRbSTUbG0t7qPTovKeF7rSxZMztu3jascasBtTkLnk57V2FcJ8OYIoTfiHULS7VYbeJzBfPcl3UODK24fJv4+UZAKnmu7oAK+XNM/5BVn/wBcE/8AQRX1HXzZpOgazLo1jJHpN+6NbxsrLbOQQVGCDivRy6SUpXZ5eaRbjGy6kNFaX/CO63/0BtQ/8BX/AMKP+Ed1v/oDah/4Cv8A4V6ntId196/zPH9nPs/uf+Rm0Vpf8I7rf/QG1D/wFf8Awo/4R3W/+gNqH/gK/wDhR7SHdfev8w9nPs/uf+Rm0Vpf8I7rf/QG1D/wFf8Awo/4R3W/+gNqH/gK/wDhR7SHdfev8w9nPs/uf+Rm0Vpf8I7rf/QG1D/wFf8Awo/4R3W/+gNqH/gK/wDhR7SHdfev8w9nPs/uf+Rm0Vpf8I7rf/QG1D/wFf8Awo/4R3W/+gNqH/gK/wDhR7SHdfev8w9nPs/uf+Rm0Vpf8I7rf/QG1D/wFf8Awo/4R3W/+gNqH/gK/wDhR7SHdfev8w9nPs/uf+Ru/Dn/AJGG4/69W/8AQ0r06vNPB8MugatLdazE+nWzwGNZrxTCjOWUhQWwM4BOPY123/CUeH/+g7pn/gXH/jXgZjFzrtxV1ZbHr4L3aVnpqzVorK/4Sjw//wBB3TP/AALj/wAaP+Eo8P8A/Qd0z/wLj/xrh9nP+V/c/wDI6+ZdzVorK/4Sjw//ANB3TP8AwLj/AMaP+Eo8P/8AQd0z/wAC4/8AGj2c/wCV/c/8g5l3NWisr/hKPD//AEHdM/8AAuP/ABo/4Sjw/wD9B3TP/AuP/Gj2c/5X9z/yDmXc1aKyv+Eo8P8A/Qd0z/wLj/xo/wCEo8P/APQd0z/wLj/xo9nP+V/c/wDIOZdzVorK/wCEo8P/APQd0z/wLj/xo/4Sjw//ANB3TP8AwLj/AMaPZz/lf3P/ACDmXc1aKyv+Eo8P/wDQd0z/AMC4/wDGj/hKPD//AEHdM/8AAuP/ABo9nP8Alf3P/IOZdzR8Mf8AH54g/wCwiv8A6TQV0Fcz4Pure9k164tZ4p4X1EbZInDK2LaAHBHHUGumrdKy1OmOyPOPFa58dXH/AGDbb/0bcVW0lceLdB/6+pP/AEnmq74mGfHNz/2DbX/0bcVX05ceK9A/6+pP/SaaulS/dWPKkv8AbL+f6HpdFFFc56wUUUUAFFFFABRRRQAUUUUAFFFFABRRRQAUUUUAFFFFABVLVdQXS9Pa6MTzNvjiSNCAXd3VFGTwPmYc9qu1l+IjGNAuhNNbQxkKrPc25njALAcoCCc9OvGc9qAGaJr8WtLHsgeJnsba9wxBwswfC/UbDn8K164zwHGltJqNraiyksUELRXFpYSWysxDBlO923lQqdDgAgV2dABWB4R/5EvQv+wdb/8Aota36wPCP/Il6F/2Drf/ANFrUyEzZoooqRBRRRQAUUUUAFFFFABRRRQAUUUUAebfGz/kTLP/ALCCf+i5K8Gr3n42f8iZZ/8AYQT/ANFyV4NXuZf/AAPmzzMV/ECiiiu05wooooAKKKKACiiigAooooAKKKKAPffgf/yJd7/2EX/9Fx16XXmnwP8A+RLvf+wi/wD6Ljr0uvn638SXqz2aX8OPoef+Ihnxzdf9g21/9G3FQWIx4p0D/r7k/wDSaarevDPjm7/7Btr/AOjbioLUY8T6B/1+Sf8ApNNUc2ljhkv9qv5/oeh0UUVJ6QUUUUAFFFFABRRRQAUUUUAFFFFABRRRQAUUUUAFFFFABXIeMn1m4vrHS9IDFp7eW4JBQbHhmt2R/m64ywxnB3cg4rr6Mc5oAwfDTeIm+0/2+qD7nk7VQeu77rH2reoooAKwPCP/ACJehf8AYOt//Ra1v1geEf8AkS9C/wCwdb/+i1qZCZs0UUVIgooooAKKKKACiiigAooooAKKKKAPNvjZ/wAiZZ/9hBP/AEXJXg1e8/Gz/kTLP/sIJ/6Lkrwavcy/+B82eZiv4gUUUV2nOFFFFABRRRQAUUUUAFFFFABRRRQB778D/wDkS73/ALCL/wDouOvS680+B/8AyJd7/wBhF/8A0XHXpdfP1v4kvVns0v4cfQ4bWhnxxef9g21/9GXFU5bmOx13QriVZmRbx8iGF5W5t5hwqAsfwFaGrDPji9/7Btr/AOjLioUGPEnh/wD6/ZP/AEmnrmv71jma/f3N/W9TmGi20thJLbveXMFusskJV4g8gUtsccNjOAw64yD0qlD4jbSvDmqXeqXAnbTrt7YTyFY/OO4CPcQAqnLqpOAOCeBXQX9hbanZvaXcfmQuQSAxUggggggggggEEHIIBqPT9KtNLiEdokiIAeGmd9xLFix3E5YkkljyfWtDtMfwPrMms6HNLPqltqU8N5PC89uU2kLIduAvQbcYzyRg5PWulqvaWVvYxyJbR7FkleZhuJy7sWY8+pJNWKACiiigAooooAKKKKACiiigAooooAKKKKACiiigAooooAKKKKACsDwj/wAiXoX/AGDrf/0Wtb9YHhH/AJEvQv8AsHW//otamQmbNFFFSIKKKKACiiigAooooAKKKKACiiigDzb42f8AImWf/YQT/wBFyV4NXvPxs/5Eyz/7CCf+i5K8Gr3Mv/gfNnmYr+IFFFFdpzhRRRQAUUUUAFFFFABRRRQAUUUUAe+/A/8A5Eu9/wCwi/8A6Ljr0uvNPgf/AMiXe/8AYRf/ANFx16XXz9b+JL1Z7NL+HH0ON1IZ8cX3/YNtP/RlxURGPEXh7/r9k/8ASaerF+M+N77/ALBtp/6MuajkXHiHw9/1/P8A+k09cj/iGTX707OiiitjpCiiigAooooAKKKKACiiigAooooAKKKKACiiigAooooAKKKKACsHxPPe2kenXNnfSW6i/toZYljRhMkkyIQSykjgn7pB561vVm6voVjrkUMd+LkpC4kQQ3csHzAggny2XJBAIz0I4oAtXt7FYW5nmSdkBAxBA8zf98oCf0rI8IHPgrQT/wBQ63/9FrW6ihEVBkhRgbiSfxJ5NYXhH/kS9C/7B1v/AOi1qZCZs0UUVIgooooA5R7if+2nuPtU/nLqiWi2/mts8oxAkbM4zgl92M8dccUX9xONWu5xdTpLbX1nbwwrKwRo5DHuJTOGzvk5I42cdK6J9OsZbo3UlnbvcFDGZWiUuVPVc4zj2pW0+ya6iuWtLc3ES7Y5TGN6D0BxkDk1r7RdiOVmNZRCbWroWtzdvYJE8Ny8ly7Bpiwx5ZJ+UqNwJXAywHVeH+HTcR3Op2ly7BoZUKxG4e4CKyA8SP8AMcnJwRx9OavxaJpMDStFpdlGZVZZClug3qeoPHIPerFrZWtjD5NnbQ28Wc7IYwi59cClKaaaBRdyeiiisywooooA82+Nn/ImWf8A2EE/9FyV4NXvPxs/5Eyz/wCwgn/ouSvBq9zL/wCB82eZiv4gUUUV2nOFFFFAHVJbwf2Klv8AZoPJbS3u2n8pd/miUgHfjOMgJtzjnpnmjR00280drdjbo8dncyTq9vmVpFVmjZZMfKvCDG4ZORg7q55NRvorUWsd5cJbhxIIllYIGHRsZxn3oOo3ptGtDeXBtnbe0PmtsLepXOM1l7N23L50dPrlvZroU0cNvGlxa/ZfMH2dU8rdGc4kHzS7jyd2MdsjmuPqzNqF7cW0VtPeXEtvF/q4nkLKn0BOBVaqhFxVmKTuwoooqyQooooA99+B/wDyJd7/ANhF/wD0XHXpdeafA/8A5Eu9/wCwi/8A6Ljr0uvn638SXqz2aX8OPocndjPje/8A+wbaf+jLmmTjGv8Ah7/r+f8A9JZ6luRnxvqH/YNtP/RlzTLoY17w7/1/P/6Sz1xv+IS/4h1tFFFbmwUUUUAFFFFABRRRQAUUUUAFFFFABRRRQAUUUUAFFFFABRRRQAUUUUAFYHhH/kS9C/7B1v8A+i1rfrA8I/8AIl6F/wBg63/9FrUyEzZoooqRBRRRQAUUUUAFFFFABRRRQAUUUUAebfGz/kTLP/sIJ/6LkrwavefjZ/yJln/2EE/9FyV4NXuZf/A+bPMxX8QKKKK7TnCiiigAooooAKKKKACiiigAooooA99+B/8AyJd7/wBhF/8A0XHXpdeafA//AJEu9/7CL/8AouOvS6+frfxJerPZpfw4+hzEwz431D/sHWn/AKMuaq6u11HqmgNZQwzT/b32pNKY1P8Ao0+csFYjj2NXJBnxtqP/AGDrT/0Zc0y+GNc8O/8AX+//AKSz1yv4xfbH+KmkbwzC2oxxRwG6t/t6JIXjEPmrvyxC5TH3sgDbnPGazdMv9BtPCerNfyWp0KK4mlhiOGQ22/javdC4YKBwRgDjFdvRWpqc14HFsdDlmtJLTyJ7l5UtrSVZI7QEDEQKkqCBhiBxuY44wa6WiigAooooAKKKKACiiigAooooAKKKKACiiigAooooAKKKKACiiigArA8I/wDIl6F/2Drf/wBFrW/WB4R/5EvQv+wdb/8AotamQmbNFFFSIKKKKACiiigAooooAKKKKACiiigDzb42f8iZZ/8AYQT/ANFyV4NXvPxs/wCRMs/+wgn/AKLkrwavcy/+B82eZiv4gUUUV2nOFFFFABRRRQAUUUUAFFFFABRRRQB778D/APkS73/sIv8A+i469LrzT4H/APIl3v8A2EX/APRcdel18/W/iS9WezS/hx9DnGGfG2o/9g60/wDRlzTdQGNb8O/9f7/+ks9SAZ8bal/2DrP/ANGXNJqYxrXhz/sIP/6Sz1zfaHb3joqKKK0LCiiigAooooAKKKKACiiigAooooAKKKKACiiigAooooAKKKKACiiigArA8I/8iXoX/YOt/wD0Wtb9cto9t4n0rRLDTjpukSG1to4C41KUbtqhc48jjOKlq4mdHRWT53ib/oE6R/4NJP8A5Ho87xN/0CdI/wDBpJ/8j0rMLGtRWT53ib/oE6R/4NJP/kejzvE3/QJ0j/waSf8AyPRZhY1qKyfO8Tf9AnSP/BpJ/wDI9VdS1TxFpelXmoTaPpbRWsDzuqanJuIVSxAzB14oswsdBRWT53ib/oE6R/4NJP8A5Ho87xN/0CdI/wDBpJ/8j0WYWNaisnzvE3/QJ0j/AMGkn/yPR53ib/oE6R/4NJP/AJHoswsa1FZPneJv+gTpH/g0k/8AkejzvE3/AECdI/8ABpJ/8j0WYWOM+Nn/ACJln/2EE/8ARcleDV9D+NvDPibxjo0On/ZtItPLuFn8z7dJJnCsuMeSP73X2rg/+FIeJv8An90j/v8ASf8AxuvVweIp06XLJ66nBiKFSc7xR5pRXpf/AApDxN/z+6R/3+k/+N0f8KQ8Tf8AP7pH/f6T/wCN11fXKP8AN+Zj9Wq9jzSivS/+FIeJv+f3SP8Av9J/8bo/4Uh4m/5/dI/7/Sf/ABuj65R/m/MPq1XseaUV6X/wpDxN/wA/ukf9/pP/AI3VWP4PeIpNVuNPF3pfmwQRTsxlk2kO0igD5Ov7s/mKPrlH+b8w+rVex59RXpf/AApDxN/z+6R/3+k/+N0f8KQ8Tf8AP7pH/f6T/wCN0fXKP835h9Wq9jzSivS/+FIeJv8An90j/v8ASf8Axuj/AIUh4m/5/dI/7/Sf/G6PrlH+b8w+rVex5pRXpf8AwpDxN/z+6R/3+k/+N0f8KQ8Tf8/ukf8Af6T/AON0fXKP835h9Wq9jsvgf/yJd7/2EX/9Fx16XXH/AA48K3/hDw/c6fqMttJLJdtMrW7sy7SiLzlRzlT+ldhXj1WpTbXc9OmmoJMwEGfG2p/9g6z/APRlzSaqMaz4c/7CD/8ApLcU68s9Xh8Q3GoafbWNxFPawwMtxdPCymN5WyMRvkHzB6dKj+ya5e6rpc15Z6dbwWdw07NDevKzZhkjAAMSjrJnOe1Y21uVbU6KiiiqGFFFFABRRRQAUUUUAFFFFABRRRQAUUUUAFFFFABRRRQAUUUUAFFFFABRRRQAUUUUAFFFFABWNr15dRyWGnWQthPqErRF7mIyRoixszEoGXdnAGMjrntg7NZ+q6SmqLbn7TPa3FtL5sNxb7d6NtKn7yspBViMEHr6gGgBNB1J9W0S1vZY1jlkUiRFOVDqSrY9sg49q0aq6dYQaXp1vY2wbyYECLuOWPuT3J6k+pq1QAUUUUAFFFFABRRRQAUUUUAFFFFABWHpt5fSeKNXsbv7IyQwwSwPDEyvsdpQFcljuI2ZyAPvHitysi10I23iG61f+1L6VrmNY3t3EXlBVLFQMRhuN7fxd+c0Aa9FFFABRRRQAUUUUAFFFFABRRRQAUUUUAFFFFABRRRQAUUUUAFFFFABRRRQAUUUUAFFFFABRRRQAUUUUAFFFFABRRRQAUUUUAFFFFABRRRQAUUUUAeYR3+uWNrquuWiXjLaT6p5j314ZLefbcSLEiR7yU27QMhU4GOc1uNr3iVNdfTorG3vBaPCt1LHGsSsshzuXfPuXap/uvuKnp0HVmxtDayWptYDbylmki8sbHLEsxI6HJJJ9SSajudJ028u4bu60+0nuYMGKaWFWePByNrEZHPPFAHBX3iXVpTDqDz2628unalPFaRGRGXygABIQ/zEeo2lTkD1rafV9YvrLW5LS4s7WKwjeII0LyTF/IEgfdvAAy4wMHIGc88b/wDYWj/aJ7j+yrHzrgMs0n2dN0gYYYMcZOe+etSHSdNa+S+bT7Q3iJsW4MK+Yq4IwGxkDBIx70Acb/wkfieGO0srS0h1K7TTYr2WRY1jWUOWAX551242cuN/3gdo4Bml1vU7zxFo/wDpFvDYtrVxZ/Zk3CZhFBPy53YZSVDbdox8hya6VvDehNbw27aLpxhgJaKM2qbYyTklRjAJ9qm/sfTP7R/tH+zrT7dnP2nyF8zOCv3sZ6Ej6GgDntX1m603xFqawzOWNlYpbQlDKplknnXhN6DJwBncvQZPFY8PibWtT1DS5Ibi0srhbXVEuI7kEws8E0Cg7Ukxuxn+JtoZuT37y60ywvRMLuxtrgTIscoliV96qSVVsjkAkkA9CTVaTw5ocsEUEmi6c8UW7y42tUKpuILYGOMlVJ9cD0oA5vTfF2t6xqURstHxYq1stwH2AqJYo5C24ygjaJOgjbdtODk8bnhGea58L2U08ryysH3PIxZj87dSavzaRptxfRX02nWkl3DgRzvCpkTHTDEZH4VYgghtoVhgiSKJfupGoVR9AKAJKKKKACiiigAooooAKKKKACiiigAooooAKKKKACiiigAooooAKKKKACiiigD/2Q==\" width = \"300px\" height = \"300px\" ></td>\n",
       "    </tr>\n",
       "    <tr>\n",
       "      <th>svm</th>\n",
       "      <td>0.978556</td>\n",
       "      <td>0.978556</td>\n",
       "      <td><img src=\"data:image/jpeg;base64,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\" width = \"300px\" height = \"300px\" ></td>\n",
       "    </tr>\n",
       "  </tbody>\n",
       "</table>"
      ],
      "text/plain": [
       "<IPython.core.display.HTML object>"
      ]
     },
     "metadata": {},
     "output_type": "display_data"
    }
   ],
   "source": [
    "metrics = test.set_evaluating(train._state) \\\n",
    "    .logistic_regression[('fea', 'target'), 'lr_predict'](name='logistic') \\\n",
    "    .decision_tree[('fea', 'target'), 'dt_predict'](name='decision_tree') \\\n",
    "    .svc[('fea', 'target'), 'svm_predict'](name='svm_classifier') \\\n",
    "    .with_metrics(['accuracy', 'recall', 'confusion_matrix']) \\\n",
    "    .evaluate['target', 'lr_predict']('lr') \\\n",
    "    .evaluate['target', 'dt_predict']('dt') \\\n",
    "    .evaluate['target', 'svm_predict']('svm') \\\n",
    "    .report()"
   ]
  },
  {
   "cell_type": "markdown",
   "id": "d84039b5",
   "metadata": {
    "papermill": {
     "duration": 0.038728,
     "end_time": "2022-04-14T02:46:21.761470",
     "exception": false,
     "start_time": "2022-04-14T02:46:21.722742",
     "status": "completed"
    },
    "tags": []
   },
   "source": [
    "<a id=\"9\"></a> <br>\n",
    "#### Ensemble"
   ]
  },
  {
   "cell_type": "markdown",
   "id": "c7581adf",
   "metadata": {
    "papermill": {
     "duration": 0.039113,
     "end_time": "2022-04-14T02:46:21.839378",
     "exception": false,
     "start_time": "2022-04-14T02:46:21.800265",
     "status": "completed"
    },
    "tags": []
   },
   "source": [
    "Towhee also support self-defined algorithm operators, here is a example of xgboost classifier we present to ensemble the results from logistic regression, decision tree and support vector machine.\n",
    "- Use `register` decorator to register your operator for future calling;\n",
    "- All the model operators should be a subclass of `StatefulOperator` with a name;\n",
    "- a `fit` function and `predict` function is required;"
   ]
  },
  {
   "cell_type": "code",
   "execution_count": 17,
   "id": "941e6f3d",
   "metadata": {
    "execution": {
     "iopub.execute_input": "2022-04-14T02:46:21.925631Z",
     "iopub.status.busy": "2022-04-14T02:46:21.925104Z",
     "iopub.status.idle": "2022-04-14T02:46:22.037489Z",
     "shell.execute_reply": "2022-04-14T02:46:22.037892Z",
     "shell.execute_reply.started": "2022-04-11T03:53:51.177823Z"
    },
    "papermill": {
     "duration": 0.160083,
     "end_time": "2022-04-14T02:46:22.038042",
     "exception": false,
     "start_time": "2022-04-14T02:46:21.877959",
     "status": "completed"
    },
    "tags": []
   },
   "outputs": [],
   "source": [
    "from towhee import register\n",
    "from towhee.operator import StatefulOperator\n",
    "from xgboost import XGBClassifier\n",
    "from scipy import sparse\n",
    "import numpy as np\n",
    "\n",
    "@register\n",
    "class XGBClassifierOperator(StatefulOperator):\n",
    "    def __init__(self, name):\n",
    "        super().__init__(name=name)\n",
    "    \n",
    "    def fit(self):\n",
    "        X = sparse.vstack(self._data[0])\n",
    "        y = np.array(self._data[1]).reshape([-1, 1])\n",
    "        self._state.model = XGBClassifier(n_estimators=100)\n",
    "        self._state.model.fit(X, y)\n",
    "        \n",
    "    def predict(self, *arg):\n",
    "        return self._state.model.predict(arg[0])[0]"
   ]
  },
  {
   "cell_type": "markdown",
   "id": "47aa65ff",
   "metadata": {
    "papermill": {
     "duration": 0.039769,
     "end_time": "2022-04-14T02:46:22.118317",
     "exception": false,
     "start_time": "2022-04-14T02:46:22.078548",
     "status": "completed"
    },
    "tags": []
   },
   "source": [
    "Stack the prediction results from lr, dt and svm into a new feature as the input of our ensemble model."
   ]
  },
  {
   "cell_type": "code",
   "execution_count": 18,
   "id": "bf4b4e91",
   "metadata": {
    "execution": {
     "iopub.execute_input": "2022-04-14T02:46:22.209997Z",
     "iopub.status.busy": "2022-04-14T02:46:22.209476Z",
     "iopub.status.idle": "2022-04-14T02:46:46.971059Z",
     "shell.execute_reply": "2022-04-14T02:46:46.971457Z",
     "shell.execute_reply.started": "2022-04-11T03:53:51.277594Z"
    },
    "papermill": {
     "duration": 24.813735,
     "end_time": "2022-04-14T02:46:46.971602",
     "exception": false,
     "start_time": "2022-04-14T02:46:22.157867",
     "status": "completed"
    },
    "tags": []
   },
   "outputs": [],
   "source": [
    "for i in ['lr_predict', 'dt_predict','svm_predict']:\n",
    "\ttrain.runas_op[i,i](func=lambda x: x[0])\n",
    "\ttest.runas_op[i,i](func=lambda x: x[0])\n",
    "\n",
    "train = train.tensor_hstack[('lr_predict', 'dt_predict','svm_predict'), 'ensemble_predict']()\n",
    "test = test.tensor_hstack[('lr_predict', 'dt_predict', 'svm_predict'), 'ensemble_predict']()"
   ]
  },
  {
   "cell_type": "code",
   "execution_count": 19,
   "id": "ef163973",
   "metadata": {
    "execution": {
     "iopub.execute_input": "2022-04-14T02:46:47.071446Z",
     "iopub.status.busy": "2022-04-14T02:46:47.053322Z",
     "iopub.status.idle": "2022-04-14T02:52:03.464469Z",
     "shell.execute_reply": "2022-04-14T02:52:03.465143Z",
     "shell.execute_reply.started": "2022-04-11T03:54:14.93539Z"
    },
    "papermill": {
     "duration": 316.454228,
     "end_time": "2022-04-14T02:52:03.465345",
     "exception": false,
     "start_time": "2022-04-14T02:46:47.011117",
     "status": "completed"
    },
    "tags": []
   },
   "outputs": [
    {
     "name": "stdout",
     "output_type": "stream",
     "text": [
      "[02:46:52] WARNING: ../src/learner.cc:1115: Starting in XGBoost 1.3.0, the default evaluation metric used with the objective 'binary:logistic' was changed from 'error' to 'logloss'. Explicitly set eval_metric if you'd like to restore the old behavior.\n"
     ]
    },
    {
     "data": {
      "text/html": [
       "<table border=\"1\" class=\"dataframe\">\n",
       "  <thead>\n",
       "    <tr style=\"text-align: right;\">\n",
       "      <th></th>\n",
       "      <th>accuracy</th>\n",
       "      <th>recall</th>\n",
       "      <th>confusion_matrix</th>\n",
       "    </tr>\n",
       "  </thead>\n",
       "  <tbody>\n",
       "    <tr>\n",
       "      <th>xgb</th>\n",
       "      <td>0.978758</td>\n",
       "      <td>0.978758</td>\n",
       "      <td><img src=\"data:image/jpeg;base64,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\" width = \"300px\" height = \"300px\" ></td>\n",
       "    </tr>\n",
       "  </tbody>\n",
       "</table>"
      ],
      "text/plain": [
       "<IPython.core.display.HTML object>"
      ]
     },
     "metadata": {},
     "output_type": "display_data"
    }
   ],
   "source": [
    "train.set_training().XGBClassifierOperator[('ensemble_predict', 'target'), 'xgb_predict'](name='XGBClassifierOperator')\n",
    "\n",
    "metrics = test.set_evaluating(train._state) \\\n",
    "    .XGBClassifierOperator[('ensemble_predict', 'target'), 'xgb_predict'](name='XGBClassifierOperator') \\\n",
    "    .with_metrics(['accuracy', 'recall', 'confusion_matrix']) \\\n",
    "    .evaluate['target', 'xgb_predict']('xgb') \\\n",
    "    .report()"
   ]
  },
  {
   "cell_type": "markdown",
   "id": "741cf516",
   "metadata": {
    "papermill": {
     "duration": 0.06127,
     "end_time": "2022-04-14T02:52:03.589931",
     "exception": false,
     "start_time": "2022-04-14T02:52:03.528661",
     "status": "completed"
    },
    "tags": []
   },
   "source": [
    "<a id=\"10\"></a> <br>\n",
    "## Improve"
   ]
  },
  {
   "cell_type": "markdown",
   "id": "ff1772a0",
   "metadata": {
    "papermill": {
     "duration": 0.061614,
     "end_time": "2022-04-14T02:52:03.712914",
     "exception": false,
     "start_time": "2022-04-14T02:52:03.651300",
     "status": "completed"
    },
    "tags": []
   },
   "source": [
    "The result from previous process is not extremely satsifying, so we can futher improve the performance by analysing the features. DC provides a `feature_summarize` API to help understanding data. Then we should extract these feature according to their pattern to discretize properly."
   ]
  },
  {
   "cell_type": "code",
   "execution_count": 20,
   "id": "aec0fcb3",
   "metadata": {
    "execution": {
     "iopub.execute_input": "2022-04-14T02:52:03.839157Z",
     "iopub.status.busy": "2022-04-14T02:52:03.838523Z",
     "iopub.status.idle": "2022-04-14T02:52:05.823498Z",
     "shell.execute_reply": "2022-04-14T02:52:05.822477Z",
     "shell.execute_reply.started": "2022-04-11T04:00:01.056151Z"
    },
    "papermill": {
     "duration": 2.049329,
     "end_time": "2022-04-14T02:52:05.823711",
     "exception": false,
     "start_time": "2022-04-14T02:52:03.774382",
     "status": "completed"
    },
    "tags": []
   },
   "outputs": [
    {
     "name": "stdout",
     "output_type": "stream",
     "text": [
      "Variable: CNT_CHILDREN's IV sum is: 0.17517426069063458\n",
      "Variable: AMT_INCOME_TOTAL's IV sum is: 0.6377763155272913\n",
      "Variable: CNT_FAM_MEMBERS's IV sum is: 0.15635342524237256\n",
      "Variable: years_birth's IV sum is: 0.8612574247923361\n",
      "Variable: years_employed's IV sum is: 0.27022981571426363\n"
     ]
    },
    {
     "data": {
      "text/html": [
       "<div>\n",
       "<style scoped>\n",
       "    .dataframe tbody tr th:only-of-type {\n",
       "        vertical-align: middle;\n",
       "    }\n",
       "\n",
       "    .dataframe tbody tr th {\n",
       "        vertical-align: top;\n",
       "    }\n",
       "\n",
       "    .dataframe thead th {\n",
       "        text-align: right;\n",
       "    }\n",
       "</style>\n",
       "<table border=\"1\" class=\"dataframe\">\n",
       "  <thead>\n",
       "    <tr style=\"text-align: right;\">\n",
       "      <th></th>\n",
       "      <th>Variable</th>\n",
       "      <th>Value</th>\n",
       "      <th>All</th>\n",
       "      <th>Good</th>\n",
       "      <th>Bad</th>\n",
       "      <th>Share</th>\n",
       "      <th>Bad Rate</th>\n",
       "      <th>Distribution Good</th>\n",
       "      <th>Distribution Bad</th>\n",
       "      <th>WoE</th>\n",
       "      <th>IV</th>\n",
       "    </tr>\n",
       "  </thead>\n",
       "  <tbody>\n",
       "    <tr>\n",
       "      <th>0</th>\n",
       "      <td>CNT_CHILDREN</td>\n",
       "      <td>0.0</td>\n",
       "      <td>32123</td>\n",
       "      <td>14060</td>\n",
       "      <td>18063</td>\n",
       "      <td>0.722174</td>\n",
       "      <td>0.562307</td>\n",
       "      <td>0.632308</td>\n",
       "      <td>0.812003</td>\n",
       "      <td>-0.250127</td>\n",
       "      <td>0.044947</td>\n",
       "    </tr>\n",
       "    <tr>\n",
       "      <th>1</th>\n",
       "      <td>CNT_CHILDREN</td>\n",
       "      <td>1.0</td>\n",
       "      <td>8234</td>\n",
       "      <td>5430</td>\n",
       "      <td>2804</td>\n",
       "      <td>0.185113</td>\n",
       "      <td>0.340539</td>\n",
       "      <td>0.244199</td>\n",
       "      <td>0.126051</td>\n",
       "      <td>0.661297</td>\n",
       "      <td>0.078131</td>\n",
       "    </tr>\n",
       "    <tr>\n",
       "      <th>2</th>\n",
       "      <td>CNT_CHILDREN</td>\n",
       "      <td>2.0</td>\n",
       "      <td>3543</td>\n",
       "      <td>2403</td>\n",
       "      <td>1140</td>\n",
       "      <td>0.079652</td>\n",
       "      <td>0.321761</td>\n",
       "      <td>0.108068</td>\n",
       "      <td>0.051247</td>\n",
       "      <td>0.746094</td>\n",
       "      <td>0.042393</td>\n",
       "    </tr>\n",
       "    <tr>\n",
       "      <th>3</th>\n",
       "      <td>CNT_CHILDREN</td>\n",
       "      <td>3.0</td>\n",
       "      <td>507</td>\n",
       "      <td>270</td>\n",
       "      <td>237</td>\n",
       "      <td>0.011398</td>\n",
       "      <td>0.467456</td>\n",
       "      <td>0.012142</td>\n",
       "      <td>0.010654</td>\n",
       "      <td>0.130766</td>\n",
       "      <td>0.000195</td>\n",
       "    </tr>\n",
       "    <tr>\n",
       "      <th>4</th>\n",
       "      <td>CNT_CHILDREN</td>\n",
       "      <td>4.0</td>\n",
       "      <td>55</td>\n",
       "      <td>54</td>\n",
       "      <td>1</td>\n",
       "      <td>0.001236</td>\n",
       "      <td>0.018182</td>\n",
       "      <td>0.002428</td>\n",
       "      <td>0.000045</td>\n",
       "      <td>3.989389</td>\n",
       "      <td>0.009509</td>\n",
       "    </tr>\n",
       "    <tr>\n",
       "      <th>...</th>\n",
       "      <td>...</td>\n",
       "      <td>...</td>\n",
       "      <td>...</td>\n",
       "      <td>...</td>\n",
       "      <td>...</td>\n",
       "      <td>...</td>\n",
       "      <td>...</td>\n",
       "      <td>...</td>\n",
       "      <td>...</td>\n",
       "      <td>...</td>\n",
       "      <td>...</td>\n",
       "    </tr>\n",
       "    <tr>\n",
       "      <th>38</th>\n",
       "      <td>years_employed</td>\n",
       "      <td>38.0</td>\n",
       "      <td>11</td>\n",
       "      <td>11</td>\n",
       "      <td>0</td>\n",
       "      <td>0.000247</td>\n",
       "      <td>0.000000</td>\n",
       "      <td>0.000495</td>\n",
       "      <td>0.000000</td>\n",
       "      <td>0.000000</td>\n",
       "      <td>0.000000</td>\n",
       "    </tr>\n",
       "    <tr>\n",
       "      <th>39</th>\n",
       "      <td>years_employed</td>\n",
       "      <td>39.0</td>\n",
       "      <td>10</td>\n",
       "      <td>10</td>\n",
       "      <td>0</td>\n",
       "      <td>0.000225</td>\n",
       "      <td>0.000000</td>\n",
       "      <td>0.000450</td>\n",
       "      <td>0.000000</td>\n",
       "      <td>0.000000</td>\n",
       "      <td>0.000000</td>\n",
       "    </tr>\n",
       "    <tr>\n",
       "      <th>40</th>\n",
       "      <td>years_employed</td>\n",
       "      <td>40.0</td>\n",
       "      <td>15</td>\n",
       "      <td>15</td>\n",
       "      <td>0</td>\n",
       "      <td>0.000337</td>\n",
       "      <td>0.000000</td>\n",
       "      <td>0.000675</td>\n",
       "      <td>0.000000</td>\n",
       "      <td>0.000000</td>\n",
       "      <td>0.000000</td>\n",
       "    </tr>\n",
       "    <tr>\n",
       "      <th>41</th>\n",
       "      <td>years_employed</td>\n",
       "      <td>42.0</td>\n",
       "      <td>3</td>\n",
       "      <td>3</td>\n",
       "      <td>0</td>\n",
       "      <td>0.000067</td>\n",
       "      <td>0.000000</td>\n",
       "      <td>0.000135</td>\n",
       "      <td>0.000000</td>\n",
       "      <td>0.000000</td>\n",
       "      <td>0.000000</td>\n",
       "    </tr>\n",
       "    <tr>\n",
       "      <th>42</th>\n",
       "      <td>years_employed</td>\n",
       "      <td>43.0</td>\n",
       "      <td>1</td>\n",
       "      <td>1</td>\n",
       "      <td>0</td>\n",
       "      <td>0.000022</td>\n",
       "      <td>0.000000</td>\n",
       "      <td>0.000045</td>\n",
       "      <td>0.000000</td>\n",
       "      <td>0.000000</td>\n",
       "      <td>0.000000</td>\n",
       "    </tr>\n",
       "  </tbody>\n",
       "</table>\n",
       "<p>304 rows × 11 columns</p>\n",
       "</div>"
      ],
      "text/plain": [
       "          Variable  Value    All   Good    Bad     Share  Bad Rate  \\\n",
       "0     CNT_CHILDREN    0.0  32123  14060  18063  0.722174  0.562307   \n",
       "1     CNT_CHILDREN    1.0   8234   5430   2804  0.185113  0.340539   \n",
       "2     CNT_CHILDREN    2.0   3543   2403   1140  0.079652  0.321761   \n",
       "3     CNT_CHILDREN    3.0    507    270    237  0.011398  0.467456   \n",
       "4     CNT_CHILDREN    4.0     55     54      1  0.001236  0.018182   \n",
       "..             ...    ...    ...    ...    ...       ...       ...   \n",
       "38  years_employed   38.0     11     11      0  0.000247  0.000000   \n",
       "39  years_employed   39.0     10     10      0  0.000225  0.000000   \n",
       "40  years_employed   40.0     15     15      0  0.000337  0.000000   \n",
       "41  years_employed   42.0      3      3      0  0.000067  0.000000   \n",
       "42  years_employed   43.0      1      1      0  0.000022  0.000000   \n",
       "\n",
       "    Distribution Good  Distribution Bad       WoE        IV  \n",
       "0            0.632308          0.812003 -0.250127  0.044947  \n",
       "1            0.244199          0.126051  0.661297  0.078131  \n",
       "2            0.108068          0.051247  0.746094  0.042393  \n",
       "3            0.012142          0.010654  0.130766  0.000195  \n",
       "4            0.002428          0.000045  3.989389  0.009509  \n",
       "..                ...               ...       ...       ...  \n",
       "38           0.000495          0.000000  0.000000  0.000000  \n",
       "39           0.000450          0.000000  0.000000  0.000000  \n",
       "40           0.000675          0.000000  0.000000  0.000000  \n",
       "41           0.000135          0.000000  0.000000  0.000000  \n",
       "42           0.000045          0.000000  0.000000  0.000000  \n",
       "\n",
       "[304 rows x 11 columns]"
      ]
     },
     "metadata": {},
     "output_type": "display_data"
    }
   ],
   "source": [
    "train.feature_summarize['CNT_CHILDREN', 'AMT_INCOME_TOTAL','CNT_FAM_MEMBERS', 'years_birth', 'years_employed'](target='target')"
   ]
  },
  {
   "cell_type": "markdown",
   "id": "f33d6c98",
   "metadata": {
    "papermill": {
     "duration": 0.042769,
     "end_time": "2022-04-14T02:52:05.909667",
     "exception": false,
     "start_time": "2022-04-14T02:52:05.866898",
     "status": "completed"
    },
    "tags": []
   },
   "source": [
    "The table summarize the values of the columns listed in `[]`:\n",
    "- `All`: number of this value appeared in this column;\n",
    "- `Good`: number of this value in this column with `target` labelled '0';\n",
    "- `Bad`: number of this value in this column with `target` labelled '1';\n",
    "- `Share`: the ratio of this value in this column;\n",
    "- `Bad Rate`: `Bad`/`All`;\n",
    "- `Distribution Good`: `Good`/ number of `target` labelled '0';\n",
    "- `Distribution Bad`: `Bad`/ number of `target` labelled '1';\n",
    "- `WoE`:  Weight of Evidence $$wo{e_i} = \\ln {{{P_{yi}}} \\over {{P_{ni}}}} = \\ln {{{y_i}/{y_s}} \\over {{n_i}/{n_s}}}$$\n",
    "$wo{e_i}$ is the I category's WOE value. ${{P_{yi}}}$ is the proportion of the positive samples in this category to all positive samples.   ${{P_{ni}}}$ is the ratio of negative samples (${{n_i}}$) in this class to all negative samples (${{n_s}}$).\n",
    "\n",
    "- `IV`: Information Value, measures the variable's ability to predict. $$I{V_i} = ({P_{yi}} - {P_{ni}}) \\times wo{e_i}$$  \n",
    "The IV values of the various types are the difference between the conditional positive rate and the conditional negative rate multiplied by the WOE value of the variable. The total IV value of the variable can be understood as the weighted sum of the conditional positive rate and the conditional negative rate difference:\n",
    "$$IV = \\sum\\limits_i^n {I{V_i}} $$  \n",
    "\n"
   ]
  }
 ],
 "metadata": {
  "kernelspec": {
   "display_name": "Python 3 (ipykernel)",
   "language": "python",
   "name": "python3"
  },
  "language_info": {
   "codemirror_mode": {
    "name": "ipython",
    "version": 3
   },
   "file_extension": ".py",
   "mimetype": "text/x-python",
   "name": "python",
   "nbconvert_exporter": "python",
   "pygments_lexer": "ipython3",
   "version": "3.8.12"
  },
  "papermill": {
   "default_parameters": {},
   "duration": 1203.361231,
   "end_time": "2022-04-14T02:52:09.531633",
   "environment_variables": {},
   "exception": null,
   "input_path": "__notebook__.ipynb",
   "output_path": "__notebook__.ipynb",
   "parameters": {},
   "start_time": "2022-04-14T02:32:06.170402",
   "version": "2.3.3"
  }
 },
 "nbformat": 4,
 "nbformat_minor": 5
}
