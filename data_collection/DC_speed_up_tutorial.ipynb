{
 "cells": [
  {
   "cell_type": "markdown",
   "metadata": {},
   "source": [
    "# DC Speed-Up Tutorial"
   ]
  },
  {
   "cell_type": "markdown",
   "metadata": {},
   "source": [
    "In this notebook, we take an image embedding task as example to compare some speed-up strategies Towhee's DataCollection provides."
   ]
  },
  {
   "cell_type": "markdown",
   "metadata": {},
   "source": [
    "## Preparation"
   ]
  },
  {
   "cell_type": "code",
   "execution_count": null,
   "metadata": {},
   "outputs": [],
   "source": [
    "! curl -L https://github.com/towhee-io/examples/releases/download/data/reverse_image_search.zip -O\n",
    "! unzip -q -o reverse_image_search.zip"
   ]
  },
  {
   "cell_type": "code",
   "execution_count": null,
   "metadata": {},
   "outputs": [],
   "source": [
    "import towhee\n",
    "import sys\n",
    "import torch\n",
    "from torchvision import transforms\n",
    "import torchvision.transforms.functional as TF\n",
    "from torchvision import models\n",
    "\n",
    "@towhee.register\n",
    "class image_normalize:\n",
    "    def __init__(self, mean=[0.485, 0.456, 0.406], std=[0.229, 0.224, 0.225]):\n",
    "        self._mean = mean\n",
    "        self._std = std\n",
    "        \n",
    "    def __call__(self, x):\n",
    "        x = torch.tensor(x, dtype=torch.float32).permute(2, 0, 1)\n",
    "        return TF.normalize(x, mean=self._mean, std=self._std).detach().numpy()\n",
    "    \n",
    "    def __vcall__(self, x):\n",
    "        x = torch.tensor(x, dtype=torch.float32).permute(0, 3, 1, 2)\n",
    "        return TF.normalize(x, mean=self._mean, std=self._std).detach().numpy()\n",
    "\n",
    "@towhee.register\n",
    "class image_embedding:\n",
    "    def __init__(self):\n",
    "        self._device = 'cuda' if torch.cuda.is_available() else 'cpu'\n",
    "        torch_model = models.resnet18(pretrained=True)\n",
    "        torch_model = torch.nn.Sequential(*(list(torch_model.children())[:-1]))\n",
    "        torch_model.to(self._device)\n",
    "        _ = torch_model.eval()\n",
    "        \n",
    "        self._model = torch_model\n",
    "\n",
    "    def __call__(self, imgs):\n",
    "        imgs = torch.tensor(imgs).to(self._device)\n",
    "        imgs = torch.unsqueeze(imgs, 0)\n",
    "        embedding = self._model(imgs).detach().cpu().numpy()\n",
    "        return embedding.reshape([512])\n",
    "    \n",
    "    def __vcall__(self, imgs):\n",
    "        imgs = torch.tensor(imgs).to(self._device)\n",
    "        embedding = self._model(imgs).detach().cpu().numpy()\n",
    "        return embedding.reshape([-1, 512])"
   ]
  },
  {
   "cell_type": "markdown",
   "metadata": {},
   "source": [
    "## Default"
   ]
  },
  {
   "cell_type": "code",
   "execution_count": null,
   "metadata": {},
   "outputs": [],
   "source": [
    "%%time\n",
    "import towhee\n",
    "\n",
    "dc = (\n",
    "    towhee.read_csv('reverse_image_search.csv').unstream()\n",
    "        .runas_op['id', 'id'](func=lambda x: int(x))\n",
    "        .image_decode['path', 'img']()\n",
    "        .image_resize['img', 'img'](dsize=[224, 224])\n",
    ")"
   ]
  },
  {
   "cell_type": "code",
   "execution_count": null,
   "metadata": {},
   "outputs": [],
   "source": [
    "%%time\n",
    "(\n",
    "    dc.image_normalize['img', 'nimg']()\n",
    "        .image_embedding['nimg', 'embedding']()\n",
    "        .show()\n",
    ")"
   ]
  },
  {
   "cell_type": "markdown",
   "metadata": {},
   "source": [
    "# Chunk"
   ]
  },
  {
   "cell_type": "code",
   "execution_count": null,
   "metadata": {},
   "outputs": [],
   "source": [
    "%%time\n",
    "import towhee\n",
    "\n",
    "dc = (\n",
    "    towhee.read_csv('reverse_image_search.csv').unstream()\n",
    "        .runas_op['id', 'id'](func=lambda x: int(x))\n",
    "        .image_decode['path', 'img']()\n",
    "        .image_resize['img', 'img'](dsize=[224, 224])\n",
    "        .set_chunksize(20)\n",
    ")"
   ]
  },
  {
   "cell_type": "code",
   "execution_count": null,
   "metadata": {},
   "outputs": [],
   "source": [
    "%%time\n",
    "(\n",
    "    dc.image_normalize['img', 'nimg']()\n",
    "        .image_embedding['nimg', 'embedding']()\n",
    "        .show()\n",
    ")"
   ]
  },
  {
   "cell_type": "markdown",
   "metadata": {},
   "source": [
    "## Parallel"
   ]
  },
  {
   "cell_type": "code",
   "execution_count": null,
   "metadata": {},
   "outputs": [],
   "source": [
    "%%time\n",
    "import towhee\n",
    "\n",
    "dc = (\n",
    "    towhee.read_csv('reverse_image_search.csv').unstream()\n",
    "        .runas_op['id', 'id'](func=lambda x: int(x))\n",
    "        .image_decode['path', 'img']()\n",
    "        .image_resize['img', 'img'](dsize=[224, 224])\n",
    "        .set_parallel(5)\n",
    ")"
   ]
  },
  {
   "cell_type": "code",
   "execution_count": null,
   "metadata": {},
   "outputs": [],
   "source": [
    "%%time\n",
    "(\n",
    "    dc.image_normalize['img', 'nimg']()\n",
    "        .image_embedding['nimg', 'embedding']()\n",
    "        .show()\n",
    ")"
   ]
  },
  {
   "cell_type": "markdown",
   "metadata": {},
   "source": [
    "## JIT"
   ]
  },
  {
   "cell_type": "code",
   "execution_count": null,
   "metadata": {},
   "outputs": [],
   "source": [
    "%%time\n",
    "import towhee\n",
    "\n",
    "dc = (\n",
    "    towhee.read_csv('reverse_image_search.csv').unstream()\n",
    "        .runas_op['id', 'id'](func=lambda x: int(x))\n",
    "        .image_decode['path', 'img']()\n",
    "        .image_resize['img', 'img'](dsize=[224, 224])\n",
    ")"
   ]
  },
  {
   "cell_type": "code",
   "execution_count": null,
   "metadata": {},
   "outputs": [],
   "source": [
    "%%time\n",
    "(\n",
    "    dc.image_normalize['img', 'nimg']()\n",
    "        .set_jit('towhee')\n",
    "        .image_embedding['nimg', 'embedding']()\n",
    "        .show()\n",
    ")"
   ]
  },
  {
   "cell_type": "markdown",
   "metadata": {},
   "source": [
    "## Parallel in GPU"
   ]
  },
  {
   "cell_type": "code",
   "execution_count": null,
   "metadata": {},
   "outputs": [],
   "source": [
    "%%time\n",
    "import towhee\n",
    "from torch.profiler import profile, ProfilerActivity\n",
    "\n",
    "with profile(activities=[ProfilerActivity.CPU, ProfilerActivity.CUDA]) as prof:\n",
    "\tdc = (\n",
    "\t\ttowhee.read_csv('reverse_image_search.csv').unstream()\n",
    "\t\t\t.runas_op['id', 'id'](func=lambda x: int(x))\n",
    "\t\t\t.set_parallel(5)\n",
    "\t\t\t.image_decode['path', 'img']()\n",
    "\t\t\t.image_resize['img', 'img'](dsize=[224, 224])\n",
    "\t\t\t.image_normalize['img', 'nimg']()\n",
    "        \t.image_embedding['nimg', 'embedding']()\n",
    "\t\t\t.show()\n",
    "\t)\n",
    "\n",
    "prof.export_chrome_trace(\"para.json\")"
   ]
  },
  {
   "cell_type": "markdown",
   "metadata": {},
   "source": [
    "## Parallel in GPU with JIT"
   ]
  },
  {
   "cell_type": "code",
   "execution_count": null,
   "metadata": {},
   "outputs": [],
   "source": [
    "%%time\n",
    "import towhee\n",
    "from torch.profiler import profile, ProfilerActivity\n",
    "\n",
    "with profile(activities=[ProfilerActivity.CPU, ProfilerActivity.CUDA]) as prof:\n",
    "\tdc = (\n",
    "\t\ttowhee.read_csv('reverse_image_search.csv')\n",
    "\t\t\t.runas_op['id', 'id'](func=lambda x: int(x))\n",
    "\t\t\t.set_parallel(5)\n",
    "\t\t\t.image_decode['path', 'img']()\n",
    "\t\t\t.image_resize['img', 'img'](dsize=[224, 224])\n",
    "\t\t\t.image_normalize['img', 'nimg']()\n",
    "\t\t\t.set_jit('towhee')\n",
    "        \t.image_embedding['nimg', 'embedding']()\n",
    "\t\t\t.show()\n",
    "\t)\n",
    "\n",
    "prof.export_chrome_trace(\"para_jit.json\")"
   ]
  },
  {
   "cell_type": "markdown",
   "metadata": {},
   "source": [
    "# Parallel & Chunk"
   ]
  },
  {
   "cell_type": "code",
   "execution_count": null,
   "metadata": {},
   "outputs": [],
   "source": [
    "%%time\n",
    "import towhee\n",
    "\n",
    "dc = (\n",
    "    towhee.read_csv('reverse_image_search.csv').unstream()\n",
    "        .runas_op['id', 'id'](func=lambda x: int(x))\n",
    "        .image_decode['path', 'img']()\n",
    "        .image_resize['img', 'img'](dsize=[224, 224])\n",
    "        .set_chunksize(20)\n",
    "        .set_parallel(5)\n",
    ")"
   ]
  },
  {
   "cell_type": "code",
   "execution_count": null,
   "metadata": {},
   "outputs": [],
   "source": [
    "%%time\n",
    "(\n",
    "    dc.image_normalize['img', 'nimg']()\n",
    "        .image_embedding['nimg', 'embedding']()\n",
    "        .show()\n",
    ")"
   ]
  },
  {
   "cell_type": "markdown",
   "metadata": {},
   "source": [
    "## Parallel & Chunk & JIT"
   ]
  },
  {
   "cell_type": "code",
   "execution_count": null,
   "metadata": {},
   "outputs": [],
   "source": [
    "%%time\n",
    "import towhee\n",
    "\n",
    "dc = (\n",
    "    towhee.read_csv('reverse_image_search.csv')\n",
    "        .runas_op['id', 'id'](func=lambda x: int(x))\n",
    "\t\t.set_parallel(5)\n",
    "        .set_chunksize(10)\n",
    "        .image_decode['path', 'img']()\n",
    "        .image_embedding.timm['img', 'vec'](model_name='resnet50')\n",
    "        .to_list()\n",
    ")"
   ]
  },
  {
   "cell_type": "code",
   "execution_count": null,
   "metadata": {},
   "outputs": [],
   "source": []
  }
 ],
 "metadata": {
  "kernelspec": {
   "display_name": "Python 3.8.5 ('base')",
   "language": "python",
   "name": "python3"
  },
  "language_info": {
   "codemirror_mode": {
    "name": "ipython",
    "version": 3
   },
   "file_extension": ".py",
   "mimetype": "text/x-python",
   "name": "python",
   "nbconvert_exporter": "python",
   "pygments_lexer": "ipython3",
   "version": "3.8.5"
  },
  "vscode": {
   "interpreter": {
    "hash": "f7dd10cdbe9a9c71f7e71741efd428241b5f9fa0fecdd29ae07a5706cd5ff8a2"
   }
  }
 },
 "nbformat": 4,
 "nbformat_minor": 2
}
