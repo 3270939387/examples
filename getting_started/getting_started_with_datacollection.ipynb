{
 "cells": [
  {
   "cell_type": "markdown",
   "id": "41c3f8f6",
   "metadata": {},
   "source": [
    "# Getting Started with Towhee - Introduction to DataCollection"
   ]
  },
  {
   "cell_type": "markdown",
   "id": "db9d09ef",
   "metadata": {
    "slideshow": {
     "slide_type": "notes"
    }
   },
   "source": [
    "## What is DataCollection\n",
    "\n",
    "DataCollection(DC) is a pythonic computation framework for unstructured data in machine learning and data science. It provides a [method-chaining style API](https://towhee.readthedocs.io/en/main/index.html) that makes it easier for a data scientist or researcher to assemble a data processing pipeline.\n",
    "\n",
    "- Pythonic Method-Chaining Style API: Designed to behave as a python list or iterator, DataCollection is easy to understand for python users and is compatible with most popular data science toolkits. Function/Operator invocations can be chained one after another, making your code clean and fluent.\n",
    "\n",
    "- Exception-Safe Execution: DataCollection provides exception-safe execution, which allows the function/operator invocation chain to continue executing on exception. Data scientists can put an exception receiver to the tail of the pipeline, processing and analyzing the exceptions as data, not errors.\n",
    "\n",
    "- Feature-Rich Operator Repository: There are various pre-defined operators On the towhee hub, which cover the most popular deep learning models in computer vision, NLP, and voice processing. Using these operators in the data processing pipeline can significantly accelerate your work."
   ]
  },
  {
   "cell_type": "markdown",
   "id": "f7ac0f05",
   "metadata": {},
   "source": [
    "## Preparation \n",
    "\n",
    "Before getting started, we need to install the dependencies and download the test data.\n",
    "\n",
    "### Install dependencies\n",
    "\n",
    "First we need to install dependencies such as towhee, pandas."
   ]
  },
  {
   "cell_type": "code",
   "execution_count": 1,
   "id": "97b26871",
   "metadata": {},
   "outputs": [],
   "source": [
    "! python -m pip install -q towhee pandas"
   ]
  },
  {
   "cell_type": "markdown",
   "id": "da4aa66e",
   "metadata": {},
   "source": [
    "### Data Preparation\n",
    "\n",
    "We need to download the dataset for testing, such as the four images and two files(test.csv and test.json)."
   ]
  },
  {
   "cell_type": "code",
   "execution_count": 2,
   "id": "11153c8e",
   "metadata": {},
   "outputs": [
    {
     "name": "stdout",
     "output_type": "stream",
     "text": [
      "  % Total    % Received % Xferd  Average Speed   Time    Time     Time  Current\n",
      "                                 Dload  Upload   Total   Spent    Left  Speed\n",
      "  0     0    0     0    0     0      0      0 --:--:--  0:00:01 --:--:--     0\n",
      "100  904k  100  904k    0     0   235k      0  0:00:03  0:00:03 --:--:--  406k\n"
     ]
    }
   ],
   "source": [
    "! curl -L https://github.com/towhee-io/examples/releases/download/data/dc_test_data.zip -O\n",
    "! unzip -q -o dc_test_data.zip"
   ]
  },
  {
   "cell_type": "markdown",
   "id": "6fc95353",
   "metadata": {},
   "source": [
    "## Create a DataCollection\n",
    "\n",
    "DataCollection is an enhancement to the built-in list in Python. Creating a DataCollection from a list is as simple as:"
   ]
  },
  {
   "cell_type": "code",
   "execution_count": 3,
   "id": "3086d1c1",
   "metadata": {},
   "outputs": [
    {
     "name": "stdout",
     "output_type": "stream",
     "text": [
      "[0, 1, 2, 3] 1 [1, 2, 3]\n"
     ]
    }
   ],
   "source": [
    "import towhee\n",
    "\n",
    "dc = towhee.dc([0, 1, 2, 3])\n",
    "print(dc, dc[1], dc[1:])"
   ]
  },
  {
   "cell_type": "markdown",
   "id": "ade196f2",
   "metadata": {},
   "source": [
    "The behavior of DataCollection is designed to be mimic list, making it easy to understand for most Python users and compatible with most of the popular data science toolkits. \n",
    "\n",
    "And it also support to set attribute for the element the list, for example `dc1` is a list of Entity(the basic data type in DataCollection) and each element has `num` attribute and we can call it with `dc_entity1[i].num`. "
   ]
  },
  {
   "cell_type": "code",
   "execution_count": 4,
   "id": "2fe48c22",
   "metadata": {},
   "outputs": [
    {
     "name": "stdout",
     "output_type": "stream",
     "text": [
      "dc_entity1: [<Entity dict_keys(['num'])>, <Entity dict_keys(['num'])>, <Entity dict_keys(['num'])>] 0 1\n"
     ]
    }
   ],
   "source": [
    "dc_entity1 = towhee.dc[\"num\"]([0, 1, 2])\n",
    "print('dc_entity1:', dc_entity1, dc_entity1[0].num, dc_entity1[1].num)"
   ]
  },
  {
   "cell_type": "markdown",
   "id": "0f6abfbc",
   "metadata": {},
   "source": [
    "And it also support multi-attributes such as `dc_entity2`."
   ]
  },
  {
   "cell_type": "code",
   "execution_count": 5,
   "id": "8823825b",
   "metadata": {},
   "outputs": [
    {
     "name": "stdout",
     "output_type": "stream",
     "text": [
      "dc_entity2: [<Entity dict_...num', 'val'])>, <Entity dict_...num', 'val'])>, <Entity dict_...num', 'val'])>] 1 one\n"
     ]
    }
   ],
   "source": [
    "dc_entity2 = towhee.dc[\"num\", \"val\"]([[1,\"one\"],[2,\"two\"], [3,\"three\"]])\n",
    "print('dc_entity2:', dc_entity2, dc_entity2[0].num, dc_entity2[0].val)"
   ]
  },
  {
   "cell_type": "markdown",
   "id": "938c89ec",
   "metadata": {},
   "source": [
    "### Show the data\n",
    "\n",
    "We can take a quick look at the data by `head()`:"
   ]
  },
  {
   "cell_type": "code",
   "execution_count": 6,
   "id": "a7dcb187",
   "metadata": {},
   "outputs": [
    {
     "data": {
      "text/plain": [
       "[<Entity dict_keys(['num'])>, <Entity dict_keys(['num'])>, <Entity dict_keys(['num'])>]"
      ]
     },
     "execution_count": 6,
     "metadata": {},
     "output_type": "execute_result"
    }
   ],
   "source": [
    "dc_entity1.head(3)"
   ]
  },
  {
   "cell_type": "markdown",
   "id": "a6f48d14",
   "metadata": {},
   "source": [
    "And when we running within a jupyter notebook, `show()` is recommended as it provides a better interface:"
   ]
  },
  {
   "cell_type": "code",
   "execution_count": 7,
   "id": "b1c40f1d",
   "metadata": {},
   "outputs": [
    {
     "data": {
      "text/html": [
       "<table style=\"border-collapse: collapse;\"><tr><th style=\"text-align: center; font-size: 130%; border: none;\">num</th> <th style=\"text-align: center; font-size: 130%; border: none;\">val</th></tr> <tr><td style=\"text-align: center; vertical-align: center; border-right: solid 1px #D3D3D3; border-left: solid 1px #D3D3D3; \">1</td> <td style=\"text-align: center; vertical-align: center; border-right: solid 1px #D3D3D3; border-left: solid 1px #D3D3D3; \">one</td></tr> <tr><td style=\"text-align: center; vertical-align: center; border-right: solid 1px #D3D3D3; border-left: solid 1px #D3D3D3; \">2</td> <td style=\"text-align: center; vertical-align: center; border-right: solid 1px #D3D3D3; border-left: solid 1px #D3D3D3; \">two</td></tr></table>"
      ],
      "text/plain": [
       "<IPython.core.display.HTML object>"
      ]
     },
     "metadata": {},
     "output_type": "display_data"
    }
   ],
   "source": [
    "dc_entity2.show(2)"
   ]
  },
  {
   "cell_type": "markdown",
   "id": "0990f966",
   "metadata": {},
   "source": [
    "## Processing data\n",
    "\n",
    "Then we can apply a function to the elements in a DataCollection can be done with a simple `map()` call:"
   ]
  },
  {
   "cell_type": "code",
   "execution_count": 8,
   "id": "8d620448",
   "metadata": {},
   "outputs": [
    {
     "data": {
      "text/plain": [
       "[0, 2, 4, 6, 8]"
      ]
     },
     "execution_count": 8,
     "metadata": {},
     "output_type": "execute_result"
    }
   ],
   "source": [
    "towhee.dc([0, 1, 2, 3, 4]).map(lambda x: x*2)"
   ]
  },
  {
   "cell_type": "markdown",
   "id": "8095c68c",
   "metadata": {},
   "source": [
    "Filtering the data in a DataCollection with `filter`:"
   ]
  },
  {
   "cell_type": "code",
   "execution_count": 9,
   "id": "c1e79445",
   "metadata": {},
   "outputs": [
    {
     "data": {
      "text/plain": [
       "[0, 2, 4]"
      ]
     },
     "execution_count": 9,
     "metadata": {},
     "output_type": "execute_result"
    }
   ],
   "source": [
    "towhee.dc([0, 1, 2, 3, 4]).filter(lambda x: int(x%2)==0)"
   ]
  },
  {
   "cell_type": "markdown",
   "id": "34592d0f",
   "metadata": {},
   "source": [
    "### Towhee DC vs Python Functional\n",
    "\n",
    "`DataCollection` supports method-chaining style programming, making the code clean and fluent. For example, when we run the following code with python for-loop to get the restults:"
   ]
  },
  {
   "cell_type": "code",
   "execution_count": 10,
   "id": "38aeb28a",
   "metadata": {},
   "outputs": [
    {
     "data": {
      "text/plain": [
       "[4, 8]"
      ]
     },
     "execution_count": 10,
     "metadata": {},
     "output_type": "execute_result"
    }
   ],
   "source": [
    "result = []\n",
    "for x in [0, 1, 2, 3, 4]:\n",
    "    if x%2 == 1:\n",
    "        x = x+1\n",
    "        x = x*2\n",
    "        result.append(x)\n",
    "result"
   ]
  },
  {
   "cell_type": "markdown",
   "id": "4331f4a7",
   "metadata": {},
   "source": [
    "Actually we can run it with `filter` and `map` in DataCollection."
   ]
  },
  {
   "cell_type": "code",
   "execution_count": 11,
   "id": "c49c7a68",
   "metadata": {},
   "outputs": [
    {
     "data": {
      "text/plain": [
       "[4, 8]"
      ]
     },
     "execution_count": 11,
     "metadata": {},
     "output_type": "execute_result"
    }
   ],
   "source": [
    "(\n",
    "  towhee.dc([0, 1, 2, 3, 4])\n",
    "          .filter(lambda x: x%2==1)\n",
    "          .map(lambda x: x+1)\n",
    "          .map(lambda x: x*2)\n",
    ")"
   ]
  },
  {
   "cell_type": "markdown",
   "id": "2124069f",
   "metadata": {},
   "source": [
    "So we can see that `DataCollection` makes the code easier and friendlier to use."
   ]
  },
  {
   "cell_type": "markdown",
   "id": "cca628b3",
   "metadata": {},
   "source": [
    "### Streaming DataCollection\n",
    "\n",
    "For large-scale datasets, using a list is too memory-intensive due to having to load the entire dataset into memory. Because of this, users often opt for stream processing with Python generators. These generators allow you to act on values as they come in, instead of having to wait for all the previous values to finish first before moving to the next step.\n",
    "\n",
    "Towhee provides a similar streaming mechanism within DataCollection.\n",
    "\n",
    "- **Creating a Streamed DataCollection**\n",
    "\n",
    "A streamed DataCollection is created from a generator:"
   ]
  },
  {
   "cell_type": "code",
   "execution_count": 12,
   "id": "4aad9dcc",
   "metadata": {},
   "outputs": [
    {
     "data": {
      "text/plain": [
       "<list_iterator object at 0x7f8038b3bbe0>"
      ]
     },
     "execution_count": 12,
     "metadata": {},
     "output_type": "execute_result"
    }
   ],
   "source": [
    "dc = towhee.dc(iter([0, 1, 2, 3]))\n",
    "dc "
   ]
  },
  {
   "cell_type": "markdown",
   "id": "ea4a2c4e",
   "metadata": {},
   "source": [
    "We can also convert an unstreamed DataCollection into a streamed one:"
   ]
  },
  {
   "cell_type": "code",
   "execution_count": 13,
   "id": "e941a56a",
   "metadata": {},
   "outputs": [
    {
     "data": {
      "text/plain": [
       "<list_iterator object at 0x7f8038b514c0>"
      ]
     },
     "execution_count": 13,
     "metadata": {},
     "output_type": "execute_result"
    }
   ],
   "source": [
    "dc = towhee.dc([0, 1, 2, 3])\n",
    "dc.stream() "
   ]
  },
  {
   "cell_type": "markdown",
   "id": "ba116e5b",
   "metadata": {},
   "source": [
    "- **Streaming vs Unstreaming**\n",
    "\n",
    "Streamed DataCollection’s are designed to behave in the same way as the unstreamed ones. One important details is that the computation will not run until we begin consuming items from the DataCollection."
   ]
  },
  {
   "cell_type": "code",
   "execution_count": 14,
   "id": "f4020f83",
   "metadata": {},
   "outputs": [
    {
     "name": "stdout",
     "output_type": "stream",
     "text": [
      "steamed dc: <map object at 0x7f8038b60280>\n"
     ]
    }
   ],
   "source": [
    "def debug_print(x):\n",
    "    print(f'debug print: {x}')\n",
    "    return x\n",
    "\n",
    "# streamed\n",
    "dc_streamed = ( \n",
    "  towhee.dc(iter([0, 1, 2, 3, 4]))\n",
    "          .map(debug_print)\n",
    "          .filter(lambda x: x%2==1)\n",
    "          .map(lambda x: x+1)\n",
    "          .map(lambda x: x*2)\n",
    ")\n",
    "print('steamed dc:', dc_streamed)"
   ]
  },
  {
   "cell_type": "code",
   "execution_count": 15,
   "id": "383c742b",
   "metadata": {},
   "outputs": [
    {
     "name": "stdout",
     "output_type": "stream",
     "text": [
      "debug print: 0\n",
      "debug print: 1\n",
      "debug print: 2\n",
      "debug print: 3\n",
      "debug print: 4\n",
      "unsteamed dc: [4, 8]\n"
     ]
    }
   ],
   "source": [
    "# unstreamd\n",
    "dc_unstreamed = (\n",
    "  \ttowhee.dc([0, 1, 2, 3, 4])\n",
    "          .map(debug_print)\n",
    "          .filter(lambda x: x%2==1)\n",
    "          .map(lambda x: x+1)\n",
    "          .map(lambda x: x*2)\n",
    ")\n",
    "print('unsteamed dc:', dc_unstreamed)"
   ]
  },
  {
   "cell_type": "markdown",
   "id": "7c1a905b",
   "metadata": {},
   "source": [
    "In the example of the streamed DataCollection, `debug_print()` is not executed until we start to access the items in the DataCollection. But for unstreamed DataCollection, it is executed immediately. And we can add `to_list()` to get the results."
   ]
  },
  {
   "cell_type": "code",
   "execution_count": 16,
   "id": "f0bc4cc0",
   "metadata": {},
   "outputs": [
    {
     "name": "stdout",
     "output_type": "stream",
     "text": [
      "debug print: 0\n",
      "debug print: 1\n",
      "debug print: 2\n",
      "debug print: 3\n",
      "debug print: 4\n",
      "running steamed dc: [4, 8]\n"
     ]
    }
   ],
   "source": [
    "print('running steamed dc:', dc_streamed.to_list())"
   ]
  },
  {
   "cell_type": "markdown",
   "id": "c3bf17bd",
   "metadata": {},
   "source": [
    "## Towhee Operator\n",
    "\n",
    "Operators are the basic units of computation that can be applied to the elements within a DataCollection. There are many predefined Operators on the [Towhee hub](https://towhee.io/operators?limit=30&page=1), including popular deep learning models ranging from computer vision to natural language processing.\n",
    "\n",
    "We can load an Operator from the Towhee hub with the following:"
   ]
  },
  {
   "cell_type": "code",
   "execution_count": 17,
   "id": "8e38fcd1",
   "metadata": {},
   "outputs": [],
   "source": [
    "from towhee import ops\n",
    "op = ops.towhee.image_decode()\n",
    "img = op('1.jpg')"
   ]
  },
  {
   "cell_type": "markdown",
   "id": "bceb379c",
   "metadata": {},
   "source": [
    "Where `towhee` is the namespace of the operator, and `image_decode` is the operator name. An operator is usually referred to with its full name: `namespace/name`.\n",
    "\n",
    "`towhee` is the namespace for official operators, and also is the default namespace if not specified:"
   ]
  },
  {
   "cell_type": "code",
   "execution_count": 18,
   "id": "00b890e5",
   "metadata": {},
   "outputs": [],
   "source": [
    "from towhee import ops\n",
    "op = ops.image_decode()\n",
    "img = op('1.jpg')"
   ]
  },
  {
   "cell_type": "markdown",
   "id": "121a949c",
   "metadata": {},
   "source": [
    "### Custom Operator\n",
    "\n",
    "It is also easy to define custom operators with standard Python functions with `towhee.register`:"
   ]
  },
  {
   "cell_type": "code",
   "execution_count": 19,
   "id": "fab1f328",
   "metadata": {},
   "outputs": [
    {
     "data": {
      "text/plain": [
       "3"
      ]
     },
     "execution_count": 19,
     "metadata": {},
     "output_type": "execute_result"
    }
   ],
   "source": [
    "from towhee import register\n",
    "\n",
    "@register\n",
    "def add_1(x):\n",
    "    return x+1\n",
    "\n",
    "ops.add_1()(2)"
   ]
  },
  {
   "cell_type": "markdown",
   "id": "8e699c40",
   "metadata": {},
   "source": [
    "If the operator needs additional initializations arguments, it can be defined as a class:"
   ]
  },
  {
   "cell_type": "code",
   "execution_count": 20,
   "id": "4e9c4179",
   "metadata": {},
   "outputs": [
    {
     "data": {
      "text/plain": [
       "3"
      ]
     },
     "execution_count": 20,
     "metadata": {},
     "output_type": "execute_result"
    }
   ],
   "source": [
    "@register\n",
    "class add_x:\n",
    "    def __init__(self, x):\n",
    "        self._x = x\n",
    "    def __call__(self, y):\n",
    "        return self._x + y\n",
    "\n",
    "ops.add_x(x=1)(2)"
   ]
  },
  {
   "cell_type": "markdown",
   "id": "2ffc3114",
   "metadata": {},
   "source": [
    "### Run Operator with DataCollection\n",
    "\n",
    "When an operator is uploaded to the Towhee hub or registered with @register, we can call the operato directly on a DataCollection:"
   ]
  },
  {
   "cell_type": "code",
   "execution_count": 21,
   "id": "268722a5",
   "metadata": {},
   "outputs": [
    {
     "data": {
      "text/plain": [
       "[1, 2, 3, 4, 5]"
      ]
     },
     "execution_count": 21,
     "metadata": {},
     "output_type": "execute_result"
    }
   ],
   "source": [
    "(\n",
    "    towhee.dc([0, 1, 2, 3, 4])\n",
    "        .add_1()\n",
    ")"
   ]
  },
  {
   "cell_type": "markdown",
   "id": "090753e4",
   "metadata": {},
   "source": [
    "`add_1()` is an operator that was registered before to towhee using a decorator. We can invoke the operator by calling it as a method of DataCollection. DataCollection will dispatch missing function calls to the registered operators.\n",
    "\n",
    "Such call dispatching makes the code easy to read. Here is code comparison of using call dispatch:\n",
    "\n",
    "- **Without DataCollection**\n",
    "\n",
    "There is a pipeline to generate feature vectors for images and normalize them. First use `image_decode` to decode the image, then the `image_embedding.timm` will extract the feature vector of the image, and finally use `tensor_normalize` to normalize the vector.\n",
    "\n",
    "If we use `towhee.ops` instead of `DataCollection`, the code is as follows:"
   ]
  },
  {
   "cell_type": "code",
   "execution_count": 22,
   "id": "cb5b3f92",
   "metadata": {},
   "outputs": [
    {
     "data": {
      "text/plain": [
       "[array([0.04535134, 0.00611974, 0.00382318, ..., 0.00779939, 0.02638897,\n",
       "        0.00154858], dtype=float32),\n",
       " array([0.02943578, 0.00567474, 0.00389567, ..., 0.00322705, 0.00764361,\n",
       "        0.00101306], dtype=float32),\n",
       " array([0.01957634, 0.0085675 , 0.00184529, ..., 0.02507639, 0.0061798 ,\n",
       "        0.        ], dtype=float32)]"
      ]
     },
     "execution_count": 22,
     "metadata": {},
     "output_type": "execute_result"
    }
   ],
   "source": [
    "image_decode = ops.image_decode()\n",
    "image_embedding = ops.image_embedding.timm(model_name='resnet50')\n",
    "tensor_normalize = ops.tensor_normalize()\n",
    "\n",
    "result = []\n",
    "for path in ['1.jpg', '2.jpg', '3.jpg']:\n",
    "    img = image_decode(path)\n",
    "    embedding = image_embedding(img)\n",
    "    vec = tensor_normalize(embedding)\n",
    "    result.append(vec)\n",
    "\n",
    "result"
   ]
  },
  {
   "cell_type": "markdown",
   "id": "fb344795",
   "metadata": {},
   "source": [
    "- **Not using call dispatch**\n",
    "\n",
    "If we use `DataCollection` with `map` but not using call dispath, the code is as follows:"
   ]
  },
  {
   "cell_type": "code",
   "execution_count": 23,
   "id": "4231ff99",
   "metadata": {},
   "outputs": [
    {
     "data": {
      "text/plain": [
       "[array([0.0453...dtype=float32), array([0.0294...dtype=float32), array([0.0195...dtype=float32)]"
      ]
     },
     "execution_count": 23,
     "metadata": {},
     "output_type": "execute_result"
    }
   ],
   "source": [
    "towhee.dc(['1.jpg', '2.jpg', '3.jpg']) \\\n",
    "    .map(ops.image_decode()) \\\n",
    "    .map(ops.image_embedding.timm(model_name='resnet50')) \\\n",
    "    .map(ops.tensor_normalize())"
   ]
  },
  {
   "cell_type": "markdown",
   "id": "984a2954",
   "metadata": {},
   "source": [
    "- **Using call dispatch**\n",
    "\n",
    "And if we use call dispatch with `DataCollection`, the code will be easier to read:"
   ]
  },
  {
   "cell_type": "code",
   "execution_count": 24,
   "id": "83bb3117",
   "metadata": {},
   "outputs": [
    {
     "data": {
      "text/plain": [
       "[array([0.0453...dtype=float32), array([0.0294...dtype=float32), array([0.0195...dtype=float32)]"
      ]
     },
     "execution_count": 24,
     "metadata": {},
     "output_type": "execute_result"
    }
   ],
   "source": [
    "towhee.dc(['1.jpg', '2.jpg', '3.jpg']) \\\n",
    "    .image_decode() \\\n",
    "    .image_embedding.timm(model_name='resnet50') \\\n",
    "    .tensor_normalize()"
   ]
  },
  {
   "cell_type": "markdown",
   "id": "0ffae8b2",
   "metadata": {},
   "source": [
    "It is more recommended to use call dispatch in `Data Collection` to run pipeline, and we will use this method for processing data in many Bootcamp."
   ]
  },
  {
   "cell_type": "markdown",
   "id": "56e88bc3",
   "metadata": {},
   "source": [
    "## Tabular Data\n",
    "\n",
    "In this section we will introduce how to handle structured data with DataCollection. The term tabular refers to structured data that is organized into columns and rows, a widely used format by data scientists and supported by most machine learning toolkits.\n",
    "\n",
    "### Creating a DataCollection with a Schema\n",
    "\n",
    "We can directly read data from json files:"
   ]
  },
  {
   "cell_type": "code",
   "execution_count": 25,
   "id": "364247ab",
   "metadata": {},
   "outputs": [
    {
     "data": {
      "text/html": [
       "<table style=\"border-collapse: collapse;\"><tr><th style=\"text-align: center; font-size: 130%; border: none;\">0</th> <th style=\"text-align: center; font-size: 130%; border: none;\">1</th> <th style=\"text-align: center; font-size: 130%; border: none;\">2</th></tr> <tr><td style=\"text-align: center; vertical-align: center; border-right: solid 1px #D3D3D3; border-left: solid 1px #D3D3D3; \">{'label': 'cat', 'score': 0.8}</td> <td style=\"text-align: center; vertical-align: center; border-right: solid 1px #D3D3D3; border-left: solid 1px #D3D3D3; \">{'label': 'dog', 'score': 0.4}</td> <td style=\"text-align: center; vertical-align: center; border-right: solid 1px #D3D3D3; border-left: solid 1px #D3D3D3; \">{'label': 'tiger', 'score': 0.9}</td></tr></table>"
      ],
      "text/plain": [
       "<IPython.core.display.HTML object>"
      ]
     },
     "metadata": {},
     "output_type": "display_data"
    }
   ],
   "source": [
    "dc_json = towhee.read_json('test.json')\n",
    "dc_json.show()"
   ]
  },
  {
   "cell_type": "markdown",
   "id": "1ebf1851",
   "metadata": {},
   "source": [
    "And we can read csv file and process it with `runas_op` to add the `new_id` attribute:"
   ]
  },
  {
   "cell_type": "code",
   "execution_count": 26,
   "id": "72819aa0",
   "metadata": {},
   "outputs": [
    {
     "data": {
      "text/html": [
       "<table style=\"border-collapse: collapse;\"><tr><th style=\"text-align: center; font-size: 130%; border: none;\">id</th> <th style=\"text-align: center; font-size: 130%; border: none;\"> label</th> <th style=\"text-align: center; font-size: 130%; border: none;\"> score</th> <th style=\"text-align: center; font-size: 130%; border: none;\">new_id</th></tr> <tr><td style=\"text-align: center; vertical-align: center; border-right: solid 1px #D3D3D3; border-left: solid 1px #D3D3D3; \">0</td> <td style=\"text-align: center; vertical-align: center; border-right: solid 1px #D3D3D3; border-left: solid 1px #D3D3D3; \"> cat</td> <td style=\"text-align: center; vertical-align: center; border-right: solid 1px #D3D3D3; border-left: solid 1px #D3D3D3; \"> 0.8</td> <td style=\"text-align: center; vertical-align: center; border-right: solid 1px #D3D3D3; border-left: solid 1px #D3D3D3; \">new_0</td></tr> <tr><td style=\"text-align: center; vertical-align: center; border-right: solid 1px #D3D3D3; border-left: solid 1px #D3D3D3; \">1</td> <td style=\"text-align: center; vertical-align: center; border-right: solid 1px #D3D3D3; border-left: solid 1px #D3D3D3; \"> dog</td> <td style=\"text-align: center; vertical-align: center; border-right: solid 1px #D3D3D3; border-left: solid 1px #D3D3D3; \"> 0.4</td> <td style=\"text-align: center; vertical-align: center; border-right: solid 1px #D3D3D3; border-left: solid 1px #D3D3D3; \">new_1</td></tr> <tr><td style=\"text-align: center; vertical-align: center; border-right: solid 1px #D3D3D3; border-left: solid 1px #D3D3D3; \">2</td> <td style=\"text-align: center; vertical-align: center; border-right: solid 1px #D3D3D3; border-left: solid 1px #D3D3D3; \"> tiger</td> <td style=\"text-align: center; vertical-align: center; border-right: solid 1px #D3D3D3; border-left: solid 1px #D3D3D3; \"> 0.9</td> <td style=\"text-align: center; vertical-align: center; border-right: solid 1px #D3D3D3; border-left: solid 1px #D3D3D3; \">new_2</td></tr></table>"
      ],
      "text/plain": [
       "<IPython.core.display.HTML object>"
      ]
     },
     "metadata": {},
     "output_type": "display_data"
    }
   ],
   "source": [
    "towhee.read_csv('test.csv') \\\n",
    "    .runas_op['id', 'new_id'](func=lambda x: 'new_'+x) \\\n",
    "    .show()"
   ]
  },
  {
   "cell_type": "markdown",
   "id": "c1802f4a",
   "metadata": {},
   "source": [
    "We can also load data from a pandas DataFrame:"
   ]
  },
  {
   "cell_type": "code",
   "execution_count": 27,
   "id": "d1d0c4a2",
   "metadata": {},
   "outputs": [
    {
     "data": {
      "text/plain": [
       "   id   label   score\n",
       "0   0     cat     0.8\n",
       "1   1     dog     0.4\n",
       "2   2   tiger     0.9"
      ]
     },
     "execution_count": 27,
     "metadata": {},
     "output_type": "execute_result"
    }
   ],
   "source": [
    "import pandas as pd\n",
    "\n",
    "df = pd.read_csv('test.csv')\n",
    "dc_df = towhee.from_df(df)\n",
    "dc_df"
   ]
  },
  {
   "cell_type": "markdown",
   "id": "10c7efcb",
   "metadata": {},
   "source": [
    "And convert a list of dicts into a DataCollection:"
   ]
  },
  {
   "cell_type": "code",
   "execution_count": 28,
   "id": "de1ee821",
   "metadata": {},
   "outputs": [
    {
     "data": {
      "text/html": [
       "<table style=\"border-collapse: collapse;\"><tr><th style=\"text-align: center; font-size: 130%; border: none;\">a</th> <th style=\"text-align: center; font-size: 130%; border: none;\">b</th></tr> <tr><td style=\"text-align: center; vertical-align: center; border-right: solid 1px #D3D3D3; border-left: solid 1px #D3D3D3; \">0</td> <td style=\"text-align: center; vertical-align: center; border-right: solid 1px #D3D3D3; border-left: solid 1px #D3D3D3; \">0</td></tr> <tr><td style=\"text-align: center; vertical-align: center; border-right: solid 1px #D3D3D3; border-left: solid 1px #D3D3D3; \">1</td> <td style=\"text-align: center; vertical-align: center; border-right: solid 1px #D3D3D3; border-left: solid 1px #D3D3D3; \">2</td></tr> <tr><td style=\"text-align: center; vertical-align: center; border-right: solid 1px #D3D3D3; border-left: solid 1px #D3D3D3; \">2</td> <td style=\"text-align: center; vertical-align: center; border-right: solid 1px #D3D3D3; border-left: solid 1px #D3D3D3; \">4</td></tr> <tr><td style=\"text-align: center; vertical-align: center; border-right: solid 1px #D3D3D3; border-left: solid 1px #D3D3D3; \">3</td> <td style=\"text-align: center; vertical-align: center; border-right: solid 1px #D3D3D3; border-left: solid 1px #D3D3D3; \">6</td></tr> <tr><td style=\"text-align: center; vertical-align: center; border-right: solid 1px #D3D3D3; border-left: solid 1px #D3D3D3; \">4</td> <td style=\"text-align: center; vertical-align: center; border-right: solid 1px #D3D3D3; border-left: solid 1px #D3D3D3; \">8</td></tr></table>"
      ],
      "text/plain": [
       "<IPython.core.display.HTML object>"
      ]
     },
     "metadata": {},
     "output_type": "display_data"
    }
   ],
   "source": [
    "dc_entity = towhee.DataFrame([{'a': i, 'b': i*2} for i in range(5)]).as_entity()\n",
    "dc_entity.show()"
   ]
  },
  {
   "cell_type": "markdown",
   "id": "9afac0d2",
   "metadata": {},
   "source": [
    "We call each row of the table an Entity. Both a and b are fields within the entity.\n",
    "\n",
    "### Apply Functions/Operators according to schema\n",
    "We can apply an operator according to the fields of the entities:"
   ]
  },
  {
   "cell_type": "code",
   "execution_count": 29,
   "id": "83ce219c",
   "metadata": {},
   "outputs": [
    {
     "data": {
      "text/html": [
       "<table style=\"border-collapse: collapse;\"><tr><th style=\"text-align: center; font-size: 130%; border: none;\">a</th> <th style=\"text-align: center; font-size: 130%; border: none;\">b</th> <th style=\"text-align: center; font-size: 130%; border: none;\">c</th></tr> <tr><td style=\"text-align: center; vertical-align: center; border-right: solid 1px #D3D3D3; border-left: solid 1px #D3D3D3; \">0</td> <td style=\"text-align: center; vertical-align: center; border-right: solid 1px #D3D3D3; border-left: solid 1px #D3D3D3; \">0</td> <td style=\"text-align: center; vertical-align: center; border-right: solid 1px #D3D3D3; border-left: solid 1px #D3D3D3; \">1</td></tr> <tr><td style=\"text-align: center; vertical-align: center; border-right: solid 1px #D3D3D3; border-left: solid 1px #D3D3D3; \">1</td> <td style=\"text-align: center; vertical-align: center; border-right: solid 1px #D3D3D3; border-left: solid 1px #D3D3D3; \">2</td> <td style=\"text-align: center; vertical-align: center; border-right: solid 1px #D3D3D3; border-left: solid 1px #D3D3D3; \">2</td></tr> <tr><td style=\"text-align: center; vertical-align: center; border-right: solid 1px #D3D3D3; border-left: solid 1px #D3D3D3; \">2</td> <td style=\"text-align: center; vertical-align: center; border-right: solid 1px #D3D3D3; border-left: solid 1px #D3D3D3; \">4</td> <td style=\"text-align: center; vertical-align: center; border-right: solid 1px #D3D3D3; border-left: solid 1px #D3D3D3; \">3</td></tr> <tr><td style=\"text-align: center; vertical-align: center; border-right: solid 1px #D3D3D3; border-left: solid 1px #D3D3D3; \">3</td> <td style=\"text-align: center; vertical-align: center; border-right: solid 1px #D3D3D3; border-left: solid 1px #D3D3D3; \">6</td> <td style=\"text-align: center; vertical-align: center; border-right: solid 1px #D3D3D3; border-left: solid 1px #D3D3D3; \">4</td></tr> <tr><td style=\"text-align: center; vertical-align: center; border-right: solid 1px #D3D3D3; border-left: solid 1px #D3D3D3; \">4</td> <td style=\"text-align: center; vertical-align: center; border-right: solid 1px #D3D3D3; border-left: solid 1px #D3D3D3; \">8</td> <td style=\"text-align: center; vertical-align: center; border-right: solid 1px #D3D3D3; border-left: solid 1px #D3D3D3; \">5</td></tr></table>"
      ],
      "text/plain": [
       "<IPython.core.display.HTML object>"
      ]
     },
     "metadata": {},
     "output_type": "display_data"
    }
   ],
   "source": [
    "dc_entity.add_1['a', 'c']().show()"
   ]
  },
  {
   "cell_type": "markdown",
   "id": "ff2d42bd",
   "metadata": {},
   "source": [
    "`['a', 'c']` is the syntax for specifying operator input and output, field a is used as input, and field c is used as output. We can also apply a lambda function to tabular data with runas_op:"
   ]
  },
  {
   "cell_type": "code",
   "execution_count": 30,
   "id": "83552982",
   "metadata": {},
   "outputs": [
    {
     "data": {
      "text/html": [
       "<table style=\"border-collapse: collapse;\"><tr><th style=\"text-align: center; font-size: 130%; border: none;\">a</th> <th style=\"text-align: center; font-size: 130%; border: none;\">b</th> <th style=\"text-align: center; font-size: 130%; border: none;\">c</th> <th style=\"text-align: center; font-size: 130%; border: none;\">d</th></tr> <tr><td style=\"text-align: center; vertical-align: center; border-right: solid 1px #D3D3D3; border-left: solid 1px #D3D3D3; \">0</td> <td style=\"text-align: center; vertical-align: center; border-right: solid 1px #D3D3D3; border-left: solid 1px #D3D3D3; \">0</td> <td style=\"text-align: center; vertical-align: center; border-right: solid 1px #D3D3D3; border-left: solid 1px #D3D3D3; \">1</td> <td style=\"text-align: center; vertical-align: center; border-right: solid 1px #D3D3D3; border-left: solid 1px #D3D3D3; \">0</td></tr> <tr><td style=\"text-align: center; vertical-align: center; border-right: solid 1px #D3D3D3; border-left: solid 1px #D3D3D3; \">1</td> <td style=\"text-align: center; vertical-align: center; border-right: solid 1px #D3D3D3; border-left: solid 1px #D3D3D3; \">2</td> <td style=\"text-align: center; vertical-align: center; border-right: solid 1px #D3D3D3; border-left: solid 1px #D3D3D3; \">2</td> <td style=\"text-align: center; vertical-align: center; border-right: solid 1px #D3D3D3; border-left: solid 1px #D3D3D3; \">4</td></tr> <tr><td style=\"text-align: center; vertical-align: center; border-right: solid 1px #D3D3D3; border-left: solid 1px #D3D3D3; \">2</td> <td style=\"text-align: center; vertical-align: center; border-right: solid 1px #D3D3D3; border-left: solid 1px #D3D3D3; \">4</td> <td style=\"text-align: center; vertical-align: center; border-right: solid 1px #D3D3D3; border-left: solid 1px #D3D3D3; \">3</td> <td style=\"text-align: center; vertical-align: center; border-right: solid 1px #D3D3D3; border-left: solid 1px #D3D3D3; \">8</td></tr> <tr><td style=\"text-align: center; vertical-align: center; border-right: solid 1px #D3D3D3; border-left: solid 1px #D3D3D3; \">3</td> <td style=\"text-align: center; vertical-align: center; border-right: solid 1px #D3D3D3; border-left: solid 1px #D3D3D3; \">6</td> <td style=\"text-align: center; vertical-align: center; border-right: solid 1px #D3D3D3; border-left: solid 1px #D3D3D3; \">4</td> <td style=\"text-align: center; vertical-align: center; border-right: solid 1px #D3D3D3; border-left: solid 1px #D3D3D3; \">12</td></tr> <tr><td style=\"text-align: center; vertical-align: center; border-right: solid 1px #D3D3D3; border-left: solid 1px #D3D3D3; \">4</td> <td style=\"text-align: center; vertical-align: center; border-right: solid 1px #D3D3D3; border-left: solid 1px #D3D3D3; \">8</td> <td style=\"text-align: center; vertical-align: center; border-right: solid 1px #D3D3D3; border-left: solid 1px #D3D3D3; \">5</td> <td style=\"text-align: center; vertical-align: center; border-right: solid 1px #D3D3D3; border-left: solid 1px #D3D3D3; \">16</td></tr></table>"
      ],
      "text/plain": [
       "<IPython.core.display.HTML object>"
      ]
     },
     "metadata": {},
     "output_type": "display_data"
    }
   ],
   "source": [
    "dc_entity.runas_op['b', 'd'](func=lambda x: x*2).show()"
   ]
  },
  {
   "cell_type": "markdown",
   "id": "26f7734e",
   "metadata": {},
   "source": [
    "## Advanced Features\n",
    "\n",
    "DataCollection also support advanced features such as parallel execution and exception execution."
   ]
  },
  {
   "cell_type": "markdown",
   "id": "a38dea84",
   "metadata": {},
   "source": [
    "### Parallel execution\n",
    "\n",
    "Dealing with large-scale datasets is usually time-consuming. DataCollection provides a simple API set_parallel(num_worker) to enable parallel execution, and speed up your computation :"
   ]
  },
  {
   "cell_type": "code",
   "execution_count": 31,
   "id": "3a6e2613",
   "metadata": {},
   "outputs": [
    {
     "data": {
      "text/plain": [
       "[array([0.0453...dtype=float32), array([0.0294...dtype=float32), array([0.0195...dtype=float32)]"
      ]
     },
     "execution_count": 31,
     "metadata": {},
     "output_type": "execute_result"
    }
   ],
   "source": [
    "towhee.dc(['1.jpg', '2.jpg', '3.jpg']) \\\n",
    "    .set_parallel(num_worker=3) \\\n",
    "    .image_decode() \\\n",
    "    .image_embedding.timm(model_name='resnet50') \\\n",
    "    .tensor_normalize()"
   ]
  },
  {
   "cell_type": "markdown",
   "id": "8a6b56ec",
   "metadata": {},
   "source": [
    "### Exception-handling\n",
    "\n",
    "Most data scientists have experienced that exception crashes your code when dealing with large-scale datasets, damaged input data, unstable networks, or out of storage. It would be even worse if it crashes after having processed over half of the data, and you have to fix your code and re-run all the data.\n",
    "\n",
    "DataCollection supports exception-safe execution, which can be enabled by a single line of code:"
   ]
  },
  {
   "cell_type": "code",
   "execution_count": 32,
   "id": "59c61cb6",
   "metadata": {},
   "outputs": [
    {
     "name": "stderr",
     "output_type": "stream",
     "text": [
      "2022-06-09 18:05:57,944 - 4564121088 - image_decode_cv2.py-image_decode_cv2:59 - ERROR: Read image broken.jpg failed\n"
     ]
    },
    {
     "data": {
      "text/plain": [
       "[Some([0.04535...7 0.00154858]), Some([0.02943...1 0.00101306]), Some([0.01957...  0.        ]), Empty()]"
      ]
     },
     "execution_count": 32,
     "metadata": {},
     "output_type": "execute_result"
    }
   ],
   "source": [
    "towhee.dc(['1.jpg', '2.jpg', '3.jpg', 'broken.jpg']) \\\n",
    "    .exception_safe() \\\n",
    "    .image_decode() \\\n",
    "    .image_embedding.timm(model_name='resnet50') \\\n",
    "    .tensor_normalize()"
   ]
  },
  {
   "cell_type": "markdown",
   "id": "e4d0e227",
   "metadata": {},
   "source": [
    "When exception_safe is enabled, DataCollection generates empty values on exceptions. The lagging functions/operators will skip the empty values. And you can handle the empty values with an exception receiver at the tail of the chain:"
   ]
  },
  {
   "cell_type": "code",
   "execution_count": 33,
   "id": "1060475b",
   "metadata": {},
   "outputs": [
    {
     "name": "stderr",
     "output_type": "stream",
     "text": [
      "2022-06-09 18:05:59,116 - 4564121088 - image_decode_cv2.py-image_decode_cv2:59 - ERROR: Read image broken.jpg failed\n"
     ]
    },
    {
     "data": {
      "text/plain": [
       "[array([0.0453...dtype=float32), array([0.0294...dtype=float32), array([0.0195...dtype=float32), None]"
      ]
     },
     "execution_count": 33,
     "metadata": {},
     "output_type": "execute_result"
    }
   ],
   "source": [
    "towhee.dc(['1.jpg', '2.jpg', '3.jpg', 'broken.jpg']) \\\n",
    "    .exception_safe() \\\n",
    "    .image_decode() \\\n",
    "    .image_embedding.timm(model_name='resnet50') \\\n",
    "    .tensor_normalize() \\\n",
    "    .fill_empty(None) # or `.drop_empty()`"
   ]
  },
  {
   "cell_type": "markdown",
   "id": "957c0699",
   "metadata": {},
   "source": [
    "There are two builtin exception receivers:\n",
    "\n",
    "fill_empty(default_value) will replace empty values with the default value;\n",
    "drop_empty(callback=None) will drop the empty values and send the empty values to a callback function;\n",
    "Here is an example callback function to receive exceptions from empty values:"
   ]
  },
  {
   "cell_type": "code",
   "execution_count": 34,
   "id": "73a954ea",
   "metadata": {},
   "outputs": [],
   "source": [
    "def log_error(value):\n",
    "    reason = value.get()\n",
    "    error_input = reason.value\n",
    "    exception = reason.exception\n",
    "    print('Error:', exception, 'Value:', error_input)"
   ]
  },
  {
   "cell_type": "code",
   "execution_count": 35,
   "id": "5ed0e371",
   "metadata": {},
   "outputs": [
    {
     "name": "stderr",
     "output_type": "stream",
     "text": [
      "2022-06-09 18:06:00,278 - 4564121088 - image_decode_cv2.py-image_decode_cv2:59 - ERROR: Read image broken.jpg failed\n"
     ]
    },
    {
     "name": "stdout",
     "output_type": "stream",
     "text": [
      "Error: Read image broken.jpg failed Value: broken.jpg\n"
     ]
    },
    {
     "data": {
      "text/plain": [
       "[array([0.0453...dtype=float32), array([0.0294...dtype=float32), array([0.0195...dtype=float32)]"
      ]
     },
     "execution_count": 35,
     "metadata": {},
     "output_type": "execute_result"
    }
   ],
   "source": [
    "towhee.dc(['1.jpg', '2.jpg', '3.jpg', 'broken.jpg']) \\\n",
    "    .exception_safe() \\\n",
    "    .image_decode() \\\n",
    "    .image_embedding.timm(model_name='resnet50') \\\n",
    "    .tensor_normalize() \\\n",
    "    .drop_empty(callback = log_error)"
   ]
  },
  {
   "cell_type": "code",
   "execution_count": null,
   "id": "d043c1cf",
   "metadata": {},
   "outputs": [],
   "source": []
  }
 ],
 "metadata": {
  "kernelspec": {
   "display_name": "Python 3 (ipykernel)",
   "language": "python",
   "name": "python3"
  },
  "language_info": {
   "codemirror_mode": {
    "name": "ipython",
    "version": 3
   },
   "file_extension": ".py",
   "mimetype": "text/x-python",
   "name": "python",
   "nbconvert_exporter": "python",
   "pygments_lexer": "ipython3",
   "version": "3.8.12"
  }
 },
 "nbformat": 4,
 "nbformat_minor": 5
}
