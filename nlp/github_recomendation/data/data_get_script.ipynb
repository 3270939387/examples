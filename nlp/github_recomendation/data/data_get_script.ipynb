{
 "cells": [
  {
   "cell_type": "markdown",
   "id": "32ec4ecc",
   "metadata": {},
   "source": [
    "# Introduction\n",
    "\n",
    "This notebook will help you to download original dataset storing in the `baidu cloud drive` by commands. Considering the variety of operating systems and device, our code only work on **Windows/Linux/MacOS** systems. If you encounter with any troubles like terrible network connection. please refer to the following url:\n",
    "\n",
    "`link`: <a href=\"https://pan.baidu.com/s/1Nk7lNznKyzeds9Wg21glsQ\">https://pan.baidu.com/s/1Nk7lNznKyzeds9Wg21glsQ</a>\n",
    "        \n",
    "`extraction code`:qsuo"
   ]
  },
  {
   "cell_type": "markdown",
   "id": "4820b595",
   "metadata": {},
   "source": [
    "# Windows & Linux & MacOS"
   ]
  },
  {
   "cell_type": "code",
   "execution_count": 2,
   "id": "28986250",
   "metadata": {
    "ExecuteTime": {
     "end_time": "2022-09-06T11:40:29.889870Z",
     "start_time": "2022-09-06T11:40:20.350087Z"
    }
   },
   "outputs": [
    {
     "name": "stderr",
     "output_type": "stream",
     "text": [
      "  % Total    % Received % Xferd  Average Speed   Time    Time     Time  Current\n",
      "                                 Dload  Upload   Total   Spent    Left  Speed\n",
      "\n",
      "  0     0    0     0    0     0      0      0 --:--:-- --:--:-- --:--:--     0\n",
      "100    48    0    48    0     0    102      0 --:--:-- --:--:-- --:--:--   103\n",
      "\n",
      "  2 95.7M    2 2892k    0     0  3104k      0  0:00:31 --:--:--  0:00:31 3104k\n",
      " 11 95.7M   11 10.9M    0     0  5838k      0  0:00:16  0:00:01  0:00:15 8399k\n",
      " 20 95.7M   20 20.0M    0     0  7011k      0  0:00:13  0:00:02  0:00:11 8836k\n",
      " 31 95.7M   31 29.8M    0     0  7800k      0  0:00:12  0:00:03  0:00:09 9260k\n",
      " 42 95.7M   42 40.5M    0     0  8423k      0  0:00:11  0:00:04  0:00:07 9663k\n",
      " 54 95.7M   54 52.6M    0     0  9088k      0  0:00:10  0:00:05  0:00:05  9.9M\n",
      " 67 95.7M   67 64.6M    0     0  9562k      0  0:00:10  0:00:06  0:00:04 10.7M\n",
      " 81 95.7M   81 77.6M    0     0   9.7M      0  0:00:09  0:00:07  0:00:02 11.5M\n",
      " 93 95.7M   93 89.0M    0     0   9.9M      0  0:00:09  0:00:08  0:00:01 11.8M\n",
      "100 95.7M  100 95.7M    0     0  10.0M      0  0:00:09  0:00:09 --:--:-- 12.1M\n"
     ]
    }
   ],
   "source": [
    "!curl -L -C - \"https://d.pcs.baidu.com/file/d0ae8cd3cla1c743ed5f714bb48f9f66?fid=864544264-250528-745098175930552&rt=pr&sign=FDtAERV-DCb740ccc5511e5e8fedcff06b081203-0f%2FqnAoWUgJ4KA4Gc7vk21ZZbwQ%3D&expires=8h&chkbd=0&chkv=3&dp-logid=1011087891205756787&dp-callid=0&dstime=1662463096&r=454184025&origin_appid=&file_type=0\" -o \"data.zip\" -A \"pan.baidu.com\" -b \"BDUSS=FCc3h4c0JXclc0NnpoaVlTSVYxY1hnT2p1Sk5aOVk1ckI2fjBISWJLMzZ0ejVqSVFBQUFBJCQAAAAAAAAAAAEAAACoM9eDvdxzZW7A97qmAAAAAAAAAAAAAAAAAAAAAAAAAAAAAAAAAAAAAAAAAAAAAAAAAAAAAAAAAAAAAAAAAAAAAAAAAPoqF2P6KhdjYk\""
   ]
  },
  {
   "cell_type": "markdown",
   "id": "e4e2084c",
   "metadata": {},
   "source": [
    "# XDown and Linux Shell"
   ]
  },
  {
   "cell_type": "code",
   "execution_count": 3,
   "id": "8b12a67c",
   "metadata": {
    "ExecuteTime": {
     "end_time": "2022-09-06T11:42:56.196610Z",
     "start_time": "2022-09-06T11:42:56.157636Z"
    }
   },
   "outputs": [
    {
     "name": "stderr",
     "output_type": "stream",
     "text": [
      "'aria2c' 不是内部或外部命令，也不是可运行的程序\n",
      "或批处理文件。\n"
     ]
    }
   ],
   "source": [
    "!aria2c \"https://d.pcs.baidu.com/file/d0ae8cd3cla1c743ed5f714bb48f9f66?fid=864544264-250528-745098175930552&rt=pr&sign=FDtAERV-DCb740ccc5511e5e8fedcff06b081203-8%2FlBBptgtrfCFuuUUqL068MrAd8%3D&expires=8h&chkbd=0&chkv=3&dp-logid=1151951623936301262&dp-callid=0&dstime=1662464503&r=886322074&origin_appid=&file_type=0\" --out \"data.zip\" --header \"User-Agent: pan.baidu.com\" --header \"Cookie: BDUSS=FCc3h4c0JXclc0NnpoaVlTSVYxY1hnT2p1Sk5aOVk1ckI2fjBISWJLMzZ0ejVqSVFBQUFBJCQAAAAAAAAAAAEAAACoM9eDvdxzZW7A97qmAAAAAAAAAAAAAAAAAAAAAAAAAAAAAAAAAAAAAAAAAAAAAAAAAAAAAAAAAAAAAAAAAAAAAAAAAPoqF2P6KhdjYk\""
   ]
  },
  {
   "cell_type": "code",
   "execution_count": null,
   "id": "5e3a0651",
   "metadata": {},
   "outputs": [],
   "source": []
  }
 ],
 "metadata": {
  "kernelspec": {
   "display_name": "Python [conda env:PyG] *",
   "language": "python",
   "name": "conda-env-PyG-py"
  },
  "language_info": {
   "codemirror_mode": {
    "name": "ipython",
    "version": 3
   },
   "file_extension": ".py",
   "mimetype": "text/x-python",
   "name": "python",
   "nbconvert_exporter": "python",
   "pygments_lexer": "ipython3",
   "version": "3.8.13"
  }
 },
 "nbformat": 4,
 "nbformat_minor": 5
}
