{
 "cells": [
  {
   "cell_type": "markdown",
   "metadata": {},
   "source": [
    "# Build a Question Answering System Engine\n",
    "In this example we will be going over the code used to build a question answering system. This example uses a modified BERT model to extract features from questions and Milvus to search for similar questions and answers. "
   ]
  },
  {
   "cell_type": "markdown",
   "metadata": {},
   "source": [
    "## Prepare"
   ]
  },
  {
   "cell_type": "markdown",
   "metadata": {},
   "source": [
    "### Install dependencies"
   ]
  },
  {
   "cell_type": "code",
   "execution_count": 15,
   "metadata": {},
   "outputs": [],
   "source": [
    "# ! pip install -r requirements.txt"
   ]
  },
  {
   "cell_type": "markdown",
   "metadata": {},
   "source": [
    "### Start Milvus Server"
   ]
  },
  {
   "cell_type": "markdown",
   "metadata": {},
   "source": [
    "Uncomment following cell if you haven't start milvus server yet."
   ]
  },
  {
   "cell_type": "code",
   "execution_count": 16,
   "metadata": {},
   "outputs": [],
   "source": [
    "# ! wget https://raw.githubusercontent.com/milvus-io/milvus/master/deployments/docker/standalone/docker-compose.yml -O docker-compose.yml\n",
    "# ! docker-compose up -d"
   ]
  },
  {
   "cell_type": "markdown",
   "metadata": {},
   "source": [
    "### Check running servers"
   ]
  },
  {
   "cell_type": "code",
   "execution_count": 17,
   "metadata": {},
   "outputs": [
    {
     "name": "stdout",
     "output_type": "stream",
     "text": [
      "      Name                 Command             State               Ports        \n",
      "--------------------------------------------------------------------------------\n",
      "milvus-etcd         etcd -advertise-        Up             2379/tcp, 2380/tcp   \n",
      "                    client-url ...                                              \n",
      "milvus-minio        /usr/bin/docker-        Up (healthy)   9000/tcp             \n",
      "                    entrypoint ...                                              \n",
      "milvus-standalone   /tini -- milvus run     Up             0.0.0.0:19530->19530/\n",
      "                    standalone                             tcp                  \n"
     ]
    }
   ],
   "source": [
    "! docker-compose ps"
   ]
  },
  {
   "cell_type": "markdown",
   "metadata": {},
   "source": [
    "## Core Code"
   ]
  },
  {
   "cell_type": "markdown",
   "metadata": {},
   "source": [
    "### Connect to Serves"
   ]
  },
  {
   "cell_type": "code",
   "execution_count": 18,
   "metadata": {},
   "outputs": [],
   "source": [
    "from pymilvus import connections, FieldSchema, CollectionSchema, DataType, Collection, utility\n",
    "\n",
    "connections.connect(host='localhost', port='19530')"
   ]
  },
  {
   "cell_type": "markdown",
   "metadata": {},
   "source": [
    "### Create Milvus Collection with index"
   ]
  },
  {
   "cell_type": "markdown",
   "metadata": {},
   "source": [
    "A collection in Milvus is similar to a table in a relational database, where users store the vectors.\n",
    "\n",
    "Each collection has its owb Schema, which in this case includes two fields `id` and `embedding`:\n",
    "- `id`: The id of the inserted data\n",
    "- `embedding`: The embedding of the text\n",
    "\n",
    "In this case we assign an `IVF_FLAT` index to the collection before inserting data. The indexes will be generated once the data is inserted."
   ]
  },
  {
   "cell_type": "code",
   "execution_count": 19,
   "metadata": {},
   "outputs": [],
   "source": [
    "def create_collection(collection_name, dim):\n",
    "    if utility.has_collection(collection_name):\n",
    "        collection = Collection(name=collection_name)\n",
    "        collection.drop()\n",
    "\n",
    "    field1 = FieldSchema(name=\"id\", dtype=DataType.INT64, descrition=\"ids\", is_primary=True, auto_id=False)\n",
    "    field2 = FieldSchema(name=\"embedding\", dtype=DataType.FLOAT_VECTOR, descrition=\"float vector\",dim=dim, is_primary=False)\n",
    "    schema = CollectionSchema(fields=[field1, field2], description=\"collection description\")\n",
    "    collection = Collection(name=collection_name, schema=schema)\n",
    "\n",
    "    index_params = {\n",
    "        \"index_type\": \"IVF_FLAT\",\n",
    "        \"metric_type\": 'IP',\n",
    "        \"params\": {\"nlist\": 200}\n",
    "    }\n",
    "    collection.create_index(field_name=\"embedding\", index_params=index_params)\n",
    "\n",
    "    return collection"
   ]
  },
  {
   "cell_type": "code",
   "execution_count": 20,
   "metadata": {},
   "outputs": [],
   "source": [
    "collection = create_collection('question_answering', 768)"
   ]
  },
  {
   "cell_type": "markdown",
   "metadata": {},
   "source": [
    "### Generate embedding and insert into collection"
   ]
  },
  {
   "cell_type": "markdown",
   "metadata": {},
   "source": [
    "We use [Towhee](https://towhee.io/), a machine learning framework to create ata processing pipelines within a few lines of code. Apart from pre-trained deep learning models and data processing operators, [Towhee](https://towhee.io/) also provides insert and query operators in Milvus."
   ]
  },
  {
   "cell_type": "code",
   "execution_count": 21,
   "metadata": {},
   "outputs": [],
   "source": [
    "import towhee"
   ]
  },
  {
   "cell_type": "code",
   "execution_count": 22,
   "metadata": {},
   "outputs": [],
   "source": [
    "dc = (\n",
    "\ttowhee.read_csv('qa.csv')\n",
    "\t\t.runas_op['id', 'id'](func=lambda x: int(x))\n",
    "\t\t.text_embedding.dpr['question', 'qvec'](model_name=\"facebook/dpr-ctx_encoder-single-nq-base\")\n",
    "\t\t.runas_op['qvec', 'qvec'](func=lambda x: x.squeeze(0))\n",
    "\t\t.tensor_normalize['qvec', 'qvec']()\n",
    "\t\t.to_milvus['id', 'qvec'](collection=collection)\n",
    ")"
   ]
  },
  {
   "cell_type": "code",
   "execution_count": 23,
   "metadata": {},
   "outputs": [
    {
     "data": {
      "text/html": [
       "<table style=\"border-collapse: collapse;\"><tr><th style=\"text-align: center; font-size: 130%; border: none;\">id</th> <th style=\"text-align: center; font-size: 130%; border: none;\">question</th> <th style=\"text-align: center; font-size: 130%; border: none;\">answer</th> <th style=\"text-align: center; font-size: 130%; border: none;\">qvec</th></tr> <tr><td style=\"text-align: center; vertical-align: center; border-right: solid 1px #D3D3D3; border-left: solid 1px #D3D3D3; \">0</td> <td style=\"text-align: center; vertical-align: center; border-right: solid 1px #D3D3D3; border-left: solid 1px #D3D3D3; \">Is  Disability  Insurance  Requi...</td> <td style=\"text-align: center; vertical-align: center; border-right: solid 1px #D3D3D3; border-left: solid 1px #D3D3D3; \"> Not generally. There are five s...</td> <td style=\"text-align: left; vertical-align: center; border-right: solid 1px #D3D3D3; border-left: solid 1px #D3D3D3; \">[0.06599887, 0.011836695, 0.02264631, ...] shape=(768,)</td></tr> <tr><td style=\"text-align: center; vertical-align: center; border-right: solid 1px #D3D3D3; border-left: solid 1px #D3D3D3; \">1</td> <td style=\"text-align: center; vertical-align: center; border-right: solid 1px #D3D3D3; border-left: solid 1px #D3D3D3; \">Can  Creditors  Take  Life  Insu...</td> <td style=\"text-align: center; vertical-align: center; border-right: solid 1px #D3D3D3; border-left: solid 1px #D3D3D3; \"> If the person who passed away w...</td> <td style=\"text-align: left; vertical-align: center; border-right: solid 1px #D3D3D3; border-left: solid 1px #D3D3D3; \">[0.007935313, -0.012593831, 0.020739755, ...] shape=(768,)</td></tr> <tr><td style=\"text-align: center; vertical-align: center; border-right: solid 1px #D3D3D3; border-left: solid 1px #D3D3D3; \">2</td> <td style=\"text-align: center; vertical-align: center; border-right: solid 1px #D3D3D3; border-left: solid 1px #D3D3D3; \">Does  Travelers  Insurance  Have...</td> <td style=\"text-align: center; vertical-align: center; border-right: solid 1px #D3D3D3; border-left: solid 1px #D3D3D3; \"> One of the insurance carriers I...</td> <td style=\"text-align: left; vertical-align: center; border-right: solid 1px #D3D3D3; border-left: solid 1px #D3D3D3; \">[0.06452476, 0.028823059, 0.027821207, ...] shape=(768,)</td></tr> <tr><td style=\"text-align: center; vertical-align: center; border-right: solid 1px #D3D3D3; border-left: solid 1px #D3D3D3; \">3</td> <td style=\"text-align: center; vertical-align: center; border-right: solid 1px #D3D3D3; border-left: solid 1px #D3D3D3; \">Can  I  Drive  A  New  Car  Home...</td> <td style=\"text-align: center; vertical-align: center; border-right: solid 1px #D3D3D3; border-left: solid 1px #D3D3D3; \"> Most auto dealers will not let ...</td> <td style=\"text-align: left; vertical-align: center; border-right: solid 1px #D3D3D3; border-left: solid 1px #D3D3D3; \">[0.030032441, 0.033972304, 0.012397564, ...] shape=(768,)</td></tr> <tr><td style=\"text-align: center; vertical-align: center; border-right: solid 1px #D3D3D3; border-left: solid 1px #D3D3D3; \">4</td> <td style=\"text-align: center; vertical-align: center; border-right: solid 1px #D3D3D3; border-left: solid 1px #D3D3D3; \">Is  The  Cash  Surrender  Value ...</td> <td style=\"text-align: center; vertical-align: center; border-right: solid 1px #D3D3D3; border-left: solid 1px #D3D3D3; \"> Cash surrender value comes only...</td> <td style=\"text-align: left; vertical-align: center; border-right: solid 1px #D3D3D3; border-left: solid 1px #D3D3D3; \">[0.015002071, -0.0010270709, 0.001804623, ...] shape=(768,)</td></tr></table>"
      ],
      "text/plain": [
       "<IPython.core.display.HTML object>"
      ]
     },
     "metadata": {},
     "output_type": "display_data"
    },
    {
     "data": {
      "text/plain": [
       "99"
      ]
     },
     "execution_count": 23,
     "metadata": {},
     "output_type": "execute_result"
    }
   ],
   "source": [
    "dc.show()\n",
    "collection.num_entities"
   ]
  },
  {
   "cell_type": "markdown",
   "metadata": {},
   "source": [
    "### Search"
   ]
  },
  {
   "cell_type": "markdown",
   "metadata": {},
   "source": [
    "When searching for answers for a query, we first turn the query into an embedding followiing the same procedure. Then search the similar embeddings from collection and find the corresponding answer."
   ]
  },
  {
   "cell_type": "code",
   "execution_count": 24,
   "metadata": {},
   "outputs": [],
   "source": [
    "id_answer = {}\n",
    "for i in dc:\n",
    "\tid_answer[i.id] = i.answer "
   ]
  },
  {
   "cell_type": "code",
   "execution_count": 25,
   "metadata": {},
   "outputs": [],
   "source": [
    "from towhee import Entity\n",
    "queries = ['What is AAA?']\n",
    "search_params = {\"metric_type\": 'IP', \"params\": {\"nprobe\": 16}}\n",
    "\n",
    "dc = (\n",
    "\ttowhee.DataFrame([Entity(query=query) for query in queries])\n",
    "\t\t.text_embedding.dpr['query', 'qvec'](model_name=\"facebook/dpr-ctx_encoder-single-nq-base\")\n",
    "\t\t.runas_op['qvec', 'qvec'](func=lambda x: x.squeeze(0))\n",
    "\t\t.tensor_normalize['qvec', 'qvec']()\n",
    "\t\t.milvus_search['qvec', 'results'](collection=collection, anns_field=\"embedding\", param=search_params, limit=5)\n",
    "\t\t.runas_op['results', 'answers'](func=lambda res: [id_answer[x.id] for x in res])\n",
    "\t\t# .runas_op['results', 'answers'](func = lambda x: [{'answer': data[i.id], 'scores': i.score} for i in x])\n",
    "\t\t.select['query', 'answers']()\n",
    ")"
   ]
  },
  {
   "cell_type": "code",
   "execution_count": 26,
   "metadata": {},
   "outputs": [
    {
     "data": {
      "text/html": [
       "<table style=\"border-collapse: collapse;\"><tr><th style=\"text-align: center; font-size: 130%; border: none;\">query</th> <th style=\"text-align: center; font-size: 130%; border: none;\">answers</th></tr> <tr><td style=\"text-align: center; vertical-align: center; border-right: solid 1px #D3D3D3; border-left: solid 1px #D3D3D3; \">What is AAA?</td> <td style=\"text-align: center; vertical-align: center; border-right: solid 1px #D3D3D3; border-left: solid 1px #D3D3D3; \">[ AAA Home insurance, like all ot..., It is important to talk to your..., Ultrasound exams are usually a ..., A renter's insurance policy cov...,...] len=5</td></tr></table>"
      ],
      "text/plain": [
       "<IPython.core.display.HTML object>"
      ]
     },
     "metadata": {},
     "output_type": "display_data"
    }
   ],
   "source": [
    "dc.show()"
   ]
  },
  {
   "cell_type": "code",
   "execution_count": 27,
   "metadata": {},
   "outputs": [
    {
     "data": {
      "text/plain": [
       "[' AAA Home insurance, like all other major carriers, covers a wide variety of claims, including fire, theft, vandalism, and many other items. However, there are numerous types of policies offered, so it is best to determine the type of policy you have to accurately understand all of the benefits. An experienced broker can help.',\n",
       " ' It is important to talk to your insurance professional about the specific terms and conditions of your policy, but generally speaking, theft is a named covered peril in most Home Insurance policies. This would include theft of your personal property from within your home of course, but also includes theft of your property outside of your home. Personal property outside of your home is usually covered up to 10% of the total personal property amount listed in your policy. If covered, the loss settlement would be subject to your deductible. The claims specialist will also be looking for a copy or a police report.',\n",
       " ' Ultrasound exams are usually a few hundred dollars when you have health insurance. The Health Care Blue Book shows a price of $158 for an abdominal ultrasound including physician fees. Ultrasound on other body parts may be more or less. You should ask your doctor about costs in advance and negotiate an acceptable rate.',\n",
       " \" A renter's insurance policy covers your personal property when you do not own the residence you occupy. It also covers your liability, medical payments to others, additional living expenses and numerous other items. Typically, the cost is fairly cheap and an experienced broker in your area can easily compare the best plans for you.\",\n",
       " \" That's kind of a tough question to answer becuase many homeowners policies cover a multitude of things. In general terms if you house catches on fire, is broken into, is damaged by wind hail or lightning, your pipes burst, some body trips and falls on your proprty and gets hurt you could have a claims situation on your homeowners policy. This is just scratching the surface as every policy is different in every state. Most carriers add in a bunch of extra coverages too. To truly know what your homeowners policy covers, you need to do two things 1) Call you local independent agent and discuss you policy with them 2) Actually read your policy. I know reading a legal contract is your idea of fun night curled up by the fire, but it is in your best interest to actually read your entire policy, know what it includes and excludes and ask your agent about things you have questions on....\"]"
      ]
     },
     "execution_count": 27,
     "metadata": {},
     "output_type": "execute_result"
    }
   ],
   "source": [
    "dc[0].answers"
   ]
  },
  {
   "cell_type": "markdown",
   "metadata": {},
   "source": [
    "### Gradio"
   ]
  },
  {
   "cell_type": "markdown",
   "metadata": {},
   "source": [
    "Here is a gradio interface you can play with, type your questions and get the answer."
   ]
  },
  {
   "cell_type": "code",
   "execution_count": 28,
   "metadata": {},
   "outputs": [
    {
     "name": "stdout",
     "output_type": "stream",
     "text": [
      "Running on local URL:  http://127.0.0.1:7861/\n",
      "Running on public URL: https://53059.gradio.app\n",
      "\n",
      "This share link expires in 72 hours. For free permanent hosting, check out Spaces (https://huggingface.co/spaces)\n"
     ]
    },
    {
     "data": {
      "text/html": [
       "\n",
       "        <iframe\n",
       "            width=\"900\"\n",
       "            height=\"500\"\n",
       "            src=\"https://53059.gradio.app\"\n",
       "            frameborder=\"0\"\n",
       "            allowfullscreen\n",
       "        ></iframe>\n",
       "        "
      ],
      "text/plain": [
       "<IPython.lib.display.IFrame at 0x7ff4c384b2b0>"
      ]
     },
     "metadata": {},
     "output_type": "display_data"
    },
    {
     "data": {
      "text/plain": [
       "(<gradio.routes.App at 0x7ff4684631c0>,\n",
       " 'http://127.0.0.1:7861/',\n",
       " 'https://53059.gradio.app')"
      ]
     },
     "execution_count": 28,
     "metadata": {},
     "output_type": "execute_result"
    }
   ],
   "source": [
    "import gradio\n",
    "\n",
    "def chat(message, history):\n",
    "    history = history or []\n",
    "    with towhee.api() as api:\n",
    "           qa_function = (\n",
    "                api.text_embedding.dpr(model_name=\"facebook/dpr-ctx_encoder-single-nq-base\")\n",
    "                    .runas_op(func=lambda x: x.squeeze(0))\n",
    "                    .tensor_normalize()\n",
    "                    .milvus_search(collection='question_answering', limit=3)\n",
    "                    .runas_op(func=lambda res: [id_answer[x.id]+'\\n' for x in res])\n",
    "                    .as_function()\n",
    "            )\n",
    "    response = qa_function(message)[0]\n",
    "    history.append((message, response))\n",
    "    return history, history\n",
    "\n",
    "chatbot = gradio.Chatbot(color_map=(\"green\", \"gray\"))\n",
    "interface = gradio.Interface(\n",
    "    chat,\n",
    "    [\"text\", \"state\"],\n",
    "    [chatbot, \"state\"],\n",
    "    allow_screenshot=False,\n",
    "    allow_flagging=\"never\",\n",
    ")\n",
    "interface.launch(inline=True, share=True)"
   ]
  }
 ],
 "metadata": {
  "interpreter": {
   "hash": "f7dd10cdbe9a9c71f7e71741efd428241b5f9fa0fecdd29ae07a5706cd5ff8a2"
  },
  "kernelspec": {
   "display_name": "Python 3.8.5 ('base')",
   "language": "python",
   "name": "python3"
  },
  "language_info": {
   "codemirror_mode": {
    "name": "ipython",
    "version": 3
   },
   "file_extension": ".py",
   "mimetype": "text/x-python",
   "name": "python",
   "nbconvert_exporter": "python",
   "pygments_lexer": "ipython3",
   "version": "3.8.5"
  },
  "orig_nbformat": 4
 },
 "nbformat": 4,
 "nbformat_minor": 2
}
